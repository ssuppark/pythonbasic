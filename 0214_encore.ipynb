{
 "cells": [
  {
   "cell_type": "code",
   "execution_count": null,
   "id": "c75df254-ce82-465f-99d6-0ca003b02ee5",
   "metadata": {},
   "outputs": [],
   "source": [
    "#"
   ]
  },
  {
   "cell_type": "code",
   "execution_count": 7,
   "id": "0e360d6b-e25e-483d-ae7f-659f601b7a3c",
   "metadata": {},
   "outputs": [
    {
     "name": "stdout",
     "output_type": "stream",
     "text": [
      "n\n"
     ]
    }
   ],
   "source": [
    "word='python'\n",
    "print(word[-1])#012345, \n",
    "#음수는 뒤에서부터 셉다\n",
    "#-1-2-3-4-5-6"
   ]
  },
  {
   "cell_type": "markdown",
   "id": "de9bcc66-8b82-4db4-be76-8e5a4e9ebf88",
   "metadata": {},
   "source": [
    "리스트는 대괄호로 해서 각각의 요소들 적어줌.\n",
    "\n",
    "#[1,2,30, '콜라', 등등] -> 여러 자료형들 가능, 요소들이 콤마로 구분됨. 0부터 인덱시잉 이뤄지고 \n",
    "\n",
    "튜플: 소괄호로 여닫이. \n"
   ]
  },
  {
   "cell_type": "markdown",
   "id": "d87a0f76-54bc-4945-9f66-6802a05b3a43",
   "metadata": {},
   "source": [
    "## 인덱싱"
   ]
  },
  {
   "cell_type": "code",
   "execution_count": 11,
   "id": "efb9f8a7-5604-4512-b5e3-4cc3ba3d35ac",
   "metadata": {},
   "outputs": [
    {
     "name": "stdout",
     "output_type": "stream",
     "text": [
      "꺾\n"
     ]
    }
   ],
   "source": [
    "sentence='중요한 것은 꺾이지 않는 마음'\n",
    "#print(sentence[7])\n",
    "print(sentence[-9])"
   ]
  },
  {
   "cell_type": "markdown",
   "id": "f4e6f28c-d1ad-412d-9254-31c8b92f5e66",
   "metadata": {},
   "source": [
    "## 슬라이싱"
   ]
  },
  {
   "cell_type": "markdown",
   "id": "c671caca-7286-445d-ac12-f7844d3ffaab",
   "metadata": {},
   "source": [
    "대괄호는 동일\n",
    "대신 [시작인덱스:끝 인덱스] 형태로 작성함. [0:2]라고 하면 -> 0이상 2미만을 일컫는 것임. "
   ]
  },
  {
   "cell_type": "code",
   "execution_count": null,
   "id": "f82b532f-6882-4ae5-92c6-a75ba693b9f7",
   "metadata": {},
   "outputs": [],
   "source": [
    "word ='python'\n",
    "print(word[0:2])\n",
    "print(word[:-4])\n",
    "print(word[4:6])\n",
    "#슬라이싱은 뒤에 부분을 포함하지 않기때문에 훨씬 유도리있음. 유연함. 그래서 범위를 이탈해도 끝부분의 경우(?) 허용적인 성격"
   ]
  },
  {
   "cell_type": "code",
   "execution_count": 14,
   "id": "5411d0d9-6bc2-4456-9632-5dde92805644",
   "metadata": {},
   "outputs": [
    {
     "name": "stdout",
     "output_type": "stream",
     "text": [
      "nhy\n"
     ]
    }
   ],
   "source": [
    "#[시작숫자(이상):끝 숫자(미만):증감 크기]\n",
    "print(word[::-2])#시작, 끝 숫자 생략되어있지 그러면 처음부터 두개씩 증가하는 방식임. "
   ]
  },
  {
   "cell_type": "code",
   "execution_count": 15,
   "id": "18adf7cf-9d53-4566-ab67-b5c952656b12",
   "metadata": {},
   "outputs": [
    {
     "name": "stdout",
     "output_type": "stream",
     "text": [
      "\n",
      "한 것은 꺾이지 않는 마음\n"
     ]
    }
   ],
   "source": [
    "sentence='중요한 것은 꺾이지 않는 마음'\n",
    "print(sentence[42:])#에러는 안나지만 해당되는것이 없어 아무것도 나오지 않음. \n",
    "print(sentence[2:42])#얘는 나옴. "
   ]
  },
  {
   "cell_type": "code",
   "execution_count": 20,
   "id": "0f88ca84-bba3-4d74-bab6-3d702508e0a8",
   "metadata": {},
   "outputs": [
    {
     "name": "stdout",
     "output_type": "stream",
     "text": [
      "꺾이지 않는 마음\n",
      "꺾이지 않는 마음\n"
     ]
    }
   ],
   "source": [
    "sentence='중요한 것은 꺾이지 않는 마음'\n",
    "print(sentence[7:])\n",
    "print(sentence[7:16])"
   ]
  },
  {
   "cell_type": "code",
   "execution_count": 52,
   "id": "ea03a5ed-5138-4811-8605-86222122a262",
   "metadata": {},
   "outputs": [
    {
     "name": "stdout",
     "output_type": "stream",
     "text": [
      "한요중\n"
     ]
    }
   ],
   "source": [
    "sentence='중요한 것은 꺾이지 않는 마음'\n",
    "print(sentence[2::-1])\n",
    "#print(sentence[-14:-16:-1])#or sentence[-14::-1]\n",
    "#sentence[:3][::-1]\n"
   ]
  },
  {
   "cell_type": "code",
   "execution_count": 54,
   "id": "1eb3c089-7d59-465c-b70a-c937a545dc4d",
   "metadata": {},
   "outputs": [
    {
     "name": "stdout",
     "output_type": "stream",
     "text": [
      "대단한 것은 꺾이지 않는 마음\n"
     ]
    }
   ],
   "source": [
    "#문자열은 불변의 측징을 갖고 있음. 즉, 문자열을 인덱스로 접근하여 변경 불가임. sentence[0]='한' -> 0의 위치에 한을 넣고 싶다! 안됨. 불가능함. 즉, 재할당이 불가능함.\n",
    "#슬라이싱으로도 문자열은 값을 변경할 수 없음. \n",
    "#문자열을 변경하고 싶을때에는 새로운 걸 만들어서 벼수값에 다시 할당해서 변경해야함. \n",
    "sentence='대단한'+sentence[3:]\n",
    "print(sentence)\n",
    "#기존것을 변경하는 것은 안되고 새롭게 값을 변경해야하겠구나~임. "
   ]
  },
  {
   "cell_type": "code",
   "execution_count": 55,
   "id": "74bde47f-317d-4bcb-b67e-6de63929cc9a",
   "metadata": {},
   "outputs": [
    {
     "name": "stdout",
     "output_type": "stream",
     "text": [
      "재밌어요재밌어요재밌어요재밌어요재밌어요재밌어요재밌어요재밌어요재밌어요재밌어요\n",
      "40\n"
     ]
    }
   ],
   "source": [
    "#시퀀스는 크기가 제각각임. 크기를 알아내는 방법이란? -> LEN()함수. \n",
    "s7='재밌어요'*10\n",
    "print(s7)\n",
    "print(len(s7))"
   ]
  },
  {
   "cell_type": "markdown",
   "id": "1587b7d3-e8ec-4ca1-aec0-61356e8cc2fb",
   "metadata": {},
   "source": [
    "## 리스트"
   ]
  },
  {
   "cell_type": "code",
   "execution_count": null,
   "id": "d43f8696-60f7-4e91-a8ef-6f65afa11c2d",
   "metadata": {},
   "outputs": [],
   "source": [
    "리스트는 여러가지 자료형들이 들어갈 수 있어서 가장 융통성 있는 자료형 중 하나임. \n",
    "가변의 특성을 앚고 있어 수정이 용이함. \n",
    "+) 파이썬 리스트는 다른 언어의 배열 (array)와 차이가 있음. \n"
   ]
  },
  {
   "cell_type": "code",
   "execution_count": 61,
   "id": "122ac6b0-ba56-41a2-b800-6d03697e36c8",
   "metadata": {},
   "outputs": [
    {
     "data": {
      "text/plain": [
       "[1, 4, 9, 16, 25]"
      ]
     },
     "execution_count": 61,
     "metadata": {},
     "output_type": "execute_result"
    }
   ],
   "source": [
    "squares=[1**2,2**2,3**2,4**2,5**2]\n",
    "squares"
   ]
  },
  {
   "cell_type": "code",
   "execution_count": 57,
   "id": "2d985008-d558-41dd-9728-e9721c8728ca",
   "metadata": {},
   "outputs": [
    {
     "data": {
      "text/plain": [
       "list"
      ]
     },
     "execution_count": 57,
     "metadata": {},
     "output_type": "execute_result"
    }
   ],
   "source": [
    "type(squares) #변수 자료형 확인"
   ]
  },
  {
   "cell_type": "code",
   "execution_count": 63,
   "id": "f795b2fe-f66a-4ea4-be9b-00e09bcfedf8",
   "metadata": {},
   "outputs": [
    {
     "name": "stdout",
     "output_type": "stream",
     "text": [
      "1\n",
      "25\n"
     ]
    }
   ],
   "source": [
    "print(squares[0])\n",
    "print(squares[-1])"
   ]
  },
  {
   "cell_type": "code",
   "execution_count": 65,
   "id": "9ff66083-4cd5-4705-94a4-0de0b51a9707",
   "metadata": {},
   "outputs": [
    {
     "name": "stdout",
     "output_type": "stream",
     "text": [
      "[9, 16, 25]\n"
     ]
    }
   ],
   "source": [
    "#슬라이싱을 통해 해당하는 항목을 반환받는다. \n",
    "print(squares[-3:])# 뒤에서부터 3번째부터 끝까지"
   ]
  },
  {
   "cell_type": "code",
   "execution_count": 66,
   "id": "48cc105a-5e0a-4189-baa3-287f63840b86",
   "metadata": {},
   "outputs": [
    {
     "name": "stdout",
     "output_type": "stream",
     "text": [
      "[1, 4, 9, 16, 25, 36, 49, 64, 81, 100]\n"
     ]
    }
   ],
   "source": [
    "# +를 통해 이어불일 수 있습니다. \n",
    "print(squares + [36,49,64,81,100])"
   ]
  },
  {
   "cell_type": "code",
   "execution_count": 67,
   "id": "4da4048f-1b96-4ffc-8435-10acb2e0fcf7",
   "metadata": {},
   "outputs": [
    {
     "name": "stdout",
     "output_type": "stream",
     "text": [
      "['a', 'b', 'c', 'd', 'e', 'a', 'b', 'c', 'd', 'e', 'a', 'b', 'c', 'd', 'e']\n"
     ]
    }
   ],
   "source": [
    "#리스트는 곱하기를 통해 요소를 반복할 수 있다. \n",
    "letters=['a', 'b', 'c', 'd', 'e']\n",
    "print(letters * 3)"
   ]
  },
  {
   "cell_type": "code",
   "execution_count": 70,
   "id": "219aa432-a249-4a70-90df-30b48cfebca6",
   "metadata": {},
   "outputs": [
    {
     "name": "stdout",
     "output_type": "stream",
     "text": [
      "[1, 8, 27, 64, 125]\n"
     ]
    }
   ],
   "source": [
    "cubes=[1,8,27,64,125]\n",
    "cubes[3]=4**3\n",
    "print(cubes)"
   ]
  },
  {
   "cell_type": "code",
   "execution_count": 71,
   "id": "e5e51758-c99c-4129-b9aa-d84cbebe403f",
   "metadata": {},
   "outputs": [
    {
     "name": "stdout",
     "output_type": "stream",
     "text": [
      "['a', 'b', 'C', 'D', 'E']\n"
     ]
    }
   ],
   "source": [
    "letters[2:5]=['C', 'D', 'E']\n",
    "print(letters)"
   ]
  },
  {
   "cell_type": "code",
   "execution_count": 72,
   "id": "0c480da1-e544-4dd1-a5a4-64f080a53614",
   "metadata": {},
   "outputs": [
    {
     "name": "stdout",
     "output_type": "stream",
     "text": [
      "5\n"
     ]
    }
   ],
   "source": [
    "print(len(letters))"
   ]
  },
  {
   "cell_type": "code",
   "execution_count": 73,
   "id": "f010ab63-4d1e-4ab3-8728-4a9cfcf62cf1",
   "metadata": {},
   "outputs": [
    {
     "name": "stdout",
     "output_type": "stream",
     "text": [
      "[['a', 'b', 'c'], [1, 2, 3]]\n"
     ]
    }
   ],
   "source": [
    "#리스트안에 리스트\n",
    "a=['a','b','c']\n",
    "n=[1,2,3]\n",
    "x=[a,n]\n",
    "print(x)"
   ]
  },
  {
   "cell_type": "code",
   "execution_count": 74,
   "id": "c8e44f42-abab-42db-b73a-c4eefe3d2ca4",
   "metadata": {},
   "outputs": [
    {
     "name": "stdout",
     "output_type": "stream",
     "text": [
      "['a', 'b', 'c']\n"
     ]
    }
   ],
   "source": [
    "print(x[0])"
   ]
  },
  {
   "cell_type": "code",
   "execution_count": 75,
   "id": "deca6cb9-bea1-4b7b-a81e-3745b7d4b506",
   "metadata": {},
   "outputs": [
    {
     "name": "stdout",
     "output_type": "stream",
     "text": [
      "b\n"
     ]
    }
   ],
   "source": [
    "print(x[0][1])"
   ]
  },
  {
   "cell_type": "code",
   "execution_count": 77,
   "id": "b3e25e50-af1f-49e2-a149-62510931009e",
   "metadata": {},
   "outputs": [
    {
     "name": "stdout",
     "output_type": "stream",
     "text": [
      "True\n",
      "False\n"
     ]
    }
   ],
   "source": [
    "#시퀀스 지ㅏ료형은 in  이라는 키워드를 통해 내부 요소에 포함 여부를 확인할 수 있는 불린으로 결과 나옴\n",
    "numbers=[1,2,3,4,5,6,7]\n",
    "print(5 in numbers)\n",
    "print(10 in numbers)"
   ]
  },
  {
   "cell_type": "code",
   "execution_count": 89,
   "id": "4bb55fb1-ed89-4ba5-af92-9cb8d5b3cf2a",
   "metadata": {},
   "outputs": [
    {
     "data": {
      "text/plain": [
       "False"
      ]
     },
     "execution_count": 89,
     "metadata": {},
     "output_type": "execute_result"
    }
   ],
   "source": [
    "scores=[88,73, 89, 59, 77]\n",
    "#if문 쓰지 않을것. \n",
    "\n",
    "\n",
    "scores[0]>=60 and scores[1]>=60 and scores[2]>=60 and scores[3]>=60 and scores[4]>=60"
   ]
  },
  {
   "cell_type": "markdown",
   "id": "e4e66ecd-4e6b-4c02-bb78-58eaee425deb",
   "metadata": {},
   "source": [
    "## 함수"
   ]
  },
  {
   "cell_type": "code",
   "execution_count": null,
   "id": "2b8bf370-a7c4-41d6-91fa-bd29fe1b6991",
   "metadata": {},
   "outputs": [],
   "source": [
    "독립적으로 설계된 프로그램 코드의 집합으로 반복적인 코드양을 줄여 유지보수성을 높여줌\n",
    "반환타입이 있을수도 잇음. "
   ]
  },
  {
   "cell_type": "code",
   "execution_count": 90,
   "id": "3dbd64fc-7023-4748-988b-ac98487c2730",
   "metadata": {},
   "outputs": [
    {
     "ename": "SyntaxError",
     "evalue": "invalid syntax (1638527208.py, line 1)",
     "output_type": "error",
     "traceback": [
      "\u001b[1;36m  File \u001b[1;32m\"C:\\Users\\Playdata\\AppData\\Local\\Temp\\ipykernel_12228\\1638527208.py\"\u001b[1;36m, line \u001b[1;32m1\u001b[0m\n\u001b[1;33m    시퀀스???\u001b[0m\n\u001b[1;37m       ^\u001b[0m\n\u001b[1;31mSyntaxError\u001b[0m\u001b[1;31m:\u001b[0m invalid syntax\n"
     ]
    }
   ],
   "source": [
    "시퀀스???"
   ]
  },
  {
   "cell_type": "code",
   "execution_count": null,
   "id": "ab8b3787-f8e9-4d84-b165-9a45da6e7865",
   "metadata": {},
   "outputs": [],
   "source": [
    "메서드: 클래스 안에 있는 함수들\n"
   ]
  },
  {
   "cell_type": "markdown",
   "id": "1b8b4602-94ee-4a15-bf5a-df4488353cf9",
   "metadata": {},
   "source": [
    "## 리스트 메서드"
   ]
  },
  {
   "cell_type": "code",
   "execution_count": 98,
   "id": "7a68ed53-b219-4c7b-bcca-ef33ac6f389e",
   "metadata": {},
   "outputs": [
    {
     "ename": "SyntaxError",
     "evalue": "invalid syntax (2189543534.py, line 1)",
     "output_type": "error",
     "traceback": [
      "\u001b[1;36m  File \u001b[1;32m\"C:\\Users\\Playdata\\AppData\\Local\\Temp\\ipykernel_12228\\2189543534.py\"\u001b[1;36m, line \u001b[1;32m1\u001b[0m\n\u001b[1;33m    리스트(=객체 object).append(요소)-> 요소의 순서 맨 뒤로 추가.\u001b[0m\n\u001b[1;37m        ^\u001b[0m\n\u001b[1;31mSyntaxError\u001b[0m\u001b[1;31m:\u001b[0m invalid syntax\n"
     ]
    }
   ],
   "source": [
    "리스트(=객체 object).append(요소)-> 요소의 순서 맨 뒤로 추가. #반환 없음\n",
    "리스트.insert(인덱스,  요소)->인텍스 위치를 명시해서 넣어줌#반환 없음. \n",
    "리스트.extend(리스트)#반환없음\n",
    "\n",
    "리스트.remove(지우고 싶은 인자) #del 이랑 개념 비교해볼것. 약간 헷갈리기 시작함.#반환 없음\n",
    "리스트.pop()-> 리스트 제일 마지막 요소(-1)부분을 리스트에서 제거함. 제거한 요소는 반환해줌#반환 마지막 요소\n",
    "\n",
    "리스트.index(인자)-순서대로 인자와 요소가 같은 것을 찾음. 첫번째로 발견된 요소의 인덱스값을 반환함. #첫번째로 일치한 요소 인덱스 반환\n",
    "리스트.count(인자)-인자와 요소가 같은것을 찾아서 총 개수를 구해 반환함. #일치하는 요소의 총개수 반환\n",
    "\n",
    "리스트.sort() 리스트 요소를 오름차순으로 정렬함#sorted는 반환값을 줌. a=sorted(안에 정렬하고 싶은거 넣으면) 반환값을 받을 수 있음. .sort는 앞에것을 변형하는 형태임. #반환 없음\n",
    "리스트.reverse() 리스트 요소를 반대방향으로 뒤집어서 정렬함#반환 없음\n",
    "\n",
    "리스트.clear() 리스트의 모든 요소를 제거#반환 없음\n",
    "\n",
    "#반환하지 않는 애들은 대체로 아예 값을 그렇게 바꿔버린 것임. \n",
    "\n"
   ]
  },
  {
   "cell_type": "code",
   "execution_count": 91,
   "id": "d9a01458-cba3-47bd-be17-bff71218ccdc",
   "metadata": {},
   "outputs": [
    {
     "name": "stdout",
     "output_type": "stream",
     "text": [
      "[0, 1, 2, 3, 0, 4, 0, 5, 6, 7, 0]\n"
     ]
    }
   ],
   "source": [
    "numbers.insert(0,0)\n",
    "numbers.insert(4,0)\n",
    "numbers.insert(6,0)\n",
    "numbers.insert(len(numbers), 0)\n",
    "print(numbers)"
   ]
  },
  {
   "cell_type": "code",
   "execution_count": 93,
   "id": "4821f7f1-ae6d-4a25-831d-dc41694c15c0",
   "metadata": {},
   "outputs": [
    {
     "name": "stdout",
     "output_type": "stream",
     "text": [
      "[0, 1, 2, 3, 0, 4, 0, 5, 6, 7, 0, 9, 10, 11, 9, 10, 11]\n"
     ]
    }
   ],
   "source": [
    "numbers.extend([9,10,11])#extend는 뭉탱이를 붙이는거 append는 요소를 붙이는것. 그 차이임. \n",
    "print(numbers)"
   ]
  },
  {
   "cell_type": "code",
   "execution_count": 94,
   "id": "c62d16c3-19f3-4f79-8028-89b1e358297b",
   "metadata": {},
   "outputs": [
    {
     "name": "stdout",
     "output_type": "stream",
     "text": [
      "[1, 2, 3, 0, 4, 0, 5, 6, 7, 0, 9, 10, 11, 9, 10, 11]\n"
     ]
    }
   ],
   "source": [
    "numbers.remove(0)#0이 여러개라고 해도 제일 먼저 발견 된 것만 삭제하고 끝남.\n",
    "print(numbers)#반환값 없음."
   ]
  },
  {
   "cell_type": "code",
   "execution_count": 95,
   "id": "e31a1b1f-d035-4869-9596-08aaf2c70d6a",
   "metadata": {},
   "outputs": [
    {
     "name": "stdout",
     "output_type": "stream",
     "text": [
      "11\n"
     ]
    }
   ],
   "source": [
    "print(numbers.pop())#반환값 존재"
   ]
  },
  {
   "cell_type": "code",
   "execution_count": 96,
   "id": "dc126c4a-b677-4946-9dc7-cbbea4bd2f38",
   "metadata": {},
   "outputs": [
    {
     "name": "stdout",
     "output_type": "stream",
     "text": [
      "[1, 2, 3, 0, 4, 0, 5, 6, 7, 0, 9, 10, 11, 9, 10]\n"
     ]
    }
   ],
   "source": [
    "print(numbers)"
   ]
  },
  {
   "cell_type": "code",
   "execution_count": 97,
   "id": "7acc18cc-85e1-4b6f-b86c-dc525e9cb88f",
   "metadata": {},
   "outputs": [
    {
     "name": "stdout",
     "output_type": "stream",
     "text": [
      "3\n"
     ]
    }
   ],
   "source": [
    "print(numbers.index(0))#숫자 0의 인덱스가 3임."
   ]
  },
  {
   "cell_type": "code",
   "execution_count": 99,
   "id": "7a6a75fd-d370-48b2-85e5-978772ad5528",
   "metadata": {},
   "outputs": [
    {
     "name": "stdout",
     "output_type": "stream",
     "text": [
      "3\n"
     ]
    }
   ],
   "source": [
    "print(numbers.count(0))#숫자 0의 개수는 3개"
   ]
  },
  {
   "cell_type": "code",
   "execution_count": 102,
   "id": "1ffe6031-855a-4362-9654-6917960245da",
   "metadata": {},
   "outputs": [
    {
     "name": "stdout",
     "output_type": "stream",
     "text": [
      "[0, 0, 0, 1, 2, 3, 4, 5, 6, 7, 9, 9, 10, 10, 11]\n"
     ]
    }
   ],
   "source": [
    "numbers.sort()\n",
    "print(numbers)"
   ]
  },
  {
   "cell_type": "code",
   "execution_count": 103,
   "id": "303d8f03-a15f-46ec-9e5c-9547e154b22c",
   "metadata": {},
   "outputs": [
    {
     "name": "stdout",
     "output_type": "stream",
     "text": [
      "[8, 4, 2, 1, 2, 7]\n"
     ]
    }
   ],
   "source": [
    "reverse_test = [7,2,1,2,4,8]\n",
    "reverse_test.reverse()\n",
    "print(reverse_test)"
   ]
  },
  {
   "cell_type": "code",
   "execution_count": 105,
   "id": "3249801a-cbed-4d65-a209-62c6d5e82aa6",
   "metadata": {},
   "outputs": [
    {
     "name": "stdout",
     "output_type": "stream",
     "text": [
      "[3, 4, 5, 6, 7]\n",
      "7\n",
      "[3, 4, 5, 6]\n",
      "6\n",
      "5\n",
      "[3, 4]\n"
     ]
    }
   ],
   "source": [
    "## stack: last in first out 후입선출 구조. stack에서 자료를 꺼낼ㄲ때 pop()으로만 꺼내어 stack 자료구조처럼 활용하고 있음. \n",
    "\n",
    "stack=[3,4,5]\n",
    "stack.append(6)\n",
    "stack.append(7)\n",
    "print(stack)\n",
    "\n",
    "print(stack.pop())\n",
    "print(stack)\n",
    "print(stack.pop())\n",
    "print(stack.pop())\n",
    "print(stack)\n",
    "\n",
    "#함수도 stack의 구조를 가짐."
   ]
  },
  {
   "cell_type": "code",
   "execution_count": 106,
   "id": "a30a5889-c8f6-4111-bf2f-793f4a14050c",
   "metadata": {},
   "outputs": [
    {
     "name": "stdout",
     "output_type": "stream",
     "text": [
      "[]\n"
     ]
    }
   ],
   "source": [
    "numbers.clear()\n",
    "print(numbers)"
   ]
  },
  {
   "cell_type": "code",
   "execution_count": null,
   "id": "c3695a13-2039-414f-8e70-ae6b63a538ce",
   "metadata": {},
   "outputs": [],
   "source": [
    "튜플은 리스트와 같지만 불변이라는 점만 다름. \n",
    "소괄호 사이 요소들을 콤마로 구별함. 소괄호 생략 가능. \n",
    "튜플 변수면=(항목1, 항목2, 항목3, ,,,,)\n",
    "리스트는 대괄호 튜플은 소괄호. \n"
   ]
  },
  {
   "cell_type": "code",
   "execution_count": 107,
   "id": "06a7f1e3-23c4-4c7d-a475-dca75cfa50d2",
   "metadata": {},
   "outputs": [
    {
     "ename": "TypeError",
     "evalue": "'tuple' object does not support item assignment",
     "output_type": "error",
     "traceback": [
      "\u001b[1;31m---------------------------------------------------------------------------\u001b[0m",
      "\u001b[1;31mTypeError\u001b[0m                                 Traceback (most recent call last)",
      "\u001b[1;32m~\\AppData\\Local\\Temp\\ipykernel_12228\\1965774023.py\u001b[0m in \u001b[0;36m<module>\u001b[1;34m\u001b[0m\n\u001b[0;32m      1\u001b[0m \u001b[0mtuple_var\u001b[0m\u001b[1;33m=\u001b[0m\u001b[1;33m(\u001b[0m\u001b[1;36m1\u001b[0m\u001b[1;33m,\u001b[0m\u001b[1;36m2\u001b[0m\u001b[1;33m,\u001b[0m\u001b[1;36m3\u001b[0m\u001b[1;33m,\u001b[0m\u001b[1;36m4\u001b[0m\u001b[1;33m,\u001b[0m\u001b[1;36m10\u001b[0m\u001b[1;33m,\u001b[0m\u001b[1;34m'hello'\u001b[0m\u001b[1;33m)\u001b[0m\u001b[1;33m\u001b[0m\u001b[1;33m\u001b[0m\u001b[0m\n\u001b[1;32m----> 2\u001b[1;33m \u001b[0mtuple_var\u001b[0m\u001b[1;33m[\u001b[0m\u001b[1;36m0\u001b[0m\u001b[1;33m]\u001b[0m\u001b[1;33m=\u001b[0m\u001b[1;36m0\u001b[0m\u001b[1;33m\u001b[0m\u001b[1;33m\u001b[0m\u001b[0m\n\u001b[0m",
      "\u001b[1;31mTypeError\u001b[0m: 'tuple' object does not support item assignment"
     ]
    }
   ],
   "source": [
    "tuple_var=(1,2,3,4,10,'hello')#스네이크 뭘로 변수 만들었대..\n",
    "tuple_var[0]=0#수정불가 확인 간으"
   ]
  },
  {
   "cell_type": "code",
   "execution_count": 108,
   "id": "7e169025-61a6-4bdf-b636-e218c9242607",
   "metadata": {},
   "outputs": [
    {
     "ename": "TypeError",
     "evalue": "'tuple' object does not support item assignment",
     "output_type": "error",
     "traceback": [
      "\u001b[1;31m---------------------------------------------------------------------------\u001b[0m",
      "\u001b[1;31mTypeError\u001b[0m                                 Traceback (most recent call last)",
      "\u001b[1;32m~\\AppData\\Local\\Temp\\ipykernel_12228\\805131258.py\u001b[0m in \u001b[0;36m<module>\u001b[1;34m\u001b[0m\n\u001b[1;32m----> 1\u001b[1;33m \u001b[0mtuple_var\u001b[0m\u001b[1;33m[\u001b[0m\u001b[1;36m1\u001b[0m\u001b[1;33m:\u001b[0m\u001b[1;36m3\u001b[0m\u001b[1;33m]\u001b[0m\u001b[1;33m=\u001b[0m\u001b[1;33m[\u001b[0m\u001b[1;34m'음'\u001b[0m\u001b[1;33m,\u001b[0m\u001b[1;34m'오'\u001b[0m\u001b[1;33m]\u001b[0m\u001b[1;33m\u001b[0m\u001b[1;33m\u001b[0m\u001b[0m\n\u001b[0m",
      "\u001b[1;31mTypeError\u001b[0m: 'tuple' object does not support item assignment"
     ]
    }
   ],
   "source": [
    "tuple_var[1:3]=['음','오']#슬라이싱도 안됨."
   ]
  },
  {
   "cell_type": "code",
   "execution_count": 109,
   "id": "8932c44a-29bb-4da8-a1d9-af3f16884c44",
   "metadata": {},
   "outputs": [
    {
     "ename": "TypeError",
     "evalue": "'tuple' object doesn't support item deletion",
     "output_type": "error",
     "traceback": [
      "\u001b[1;31m---------------------------------------------------------------------------\u001b[0m",
      "\u001b[1;31mTypeError\u001b[0m                                 Traceback (most recent call last)",
      "\u001b[1;32m~\\AppData\\Local\\Temp\\ipykernel_12228\\289189757.py\u001b[0m in \u001b[0;36m<module>\u001b[1;34m\u001b[0m\n\u001b[1;32m----> 1\u001b[1;33m \u001b[1;32mdel\u001b[0m \u001b[0mtuple_var\u001b[0m\u001b[1;33m[\u001b[0m\u001b[1;36m1\u001b[0m\u001b[1;33m]\u001b[0m\u001b[1;33m\u001b[0m\u001b[1;33m\u001b[0m\u001b[0m\n\u001b[0m",
      "\u001b[1;31mTypeError\u001b[0m: 'tuple' object doesn't support item deletion"
     ]
    }
   ],
   "source": [
    "del tuple_var[1] 수정뿐만 아니라 del도 안됨. 튜플 특성상 지울수도 없다는 거임. 리스트의 경우 인덱싱해서 특정 부분을 지울수 있으나 튜플은 그렇지 않음. "
   ]
  },
  {
   "cell_type": "code",
   "execution_count": null,
   "id": "7f36b045-90dd-40bd-a108-16cf43f22d33",
   "metadata": {},
   "outputs": [],
   "source": [
    "소괄호 생략이 가능"
   ]
  },
  {
   "cell_type": "code",
   "execution_count": 110,
   "id": "32a151ff-beb0-4a21-9a86-a11b56501bb8",
   "metadata": {},
   "outputs": [
    {
     "name": "stdout",
     "output_type": "stream",
     "text": [
      "<class 'tuple'>\n",
      "('음', '오', '아', '예')\n"
     ]
    }
   ],
   "source": [
    "tup2='음', '오','아','예'\n",
    "print(type(tup2))\n",
    "print(tup2)#근데 소괄호 뺴고 하는거 거의 ㅊㅊ하지 않음. "
   ]
  },
  {
   "cell_type": "code",
   "execution_count": null,
   "id": "ad13a5d7-4ab7-4e52-b1f2-43d02f6864dc",
   "metadata": {},
   "outputs": [],
   "source": [
    "튜플은 왜 사용할까요?\n",
    "빨라서. 리스트는 크기 고려까지 해야하는데 튜플은 빠르게 생성이 가능하고 메모리 부담이 적다는 장점이 있음. \n",
    "증명해봅시다. "
   ]
  },
  {
   "cell_type": "code",
   "execution_count": 113,
   "id": "71598cb8-0bf7-4444-a983-b1ee5d4ed9c2",
   "metadata": {},
   "outputs": [
    {
     "name": "stdout",
     "output_type": "stream",
     "text": [
      "0.21618175506591797\n"
     ]
    }
   ],
   "source": [
    "import time\n",
    "\n",
    "start_time =time.time()#시작하는 시간\n",
    "test=[]\n",
    "\n",
    "#1000000번은 반복해서 tuple을 만듭니다. \n",
    "for _ in range(1_000_000):\n",
    "    tp=(_,_)#tuple\n",
    "    test.append(tp)\n",
    "    \n",
    "#끝나는 시간 - 시작하는 시간    \n",
    "print(time.time() - start_time)\n",
    "#동작한 시간"
   ]
  },
  {
   "cell_type": "code",
   "execution_count": 114,
   "id": "1ae28ff5-9ee3-446e-9d70-e224275a8d66",
   "metadata": {},
   "outputs": [
    {
     "name": "stdout",
     "output_type": "stream",
     "text": [
      "0.5424449443817139\n"
     ]
    }
   ],
   "source": [
    "import time\n",
    "\n",
    "start_time =time.time()\n",
    "test=[]\n",
    "for _ in range(1_000_000):\n",
    "    tp=[_,_]#list\n",
    "    test.append(tp)\n",
    "    \n",
    "print(time.time() - start_time)"
   ]
  },
  {
   "cell_type": "code",
   "execution_count": null,
   "id": "53e39651-5d4c-47ff-95d7-f0b46061b523",
   "metadata": {},
   "outputs": [],
   "source": [
    "unpacking\n",
    "시퀀스 자료형 크기만큼 변수의 개수를 선언해주면 각각 동시에 할당됨\n",
    "x1,x2=값1, 값2 -> 순서대로 대입됨. "
   ]
  },
  {
   "cell_type": "code",
   "execution_count": 115,
   "id": "1619ca83-dc64-4072-b590-56ea0a6126e9",
   "metadata": {},
   "outputs": [
    {
     "name": "stdout",
     "output_type": "stream",
     "text": [
      "text1\n",
      "text2\n"
     ]
    }
   ],
   "source": [
    "s1, s2=(\"text1\", \"text2\")\n",
    "print(s1)\n",
    "print(s2)"
   ]
  },
  {
   "cell_type": "code",
   "execution_count": 116,
   "id": "9ccae5a8-626d-430a-a1a1-b3452e38c62f",
   "metadata": {},
   "outputs": [
    {
     "name": "stdout",
     "output_type": "stream",
     "text": [
      "이렇게 리스트도 가능합니다\n"
     ]
    }
   ],
   "source": [
    "s3, s4, s5=['이렇게', '리스트도','가능합니다']\n",
    "print(s3,s4,s5)"
   ]
  },
  {
   "cell_type": "code",
   "execution_count": 117,
   "id": "85a46d20-59b5-4081-aeeb-ee80c45f0dde",
   "metadata": {},
   "outputs": [
    {
     "name": "stdout",
     "output_type": "stream",
     "text": [
      "문 자 열 도\n"
     ]
    }
   ],
   "source": [
    "s6,s7,s8,s9='문자열도'\n",
    "print(s6,s7,s8,s9)"
   ]
  },
  {
   "cell_type": "markdown",
   "id": "ef03430c-a34e-4875-9d16-914514d585f9",
   "metadata": {},
   "source": [
    "## 파이썬 입력 활용"
   ]
  },
  {
   "cell_type": "code",
   "execution_count": 118,
   "id": "7c73aceb-43b5-47c4-9a7f-e5e24375f239",
   "metadata": {},
   "outputs": [
    {
     "name": "stdin",
     "output_type": "stream",
     "text": [
      "message 1111\n"
     ]
    }
   ],
   "source": [
    "#input은 값을 모두 문자열로 받음\n",
    "#정수로 변환하고 싶으면 int(input_value) 하면 됨\n",
    "input_value=input(\"message\")#메시지 부분: argument"
   ]
  },
  {
   "cell_type": "code",
   "execution_count": 120,
   "id": "42796aef-cdfe-4eb8-8afd-f84fb61e029f",
   "metadata": {},
   "outputs": [
    {
     "name": "stdout",
     "output_type": "stream",
     "text": [
      "input_value 1111 \n",
      "type: <class 'str'>\n"
     ]
    }
   ],
   "source": [
    "print(\"input_value\", input_value, \"\\ntype:\", type(input_value))"
   ]
  },
  {
   "cell_type": "code",
   "execution_count": 122,
   "id": "d227a86f-e87a-455c-9dc0-800198b4c803",
   "metadata": {},
   "outputs": [
    {
     "data": {
      "text/plain": [
       "int"
      ]
     },
     "execution_count": 122,
     "metadata": {},
     "output_type": "execute_result"
    }
   ],
   "source": [
    "type(int('1111'))"
   ]
  },
  {
   "cell_type": "code",
   "execution_count": 123,
   "id": "dcafeeaa-e777-486d-b557-c4801553dbb0",
   "metadata": {},
   "outputs": [],
   "source": [
    "int=1111#변수로 만들어버렸기때문에 나중에 int('1111')하려면 안됨. 안불러와짐. "
   ]
  },
  {
   "cell_type": "code",
   "execution_count": 1,
   "id": "c55fa92f-42a4-4f2a-a886-45ce34cabc52",
   "metadata": {},
   "outputs": [
    {
     "name": "stdin",
     "output_type": "stream",
     "text": [
      "당신의 이름은 무엇입니까?: 박수현\n"
     ]
    },
    {
     "name": "stdout",
     "output_type": "stream",
     "text": [
      "박수현 씨 안녕하세요? \n",
      "파이썬에 오신 것을 환영합니다.\n"
     ]
    },
    {
     "name": "stdin",
     "output_type": "stream",
     "text": [
      "첫번째 정수를 입력하세요: 200\n",
      "두번째 정수를 입력하세요: 200\n"
     ]
    },
    {
     "name": "stdout",
     "output_type": "stream",
     "text": [
      "200 과 200 의 합은 400 입니다.\n"
     ]
    }
   ],
   "source": [
    "name=input('당신의 이름은 무엇입니까?:')\n",
    "print(name, '씨 안녕하세요? \\n파이썬에 오신 것을 환영합니다.')\n",
    "num1=int(input('첫번째 정수를 입력하세요:'))\n",
    "num2=int(input('두번째 정수를 입력하세요:'))\n",
    "print(num1,'과', num2, '의 합은', num1+num2, '입니다.')"
   ]
  },
  {
   "cell_type": "code",
   "execution_count": null,
   "id": "75995a26-5cf3-4c78-8f53-4cba692546d2",
   "metadata": {},
   "outputs": [],
   "source": [
    "place=input('경기장은 어디입니까?:')\n",
    "win=input('이긴 팀은 어디입니까?:')\n",
    "lose=input('진 팀은 어디입니까?:')\n",
    "mvp=input('우수 선수는 누구입니까?:')\n",
    "score=input('스코어는 몇대몇입니니까?:')\n",
    "#구분자 공백을 문장 끝 sep=''으로 없애라..?)\n",
    "print('\\n[속보]', win, '가', score, '로 승리...\\n오늘 고척 경기장에서 야구 경기가 있었습니다.\\n', \n",
    "      win, '와', lose, '는 치열한 공방전을 펼쳤습니다.\\n이 경기에서', \n",
    "      mvp, '가 맹활약을 했습니다. \\n그 끝내', \n",
    "      win, '가', lose, '를', score, '로 승리하였습니다. \\n 기사 끝.')"
   ]
  },
  {
   "cell_type": "code",
   "execution_count": 1,
   "id": "5e644bf3-9262-47e9-9aa1-cfa390cbeb17",
   "metadata": {},
   "outputs": [
    {
     "name": "stdout",
     "output_type": "stream",
     "text": [
      "<class 'list'>\n",
      "['1', '2', '3']\n"
     ]
    }
   ],
   "source": [
    "## 입력값을 여러개의 변수에 저장하기\n",
    "result='1,2,3'.split(',')#, 기준으로 리스트 형태로 나눠요. '_'로 공백을 채우면 공백을 기준으로 나눔. 반환은 리스트로 반환함. \n",
    "print(type(result))\n",
    "print(result)\n",
    "#스플릿은 메서드라 앞에 문자열이 와야함. str.split()임. "
   ]
  },
  {
   "cell_type": "code",
   "execution_count": 3,
   "id": "6b810aa2-6cbd-45fe-9384-19dc44143716",
   "metadata": {
    "tags": []
   },
   "outputs": [
    {
     "name": "stdin",
     "output_type": "stream",
     "text": [
      "hh:mm:ss의 형태로 시간을 입력해주세요 12:33:23\n"
     ]
    },
    {
     "name": "stdout",
     "output_type": "stream",
     "text": [
      "실행결과\n",
      "시: 12\n",
      "분: 33\n",
      "초: 23\n"
     ]
    }
   ],
   "source": [
    "#방법1\n",
    "time=input('hh:mm:ss의 형태로 시간을 입력해주세요')\n",
    "time=time.split(':')\n",
    "#time\n",
    "hour = time[0]\n",
    "min = time[1]\n",
    "sec = time[2]\n",
    "\n",
    "print('실행결과')\n",
    "print('시:', hour)\n",
    "print('분:', min)\n",
    "print('초:', sec)\n",
    "\n",
    "\n",
    "-------------------------------------------------------------------------\n",
    "\n",
    "#방법2\n",
    "h, m, s=input('hh:mm:ss의 형태로 시간을 입력해주세요').split(':')\n",
    "#unpacking 활용한 방법\n",
    "print('시:', h)\n",
    "print('분:', m)\n",
    "print('초:', s)\n"
   ]
  },
  {
   "cell_type": "code",
   "execution_count": null,
   "id": "ef51d767-2499-4d7b-9bef-21d7fed8c0d9",
   "metadata": {},
   "outputs": [],
   "source": [
    "## map()함수 - iterable 객체(=시퀀스?)에서 요소를 하나하나 꺼내 특정함수로 각각 적용하고 싶을때 사용. 반환은 map 클래스인데 iterable함."
   ]
  },
  {
   "cell_type": "code",
   "execution_count": 4,
   "id": "ce77766a-0a02-4990-bed8-a3d79a6bcaab",
   "metadata": {},
   "outputs": [
    {
     "data": {
      "text/plain": [
       "int"
      ]
     },
     "execution_count": 4,
     "metadata": {},
     "output_type": "execute_result"
    }
   ],
   "source": [
    "int"
   ]
  },
  {
   "cell_type": "code",
   "execution_count": null,
   "id": "01f52d08-3ba9-4c0a-a5da-c8f1c8db08f8",
   "metadata": {},
   "outputs": [],
   "source": [
    "map(function, iterable)-> class "
   ]
  },
  {
   "cell_type": "code",
   "execution_count": 5,
   "id": "7a0996e8-2483-4487-853c-72d01bf75759",
   "metadata": {},
   "outputs": [
    {
     "name": "stdout",
     "output_type": "stream",
     "text": [
      "[1, 2, 3, 4]\n"
     ]
    }
   ],
   "source": [
    "a=[1.2,2.5,3.7,4.6]\n",
    "a=list(map(int, a))#= int는 함수. a는 시퀀스(리스트, 튜플, 문자열)함수 소광호 없음. \n",
    "print(a)\n",
    "\n",
    "-> 저 소수점을 다 지우고 싶어. 인덱싱 활용할 경우 하나하나 int(a[0]) 이런거 해줘야함. 개수가 많을 경우 매우 불편해짐. 그럴때 map 사용\n",
    "\n",
    "시퀀스= 리스트, 튜플, 문자열\n",
    "#요소들을 각각 동일하게 다 적용시켜주기 위한 것임. 저 int 부분을."
   ]
  },
  {
   "cell_type": "code",
   "execution_count": 18,
   "id": "be968e89-bab2-4fed-888f-dede7a1a4896",
   "metadata": {},
   "outputs": [
    {
     "name": "stdin",
     "output_type": "stream",
     "text": [
      "국어, 영어, 수학, 과학 점수를 입력해주세요: 12,12,12,12\n"
     ]
    },
    {
     "ename": "TypeError",
     "evalue": "'map' object is not subscriptable",
     "output_type": "error",
     "traceback": [
      "\u001b[1;31m---------------------------------------------------------------------------\u001b[0m",
      "\u001b[1;31mTypeError\u001b[0m                                 Traceback (most recent call last)",
      "\u001b[1;32m~\\AppData\\Local\\Temp\\ipykernel_1756\\399806790.py\u001b[0m in \u001b[0;36m<module>\u001b[1;34m\u001b[0m\n\u001b[0;32m      2\u001b[0m \u001b[0ma\u001b[0m\u001b[1;33m=\u001b[0m\u001b[1;33m(\u001b[0m\u001b[0mmap\u001b[0m\u001b[1;33m(\u001b[0m\u001b[0mint\u001b[0m\u001b[1;33m,\u001b[0m \u001b[0ma\u001b[0m\u001b[1;33m)\u001b[0m\u001b[1;33m)\u001b[0m\u001b[1;33m\u001b[0m\u001b[1;33m\u001b[0m\u001b[0m\n\u001b[0;32m      3\u001b[0m \u001b[1;33m\u001b[0m\u001b[0m\n\u001b[1;32m----> 4\u001b[1;33m \u001b[0mkor\u001b[0m\u001b[1;33m=\u001b[0m\u001b[0ma\u001b[0m\u001b[1;33m[\u001b[0m\u001b[1;36m0\u001b[0m\u001b[1;33m]\u001b[0m\u001b[1;33m\u001b[0m\u001b[1;33m\u001b[0m\u001b[0m\n\u001b[0m\u001b[0;32m      5\u001b[0m \u001b[0meng\u001b[0m\u001b[1;33m=\u001b[0m\u001b[0ma\u001b[0m\u001b[1;33m[\u001b[0m\u001b[1;36m1\u001b[0m\u001b[1;33m]\u001b[0m\u001b[1;33m\u001b[0m\u001b[1;33m\u001b[0m\u001b[0m\n\u001b[0;32m      6\u001b[0m \u001b[0mmat\u001b[0m\u001b[1;33m=\u001b[0m\u001b[0ma\u001b[0m\u001b[1;33m[\u001b[0m\u001b[1;36m2\u001b[0m\u001b[1;33m]\u001b[0m\u001b[1;33m\u001b[0m\u001b[1;33m\u001b[0m\u001b[0m\n",
      "\u001b[1;31mTypeError\u001b[0m: 'map' object is not subscriptable"
     ]
    }
   ],
   "source": [
    "a=input('국어, 영어, 수학, 과학 점수를 입력해주세요:').split(',')\n",
    "a=(map(int, a))\n",
    "\n",
    "kor=a[0]\n",
    "eng=a[1]\n",
    "mat=a[2]\n",
    "sci=a[3]\n",
    "kor+eng+mat+sci/4???"
   ]
  },
  {
   "cell_type": "code",
   "execution_count": null,
   "id": "44aef941-200d-4bad-9b0b-1f47f27b91a3",
   "metadata": {},
   "outputs": [],
   "source": [
    "값을 입력받아. 국영수과 한번에 입력받아 변수에 저장하고 사칙연산을 활용해 평균 점수를 구하라"
   ]
  },
  {
   "cell_type": "code",
   "execution_count": null,
   "id": "ac6456fa-4ee8-4a9b-b4d0-62fc0acf235e",
   "metadata": {},
   "outputs": [],
   "source": [
    "인풋으로 받으면 문자열로 바뀌지. "
   ]
  },
  {
   "cell_type": "code",
   "execution_count": null,
   "id": "337a4d4d-a68a-481b-95c2-815628d474cc",
   "metadata": {},
   "outputs": [],
   "source": [
    "kor, eng, mat, sci=map(int, input('국어, 영어, 수학, 과학, 점수).split(',')\n",
    "                                  avg=(kor+eng+sci+mat)/4\n",
    "                                  prit('dsfjfowe)\n",
    "                                       \n",
    "                                       \n",
    "                                       #96, 100, 98, 100"
   ]
  },
  {
   "cell_type": "code",
   "execution_count": 4,
   "id": "864fc24b-8dc9-4d45-a3fd-f6e6688e0545",
   "metadata": {},
   "outputs": [
    {
     "name": "stdin",
     "output_type": "stream",
     "text": [
      "국어, 영어, 수학, 과학 점수를 입력해주세여: 98, 100, 100, 96\n"
     ]
    }
   ],
   "source": [
    "some_str=input('국어, 영어, 수학, 과학 점수를 입력해주세여:')"
   ]
  },
  {
   "cell_type": "code",
   "execution_count": 5,
   "id": "5f8aa9f1-e27d-40d9-b1bf-3a952010808c",
   "metadata": {},
   "outputs": [
    {
     "data": {
      "text/plain": [
       "str"
      ]
     },
     "execution_count": 5,
     "metadata": {},
     "output_type": "execute_result"
    }
   ],
   "source": [
    "type(some_str)"
   ]
  },
  {
   "cell_type": "code",
   "execution_count": null,
   "id": "4ff380c3-e8f8-438a-a04f-b640daf62756",
   "metadata": {},
   "outputs": [],
   "source": [
    "some_list = some_str.split()\n"
   ]
  }
 ],
 "metadata": {
  "kernelspec": {
   "display_name": "Python 3 (ipykernel)",
   "language": "python",
   "name": "python3"
  },
  "language_info": {
   "codemirror_mode": {
    "name": "ipython",
    "version": 3
   },
   "file_extension": ".py",
   "mimetype": "text/x-python",
   "name": "python",
   "nbconvert_exporter": "python",
   "pygments_lexer": "ipython3",
   "version": "3.9.13"
  }
 },
 "nbformat": 4,
 "nbformat_minor": 5
}
