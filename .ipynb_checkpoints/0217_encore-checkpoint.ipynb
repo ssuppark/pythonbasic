{
 "cells": [
  {
   "cell_type": "code",
   "execution_count": 2,
   "id": "b5b22487-910e-4251-8690-d273d9da2600",
   "metadata": {},
   "outputs": [
    {
     "name": "stdout",
     "output_type": "stream",
     "text": [
      "1 2 3 4 5 6 7 8 9 10 "
     ]
    }
   ],
   "source": [
    "for i in range(1, 11):\n",
    "    print(i, end=' ')"
   ]
  },
  {
   "cell_type": "code",
   "execution_count": 5,
   "id": "2a565d18-69be-4b56-bbab-5641fc68b16e",
   "metadata": {},
   "outputs": [
    {
     "name": "stdout",
     "output_type": "stream",
     "text": [
      "1 2 3 4 5 6 7 8 9 10 "
     ]
    }
   ],
   "source": [
    "i=1\n",
    "while i <11:\n",
    "    print(i, end=' ')\n",
    "    i+=1"
   ]
  },
  {
   "cell_type": "code",
   "execution_count": 44,
   "id": "2283b50b-5f5c-4de0-8bf8-08945bdb9296",
   "metadata": {},
   "outputs": [
    {
     "name": "stdout",
     "output_type": "stream",
     "text": [
      "79.0\n"
     ]
    }
   ],
   "source": [
    "class_a = (70, 60, 55, 75, 95, 90, 80, 80, 85, 100)\n",
    "i=0\n",
    "sum=0\n",
    "while i < len(class_a):\n",
    "    sum+=class_a[i]#그냥 [i]를 하면 [0], [1], 이런 각각의 리스트를 만들어내는 거고 class_a[i]는 각각의 인덱싱에 접근하게 되는 것을 말함. \n",
    "    i+=1\n",
    "print(sum/len(class_a))#프린트가 i, sum이랑 같은 범위 안으로 들어가면 평균값이 다 반환될 것임. "
   ]
  },
  {
   "cell_type": "code",
   "execution_count": 45,
   "id": "bc0bdd79-6992-47a0-9427-63e7f54774cb",
   "metadata": {
    "collapsed": true,
    "jupyter": {
     "outputs_hidden": true
    },
    "tags": []
   },
   "outputs": [
    {
     "name": "stdout",
     "output_type": "stream",
     "text": [
      "0\n",
      "1\n",
      "2\n",
      "3\n",
      "4\n",
      "5\n",
      "6\n",
      "7\n",
      "8\n",
      "9\n",
      "10\n",
      "11\n",
      "12\n",
      "13\n",
      "14\n",
      "15\n",
      "16\n",
      "17\n",
      "18\n",
      "19\n",
      "20\n",
      "21\n",
      "22\n",
      "23\n",
      "24\n",
      "25\n",
      "26\n",
      "27\n",
      "28\n",
      "29\n",
      "30\n",
      "31\n",
      "32\n",
      "33\n",
      "34\n",
      "35\n",
      "36\n",
      "37\n",
      "38\n",
      "39\n",
      "40\n",
      "41\n",
      "42\n",
      "43\n",
      "44\n",
      "45\n",
      "46\n",
      "47\n",
      "48\n",
      "49\n",
      "50\n",
      "51\n",
      "52\n",
      "53\n",
      "54\n",
      "55\n",
      "56\n",
      "57\n",
      "58\n",
      "59\n",
      "60\n",
      "61\n",
      "62\n",
      "63\n",
      "64\n",
      "65\n",
      "66\n",
      "67\n",
      "68\n",
      "69\n",
      "70\n",
      "71\n",
      "72\n",
      "73\n",
      "74\n",
      "75\n",
      "76\n",
      "77\n",
      "78\n",
      "79\n",
      "80\n",
      "81\n",
      "82\n",
      "83\n",
      "84\n",
      "85\n",
      "86\n",
      "87\n",
      "88\n",
      "89\n",
      "90\n",
      "91\n",
      "92\n",
      "93\n",
      "94\n",
      "95\n",
      "96\n",
      "97\n",
      "98\n",
      "99\n",
      "100\n"
     ]
    }
   ],
   "source": [
    "for i in range(10000):\n",
    "    print(i)\n",
    "    if i == 100:\n",
    "        break# 제일 가까이에 있는 for문을 빠져나간다. while문에서도 잘 쓰임. \n",
    "        \n",
    "        #break는 if문과 함께 쓰이는 것이 보통임. "
   ]
  },
  {
   "cell_type": "code",
   "execution_count": 50,
   "id": "f167a1e2-a4dd-44e1-8bb8-a5e69e104f8e",
   "metadata": {},
   "outputs": [
    {
     "name": "stdout",
     "output_type": "stream",
     "text": [
      "5050\n"
     ]
    }
   ],
   "source": [
    "#0부터 100까지 자연수의 총합을 구하는 프로그램 구현\n",
    "\n",
    "i=0\n",
    "total=0\n",
    "while True: #무한 루프\n",
    "    total+=i\n",
    "    i+=1\n",
    "    if i > 100:\n",
    "        break\n",
    "print(total)"
   ]
  },
  {
   "cell_type": "code",
   "execution_count": 51,
   "id": "ba9b883c-e848-42f1-bfa5-c895cead1b50",
   "metadata": {},
   "outputs": [
    {
     "name": "stdin",
     "output_type": "stream",
     "text": [
      "q를 입력하면 종료돕니다 q\n"
     ]
    },
    {
     "name": "stdout",
     "output_type": "stream",
     "text": [
      "프로그램을 종료합니다\n"
     ]
    }
   ],
   "source": [
    "while True:\n",
    "    input_value=input('q를 입력하면 종료돕니다')\n",
    "    if input_value == 'q' : break #if문 이렇게 짧게 적어도 됨.\n",
    "print('프로그램을 종료합니다')"
   ]
  },
  {
   "cell_type": "code",
   "execution_count": 53,
   "id": "b7dccaf6-8598-4884-94d0-05186c6f5619",
   "metadata": {},
   "outputs": [
    {
     "name": "stdout",
     "output_type": "stream",
     "text": [
      "1\t3\t5\t7\t9\t11\t13\t15\t17\t19\t21\t23\t25\t27\t29\t31\t33\t35\t37\t39\t41\t43\t45\t47\t49\t51\t53\t55\t57\t59\t61\t63\t65\t67\t69\t71\t73\t75\t77\t79\t81\t83\t85\t87\t89\t91\t93\t95\t97\t99\t"
     ]
    }
   ],
   "source": [
    "#break:for, while 밖으로 아예 탈출.\n",
    "#continue:바로 밑에 거만 넘어가고 다시 포문으로 올라와서 다시 진행. \n",
    "\n",
    "for i in range(100):\n",
    "    if i % 2 ==0:#i가 짝수라면\n",
    "        continue#만나면 다시ㅣ 해당 반복문의 처음으로. , range 안에 계속 할게 잇으면 반복 진행. 없을 경우 \n",
    "    print(i, end='\\t')"
   ]
  },
  {
   "cell_type": "code",
   "execution_count": null,
   "id": "44b7bbb4-44cc-4f51-ad53-11367782be92",
   "metadata": {},
   "outputs": [],
   "source": []
  },
  {
   "cell_type": "code",
   "execution_count": 56,
   "id": "f5546c1a-9791-4e45-b71b-f5a7d4741956",
   "metadata": {},
   "outputs": [
    {
     "name": "stdin",
     "output_type": "stream",
     "text": [
      "시작하는 정수 입력: 1\n",
      "끝나는 정수 입력: 10\n"
     ]
    },
    {
     "name": "stdout",
     "output_type": "stream",
     "text": [
      "1 부터 10 까지의 합은 55 입니다\n"
     ]
    }
   ],
   "source": [
    "num1=int(input('시작하는 정수 입력:'))\n",
    "num2=int(input('끝나는 정수 입력:'))\n",
    "i=0\n",
    "result=0\n",
    "for i in range(num1, num2+1):\n",
    "    result+=i\n",
    "    i+=1\n",
    "print(num1, '부터',num2, '까지의 합은', result, '입니다')"
   ]
  },
  {
   "cell_type": "code",
   "execution_count": null,
   "id": "641ed8f2-078b-4314-9090-2f0440848252",
   "metadata": {},
   "outputs": [],
   "source": [
    "num1=int(input('시작하는 정수 입력:'))\n",
    "num2=int(input('끝나는 정수 입력:'))\n",
    "result=0\n",
    "for i in range(num1, num2+1):\n",
    "    result+=i\n",
    "print(num1, '부터',num2, '까지의 합은', result, '입니다')"
   ]
  },
  {
   "cell_type": "code",
   "execution_count": 67,
   "id": "c6f244bd-441a-44c4-8396-ff4f8c2c6765",
   "metadata": {},
   "outputs": [
    {
     "name": "stdin",
     "output_type": "stream",
     "text": [
      "시작하는 정수 입력: 1\n",
      "끝나는 정수 입력: 10\n"
     ]
    },
    {
     "name": "stdout",
     "output_type": "stream",
     "text": [
      "1 부터 10 까지의 합은 55 입니다\n"
     ]
    }
   ],
   "source": [
    "num1=int(input('시작하는 정수 입력:'))\n",
    "num2=int(input('끝나는 정수 입력:'))\n",
    "i=num1\n",
    "total=0\n",
    "while i <= num2:\n",
    "    total += i\n",
    "    i+=1\n",
    "\n",
    "print(num1, '부터',num2, '까지의 합은', total, '입니다')"
   ]
  },
  {
   "cell_type": "code",
   "execution_count": null,
   "id": "a7b5ee9f-6b1f-4c70-8355-63f373bfbee5",
   "metadata": {},
   "outputs": [],
   "source": [
    "#딕셔너리는 시퀀스 자료형이 아님. 인덱스가 없는 대신 키값을 가짐. \n",
    "#키밸류 페어의 구분은 콤마로 함. 쌍을 표현할 때는 :가 옴.\n",
    "#인덱싱 대신 키값에 접근해서 사용. \n",
    "#()-> 튜플, [] -> 리스트 0> 얘네는 시퀀스로 순서 있음. \n",
    "#{} -> 딕셔너리(key, value), set(key)-셋은 고유값을 가짐.  -> 비시퀀스임. 순서가 없는데 최근에 딕셔너리도 순서가 보장되게끔 변화되었음. 대신 set은 순서가 보장되지 않음. \n",
    "\n"
   ]
  },
  {
   "cell_type": "code",
   "execution_count": 68,
   "id": "55128a38-ca06-4e81-a4b4-4460ce971f2f",
   "metadata": {},
   "outputs": [
    {
     "name": "stdout",
     "output_type": "stream",
     "text": [
      "<class 'dict'>\n",
      "{'key': 'value'}\n"
     ]
    }
   ],
   "source": [
    "dic_var={'key':'value'}\n",
    "print(type(dic_var))\n",
    "print(dic_var)"
   ]
  },
  {
   "cell_type": "code",
   "execution_count": 70,
   "id": "557aa88c-438a-4bbc-bdc3-95852785dc74",
   "metadata": {},
   "outputs": [
    {
     "name": "stdout",
     "output_type": "stream",
     "text": [
      "{'key': 'last value'}\n"
     ]
    }
   ],
   "source": [
    "dic_var={'key':'value', 'key':'last value'}\n",
    "print(dic_var)\n",
    "#key는 중복해서 존재하지 않음. 중복해서 넣게 될 경우 가장 최근에 넣은 key-value pair만 남음."
   ]
  },
  {
   "cell_type": "code",
   "execution_count": 73,
   "id": "16456662-c46b-456a-8aee-6af49a096fc5",
   "metadata": {},
   "outputs": [
    {
     "name": "stdout",
     "output_type": "stream",
     "text": [
      "[<class 'str'>, <class 'int'>, <class 'float'>, <class 'tuple'>]\n"
     ]
    }
   ],
   "source": [
    "dic_var={'key':'value', \n",
    "        1:'last value',\n",
    "        1.1:'value3',\n",
    "        True:'value4', \n",
    "        ('key', 1, 1.1, True): 'last value'}\n",
    "\n",
    "print(list(map(type, dic_var.keys())))#key들에 대한 결과 조회중. 각각에 대한 딕셔너리 키들을 갖고옴 map을 통해. 그거에 대한 타입을 찟는중, \n",
    "#여러 자료형을 쓸 수 있고 키에 이 자료형을 섞어서 사용해도 됨. \n",
    "#키에는 리스트, 딕져너리, 집합(set)을 사용할 수 없음. 또 키는 고유값을 가져야함(ex. 인덱스에는 겹치는 숫자가 없으니)"
   ]
  },
  {
   "cell_type": "code",
   "execution_count": 75,
   "id": "90e0e395-6839-4caf-918e-6a68a7701c01",
   "metadata": {},
   "outputs": [
    {
     "name": "stdout",
     "output_type": "stream",
     "text": [
      "[<class 'str'>, <class 'bool'>, <class 'float'>, <class 'tuple'>, <class 'list'>, <class 'dict'>, <class 'set'>]\n"
     ]
    }
   ],
   "source": [
    "#딕셔너리 자료형에서 값은 모든 자료형을 사용할 수 있습니다. \n",
    "\n",
    "dic_var={'key':'value', \n",
    "        1:1,\n",
    "        1.1:1.1,\n",
    "        True:False, \n",
    "        ('key', 1, 1.1, True): ('key',1,1.1,True),\n",
    "         'list':[1,'가', 1.1, True, (1, '나')],\n",
    "         'dict':{'key':'value', 'key2':'value2'},\n",
    "         'set':{'key', 'value'}\n",
    "        }\n",
    "\n",
    "print(list(map(type, dic_var.values())))"
   ]
  },
  {
   "cell_type": "code",
   "execution_count": 77,
   "id": "a6e8030a-0ec5-49bb-8f0a-eb05949cd1c3",
   "metadata": {},
   "outputs": [
    {
     "name": "stdout",
     "output_type": "stream",
     "text": [
      "{}\n",
      "<class 'dict'>\n"
     ]
    }
   ],
   "source": [
    "#비어있는 딕셔너리는 중괄호{}만 쓰거나 인자 없이 dict()함수를 사용하면 됨. \n",
    "empty_dict = {}\n",
    "print(empty_dict)\n",
    "print(type(empty_dict)) #set도 중괄호로 만들수 있는데 {}를 비우면 dic이랑 구분이 안가잖아 set은 빈걸 만들때 se()처럼 함수만? 만들수 있게 만들어놓음. "
   ]
  },
  {
   "cell_type": "code",
   "execution_count": 79,
   "id": "75868354-baf1-4532-b3fb-715baccdd6b7",
   "metadata": {},
   "outputs": [
    {
     "name": "stdout",
     "output_type": "stream",
     "text": [
      "{}\n",
      "<class 'dict'>\n"
     ]
    }
   ],
   "source": [
    "empty_dict = dict()\n",
    "print(empty_dict)\n",
    "print(type(empty_dict))"
   ]
  },
  {
   "cell_type": "code",
   "execution_count": null,
   "id": "9440ad2a-dd6f-4649-82be-5ede72796e2f",
   "metadata": {},
   "outputs": [],
   "source": [
    "#dict([('key', 'value'), ~~]) 이런 구조로 키와 값 한 쌍을 갖는 시퀀스 객체를 요소로 갖느 ㄴ시퀀스 객체를 생성해 딕셔너리 자료형으로 만들 수 있음. \n"
   ]
  },
  {
   "cell_type": "code",
   "execution_count": 83,
   "id": "2f4b5ff3-a30a-4f05-8aa9-a3924fb357e9",
   "metadata": {},
   "outputs": [
    {
     "name": "stdout",
     "output_type": "stream",
     "text": [
      "{'key': 'value', 'key2': 'value2', 'key3': 'value3'}\n"
     ]
    }
   ],
   "source": [
    "dict_b=dict(zip(['key', 'key2', 'key3'],['value', 'value2', 'value3']))\n",
    "print(dict_b)\n",
    "#키들이랑 밸류 각각 뭉탱이로 갖고 있는 경우 각자 따로 zip 함수 활용해서 하면 됨. "
   ]
  },
  {
   "cell_type": "code",
   "execution_count": 87,
   "id": "101121d9-65c1-439b-816f-d7da427ae412",
   "metadata": {},
   "outputs": [
    {
     "name": "stdout",
     "output_type": "stream",
     "text": [
      "[('key1', 'value1'), ('key2', 'value2'), ('key3', 'value3')]\n"
     ]
    }
   ],
   "source": [
    "keys=('key1', 'key2', 'key3')\n",
    "values=('value1', 'value2', 'value3')\n",
    "\n",
    "sam_list=[]\n",
    "for index in range(len(keys)):\n",
    "    sam_list.append((keys[index], values[index]))\n",
    "print(sam_list)"
   ]
  },
  {
   "cell_type": "code",
   "execution_count": 88,
   "id": "6066dcc4-e985-4012-8043-da36197c64a7",
   "metadata": {},
   "outputs": [
    {
     "data": {
      "text/plain": [
       "[('key1', 'value1'), ('key2', 'value2'), ('key3', 'value3')]"
      ]
     },
     "execution_count": 88,
     "metadata": {},
     "output_type": "execute_result"
    }
   ],
   "source": [
    "list(zip(keys, values))"
   ]
  },
  {
   "cell_type": "code",
   "execution_count": null,
   "id": "bb1f5ada-b786-4f30-af45-5aeec757c3de",
   "metadata": {},
   "outputs": [],
   "source": [
    "#인덱싱과 마찬가지.  다만 인덱싱은 0이상의 정수를 활용해 각 요소에 접금. 딕셔너리는 키를 활용하여 해당값에 겁근함. \n",
    "print(dict_b['key'])임"
   ]
  },
  {
   "cell_type": "code",
   "execution_count": null,
   "id": "b2ecf8e1-2a0e-4456-9eb3-43e7a08d7aae",
   "metadata": {},
   "outputs": [],
   "source": [
    "print(dict_b)\n",
    "dict_b['key'] = 'super value'#대괄호로 접근..?\n",
    "print(dict_b)\n",
    "#키를 통해 접근한 요소에 값을 할당하면 해당 값을 변경할 수 있음. "
   ]
  },
  {
   "cell_type": "code",
   "execution_count": 89,
   "id": "9d41ef77-21cd-4705-94c7-6511170b28cc",
   "metadata": {},
   "outputs": [
    {
     "name": "stdout",
     "output_type": "stream",
     "text": [
      "{'key': 'value', 'key2': 'value2', 'key3': 'value3'}\n",
      "{'key': 'value', 'key2': 'value2', 'key3': 'value3', 'new_one': 'new_value'}\n"
     ]
    }
   ],
   "source": [
    "print(dict_b)\n",
    "dict_b['new_one'] = 'new_value'\n",
    "print(dict_b)\n",
    "#자료 넣을때 인덱싱해서 넣거나 인덱싱해서 수정하거나. \n",
    "#직셔너리 자료형에 없는 키를 활용해 값 할당시 ~~~"
   ]
  },
  {
   "cell_type": "code",
   "execution_count": 90,
   "id": "73ea555f-8510-4ba9-9d88-e7f2ea7136ba",
   "metadata": {},
   "outputs": [
    {
     "name": "stdout",
     "output_type": "stream",
     "text": [
      "{'key': 'value', 'key2': 'value2', 'key3': 'value3', 'new_one': 'new_value'}\n"
     ]
    },
    {
     "ename": "KeyError",
     "evalue": "'없는 키'",
     "output_type": "error",
     "traceback": [
      "\u001b[1;31m---------------------------------------------------------------------------\u001b[0m",
      "\u001b[1;31mKeyError\u001b[0m                                  Traceback (most recent call last)",
      "\u001b[1;32m~\\AppData\\Local\\Temp\\ipykernel_9040\\3708490652.py\u001b[0m in \u001b[0;36m<module>\u001b[1;34m\u001b[0m\n\u001b[0;32m      1\u001b[0m \u001b[0mprint\u001b[0m\u001b[1;33m(\u001b[0m\u001b[0mdict_b\u001b[0m\u001b[1;33m)\u001b[0m\u001b[1;33m\u001b[0m\u001b[1;33m\u001b[0m\u001b[0m\n\u001b[1;32m----> 2\u001b[1;33m \u001b[0mprint\u001b[0m\u001b[1;33m(\u001b[0m\u001b[0mdict_b\u001b[0m\u001b[1;33m[\u001b[0m\u001b[1;34m'없는 키'\u001b[0m\u001b[1;33m]\u001b[0m\u001b[1;33m)\u001b[0m\u001b[1;33m\u001b[0m\u001b[1;33m\u001b[0m\u001b[0m\n\u001b[0m",
      "\u001b[1;31mKeyError\u001b[0m: '없는 키'"
     ]
    }
   ],
   "source": [
    "print(dict_b)\n",
    "print(dict_b['없는 키']) #존재하지 않는 키 접금하려면 키에러 발생. 범위 벗어난 인덱스에 접근하면 에러나는 것과 같은 것.\n"
   ]
  },
  {
   "cell_type": "code",
   "execution_count": 91,
   "id": "6e7e3501-9872-4d5f-b077-6665a0bcdd9f",
   "metadata": {},
   "outputs": [
    {
     "name": "stdout",
     "output_type": "stream",
     "text": [
      "{'key': 'value', 'key2': 'value2', 'key3': 'value3', 'new_one': 'new_value'}\n",
      "True\n"
     ]
    }
   ],
   "source": [
    "print(dict_b)\n",
    "print('key' in dict_b)#.values()사용가능함. #여기 \n",
    "#딕셔너리 내에 특정 키가 존재하는지 확인할 때 in 연산자를 활용할 수 있음. "
   ]
  },
  {
   "cell_type": "code",
   "execution_count": null,
   "id": "b0283b5b-23cd-4b1e-a24c-c9c8875cbdfb",
   "metadata": {},
   "outputs": [],
   "source": [
    "#value는 어케 찾?\n",
    "'찾을 값' in dict_b.values()"
   ]
  },
  {
   "cell_type": "code",
   "execution_count": null,
   "id": "2cb8cdcf-66d9-4b12-88fe-c8ed538e9a25",
   "metadata": {},
   "outputs": [],
   "source": [
    "del dict_b['new_one']\n",
    "print(dict_b)\n",
    "#특정 티와 값의 쌍 삭제. del키워드 사용"
   ]
  },
  {
   "cell_type": "code",
   "execution_count": 92,
   "id": "5fd458e2-3afd-45ee-a12c-a8753d011871",
   "metadata": {},
   "outputs": [
    {
     "name": "stdout",
     "output_type": "stream",
     "text": [
      "{'key': 'value', 'key2': 'value2', 'key3': 'value3', 'new_one': 'new_value'}\n"
     ]
    },
    {
     "data": {
      "text/plain": [
       "4"
      ]
     },
     "execution_count": 92,
     "metadata": {},
     "output_type": "execute_result"
    }
   ],
   "source": [
    "#키와 값의 쌍 개수 구하기\n",
    "print(dict_b)\n",
    "len(dict_b)\n",
    "#len()함수 통해서 딕셔너리 자료형의 크기 구하면 키의 크기(개수)이기도 함. "
   ]
  },
  {
   "cell_type": "code",
   "execution_count": 100,
   "id": "93ffacdc-e50f-493f-b5be-c98210741def",
   "metadata": {},
   "outputs": [
    {
     "name": "stdin",
     "output_type": "stream",
     "text": [
      "과일 이름을 입력하세요: 사과\n"
     ]
    },
    {
     "name": "stdout",
     "output_type": "stream",
     "text": [
      "사과의 가격은 1000 원 입니다\n"
     ]
    }
   ],
   "source": [
    "f=input('과일 이름을 입력하세요:')\n",
    "dic={'사과':1000, '바나나':700, '오렌지':1500, '파인애플':2000}\n",
    "\n",
    "print(f+'의 가격은', dic[f], '원 입니다')"
   ]
  },
  {
   "cell_type": "code",
   "execution_count": 101,
   "id": "dbbd963a-b808-491a-83dc-e3170cb2ba1f",
   "metadata": {},
   "outputs": [
    {
     "name": "stdin",
     "output_type": "stream",
     "text": [
      "과일 이름을 입력하세요: 사과\n"
     ]
    },
    {
     "name": "stdout",
     "output_type": "stream",
     "text": [
      "사과의 가격은 1000원 입니다\n"
     ]
    }
   ],
   "source": [
    "\n",
    "dic={'사과':1000, '바나나':700, '오렌지':1500, '파인애플':2000}\n",
    "f=input('과일 이름을 입력하세요:')\n",
    "print(f'{f}의 가격은 {dic[f]}원 입니다')"
   ]
  },
  {
   "cell_type": "code",
   "execution_count": 117,
   "id": "3fb657d6-c8fc-40de-af9d-eca4325d3ca5",
   "metadata": {},
   "outputs": [
    {
     "name": "stdin",
     "output_type": "stream",
     "text": [
      "몸무게 20.4 16.2 22.3 5.2\n",
      "이름 뽀로로 크롱 스누피 룰피\n"
     ]
    },
    {
     "ename": "TypeError",
     "evalue": "unhashable type: 'list'",
     "output_type": "error",
     "traceback": [
      "\u001b[1;31m---------------------------------------------------------------------------\u001b[0m",
      "\u001b[1;31mTypeError\u001b[0m                                 Traceback (most recent call last)",
      "\u001b[1;32m~\\AppData\\Local\\Temp\\ipykernel_9040\\4216779606.py\u001b[0m in \u001b[0;36m<module>\u001b[1;34m\u001b[0m\n\u001b[0;32m      1\u001b[0m \u001b[0ma\u001b[0m\u001b[1;33m=\u001b[0m\u001b[1;33m{\u001b[0m\u001b[1;33m}\u001b[0m\u001b[1;33m\u001b[0m\u001b[1;33m\u001b[0m\u001b[0m\n\u001b[0;32m      2\u001b[0m \u001b[0mb\u001b[0m\u001b[1;33m=\u001b[0m\u001b[1;33m{\u001b[0m\u001b[1;33m}\u001b[0m\u001b[1;33m\u001b[0m\u001b[1;33m\u001b[0m\u001b[0m\n\u001b[1;32m----> 3\u001b[1;33m \u001b[0ma\u001b[0m\u001b[1;33m[\u001b[0m\u001b[0minput\u001b[0m\u001b[1;33m(\u001b[0m\u001b[1;34m'이름'\u001b[0m\u001b[1;33m)\u001b[0m\u001b[1;33m.\u001b[0m\u001b[0msplit\u001b[0m\u001b[1;33m(\u001b[0m \u001b[1;33m)\u001b[0m\u001b[1;33m]\u001b[0m\u001b[1;33m=\u001b[0m\u001b[0minput\u001b[0m\u001b[1;33m(\u001b[0m\u001b[1;34m'몸무게'\u001b[0m\u001b[1;33m)\u001b[0m\u001b[1;33m\u001b[0m\u001b[1;33m\u001b[0m\u001b[0m\n\u001b[0m\u001b[0;32m      4\u001b[0m \u001b[0mprint\u001b[0m\u001b[1;33m(\u001b[0m\u001b[0ma\u001b[0m\u001b[1;33m)\u001b[0m\u001b[1;33m\u001b[0m\u001b[1;33m\u001b[0m\u001b[0m\n",
      "\u001b[1;31mTypeError\u001b[0m: unhashable type: 'list'"
     ]
    }
   ],
   "source": [
    "a={}\n",
    "b={}\n",
    "a[input('이름')]=input('몸무게')\n",
    "print(a)"
   ]
  },
  {
   "cell_type": "code",
   "execution_count": 145,
   "id": "4df67e3c-8673-42a2-b903-f641b89be236",
   "metadata": {},
   "outputs": [
    {
     "name": "stdin",
     "output_type": "stream",
     "text": [
      "이름: 박 수 현\n",
      "몸무게 201.1 201 104\n"
     ]
    },
    {
     "name": "stdout",
     "output_type": "stream",
     "text": [
      "{'박': 201.1, '수': 201.0, '현': 104.0}\n"
     ]
    }
   ],
   "source": [
    "a=input('이름:').split(' ')\n",
    "b=map(float, input('몸무게').split(' '))\n",
    "#float(input('').split(' '))이건 왜 안되느냐, 얘가 리스트로 변형돼서 float로 변경을 못함. \n",
    "\n",
    "print(dict(zip(a, b)))\n",
    "#[a], [b]이 아닌 이유는 이미 리스트이기 떄문에 그냥 zip하면 됨. \n",
    "#map은 형 변환을 위해 쓰는 것\n",
    "#c를 리스트라고 했을때 \n",
    "#(c.keys=())"
   ]
  },
  {
   "cell_type": "code",
   "execution_count": null,
   "id": "27976407-edc2-4582-aa45-bb1a3e18be9b",
   "metadata": {},
   "outputs": [],
   "source": []
  },
  {
   "cell_type": "code",
   "execution_count": 146,
   "id": "9f211007-58e1-432f-a71f-b88e29517d9d",
   "metadata": {},
   "outputs": [
    {
     "name": "stdout",
     "output_type": "stream",
     "text": [
      "<class 'list'>\n",
      "[48, 48, 33, 95]\n"
     ]
    }
   ],
   "source": [
    "list_a=[48,48, 33, 95]\n",
    "print(type(list_a))\n",
    "print(list_a)\n",
    "#class 'list', list 클래스로 만들어진 객체라는 뜻임\n",
    "#list에 쓸수있는 메서드가 별도로 존재. 드쇼 "
   ]
  },
  {
   "cell_type": "code",
   "execution_count": 147,
   "id": "5bd36a30-901b-4a16-a9b6-cb0218006a7a",
   "metadata": {},
   "outputs": [
    {
     "name": "stdin",
     "output_type": "stream",
     "text": [
      "숫자를 띄어쓰기로 구분하여 여럭 입렷해보세여 62/36/32/19\n"
     ]
    },
    {
     "ename": "ValueError",
     "evalue": "invalid literal for int() with base 10: '/'",
     "output_type": "error",
     "traceback": [
      "\u001b[1;31m---------------------------------------------------------------------------\u001b[0m",
      "\u001b[1;31mValueError\u001b[0m                                Traceback (most recent call last)",
      "\u001b[1;32m~\\AppData\\Local\\Temp\\ipykernel_9040\\668572142.py\u001b[0m in \u001b[0;36m<module>\u001b[1;34m\u001b[0m\n\u001b[1;32m----> 1\u001b[1;33m \u001b[0mlist_b\u001b[0m\u001b[1;33m=\u001b[0m\u001b[0mlist\u001b[0m\u001b[1;33m(\u001b[0m\u001b[0mmap\u001b[0m\u001b[1;33m(\u001b[0m\u001b[0mint\u001b[0m\u001b[1;33m,\u001b[0m \u001b[0minput\u001b[0m\u001b[1;33m(\u001b[0m\u001b[1;34m'숫자를 띄어쓰기로 구분하여 여럭 입렷해보세여'\u001b[0m\u001b[1;33m)\u001b[0m\u001b[1;33m)\u001b[0m\u001b[1;33m)\u001b[0m\u001b[1;33m\u001b[0m\u001b[1;33m\u001b[0m\u001b[0m\n\u001b[0m\u001b[0;32m      2\u001b[0m \u001b[0mprint\u001b[0m\u001b[1;33m(\u001b[0m\u001b[0mtype\u001b[0m\u001b[1;33m(\u001b[0m\u001b[0mlist_b\u001b[0m\u001b[1;33m)\u001b[0m\u001b[1;33m)\u001b[0m\u001b[1;33m\u001b[0m\u001b[1;33m\u001b[0m\u001b[0m\n\u001b[0;32m      3\u001b[0m \u001b[0mprint\u001b[0m\u001b[1;33m(\u001b[0m\u001b[0mlist_b\u001b[0m\u001b[1;33m)\u001b[0m\u001b[1;33m\u001b[0m\u001b[1;33m\u001b[0m\u001b[0m\n",
      "\u001b[1;31mValueError\u001b[0m: invalid literal for int() with base 10: '/'"
     ]
    }
   ],
   "source": [
    "list_b=list(map(int, input('숫자를 띄어쓰기로 구분하여 여럭 입렷해보세여')))\n",
    "print(type(list_b))\n",
    "print(list_b)"
   ]
  },
  {
   "cell_type": "code",
   "execution_count": null,
   "id": "c31a362a-7055-4800-bddd-098e626216a6",
   "metadata": {},
   "outputs": [],
   "source": [
    "#리스트 안에 각각의 요소들을 int로 바쭤보자. "
   ]
  },
  {
   "cell_type": "code",
   "execution_count": null,
   "id": "145357d7-169d-4d35-a19a-de57e4d118a9",
   "metadata": {},
   "outputs": [],
   "source": [
    "[expression for i in range(0))]"
   ]
  },
  {
   "cell_type": "code",
   "execution_count": null,
   "id": "a3134711-e3b6-4db0-bc30-6716e22f2928",
   "metadata": {},
   "outputs": [],
   "source": [
    "i++2 for i  in"
   ]
  },
  {
   "cell_type": "code",
   "execution_count": 148,
   "id": "153fbbbe-d83b-43e0-baef-0a1fe7ac788e",
   "metadata": {},
   "outputs": [
    {
     "ename": "SyntaxError",
     "evalue": "invalid syntax (2548383986.py, line 1)",
     "output_type": "error",
     "traceback": [
      "\u001b[1;36m  File \u001b[1;32m\"C:\\Users\\Playdata\\AppData\\Local\\Temp\\ipykernel_9040\\2548383986.py\"\u001b[1;36m, line \u001b[1;32m1\u001b[0m\n\u001b[1;33m    i**2 for i in list(range(10))\u001b[0m\n\u001b[1;37m         ^\u001b[0m\n\u001b[1;31mSyntaxError\u001b[0m\u001b[1;31m:\u001b[0m invalid syntax\n"
     ]
    }
   ],
   "source": [
    "i**2 for i in list(range(10))"
   ]
  },
  {
   "cell_type": "code",
   "execution_count": 151,
   "id": "4ce89621-708e-4eed-8cea-64097ff64156",
   "metadata": {},
   "outputs": [
    {
     "ename": "SyntaxError",
     "evalue": "invalid syntax (2932327308.py, line 1)",
     "output_type": "error",
     "traceback": [
      "\u001b[1;36m  File \u001b[1;32m\"C:\\Users\\Playdata\\AppData\\Local\\Temp\\ipykernel_9040\\2932327308.py\"\u001b[1;36m, line \u001b[1;32m1\u001b[0m\n\u001b[1;33m    list_c=[ for in range(1, 10)]\u001b[0m\n\u001b[1;37m             ^\u001b[0m\n\u001b[1;31mSyntaxError\u001b[0m\u001b[1;31m:\u001b[0m invalid syntax\n"
     ]
    }
   ],
   "source": [
    "list_c=[(for in range(1, 10)]\n",
    "print(list)c)"
   ]
  },
  {
   "cell_type": "code",
   "execution_count": 152,
   "id": "2ce3de0f-2599-48e2-b5af-090ba9ecf704",
   "metadata": {},
   "outputs": [
    {
     "ename": "NameError",
     "evalue": "name 'expression' is not defined",
     "output_type": "error",
     "traceback": [
      "\u001b[1;31m---------------------------------------------------------------------------\u001b[0m",
      "\u001b[1;31mNameError\u001b[0m                                 Traceback (most recent call last)",
      "\u001b[1;32m~\\AppData\\Local\\Temp\\ipykernel_9040\\1278235799.py\u001b[0m in \u001b[0;36m<module>\u001b[1;34m\u001b[0m\n\u001b[1;32m----> 1\u001b[1;33m \u001b[0mprac_result\u001b[0m \u001b[1;33m=\u001b[0m \u001b[1;33m[\u001b[0m\u001b[0mexpression\u001b[0m \u001b[1;32mfor\u001b[0m \u001b[0mi\u001b[0m \u001b[1;32min\u001b[0m \u001b[0mrange\u001b[0m \u001b[1;33m(\u001b[0m\u001b[1;36m9\u001b[0m\u001b[1;33m)\u001b[0m\u001b[1;33m]\u001b[0m\u001b[1;33m\u001b[0m\u001b[1;33m\u001b[0m\u001b[0m\n\u001b[0m\u001b[0;32m      2\u001b[0m \u001b[0mprint\u001b[0m\u001b[1;33m(\u001b[0m\u001b[0mtype\u001b[0m\u001b[1;33m(\u001b[0m\u001b[0mprac_result\u001b[0m\u001b[1;33m)\u001b[0m\u001b[1;33m)\u001b[0m\u001b[1;33m\u001b[0m\u001b[1;33m\u001b[0m\u001b[0m\n\u001b[0;32m      3\u001b[0m \u001b[0mprint\u001b[0m\u001b[1;33m(\u001b[0m\u001b[0mprac_result\u001b[0m\u001b[1;33m)\u001b[0m\u001b[1;33m\u001b[0m\u001b[1;33m\u001b[0m\u001b[0m\n",
      "\u001b[1;32m~\\AppData\\Local\\Temp\\ipykernel_9040\\1278235799.py\u001b[0m in \u001b[0;36m<listcomp>\u001b[1;34m(.0)\u001b[0m\n\u001b[1;32m----> 1\u001b[1;33m \u001b[0mprac_result\u001b[0m \u001b[1;33m=\u001b[0m \u001b[1;33m[\u001b[0m\u001b[0mexpression\u001b[0m \u001b[1;32mfor\u001b[0m \u001b[0mi\u001b[0m \u001b[1;32min\u001b[0m \u001b[0mrange\u001b[0m \u001b[1;33m(\u001b[0m\u001b[1;36m9\u001b[0m\u001b[1;33m)\u001b[0m\u001b[1;33m]\u001b[0m\u001b[1;33m\u001b[0m\u001b[1;33m\u001b[0m\u001b[0m\n\u001b[0m\u001b[0;32m      2\u001b[0m \u001b[0mprint\u001b[0m\u001b[1;33m(\u001b[0m\u001b[0mtype\u001b[0m\u001b[1;33m(\u001b[0m\u001b[0mprac_result\u001b[0m\u001b[1;33m)\u001b[0m\u001b[1;33m)\u001b[0m\u001b[1;33m\u001b[0m\u001b[1;33m\u001b[0m\u001b[0m\n\u001b[0;32m      3\u001b[0m \u001b[0mprint\u001b[0m\u001b[1;33m(\u001b[0m\u001b[0mprac_result\u001b[0m\u001b[1;33m)\u001b[0m\u001b[1;33m\u001b[0m\u001b[1;33m\u001b[0m\u001b[0m\n",
      "\u001b[1;31mNameError\u001b[0m: name 'expression' is not defined"
     ]
    }
   ],
   "source": [
    "prac_result = [expression for i in range (9)]\n",
    "print(type(prac_result))\n",
    "print(prac_result)"
   ]
  },
  {
   "cell_type": "code",
   "execution_count": 159,
   "id": "fb91ac65-8dcd-4257-933b-cf7f1fbc88b2",
   "metadata": {},
   "outputs": [
    {
     "name": "stdout",
     "output_type": "stream",
     "text": [
      "[1, 3, 5, 7, 9]\n"
     ]
    }
   ],
   "source": [
    "#list comprehension은 앞에 수학식 뒤에  for문\n",
    "prac_result2= [i for i in range(1, 10, 2)]\n",
    "print(prac_result2)"
   ]
  },
  {
   "cell_type": "code",
   "execution_count": 157,
   "id": "00b227d7-c57e-4768-ab02-55a57094792a",
   "metadata": {},
   "outputs": [
    {
     "name": "stdout",
     "output_type": "stream",
     "text": [
      "<class 'list'>\n",
      "[1, 4, 9, 16, 25, 36, 49, 64, 81]\n"
     ]
    }
   ],
   "source": [
    "prac_result = [i*i for i in range(1, 10)]\n",
    "print(type(prac_result))\n",
    "print(prac_result)"
   ]
  },
  {
   "cell_type": "code",
   "execution_count": 156,
   "id": "e7634ef2-83e3-4da8-a4f0-2eec909edbac",
   "metadata": {},
   "outputs": [
    {
     "name": "stdout",
     "output_type": "stream",
     "text": [
      "<class 'list'>\n",
      "[1, 4, 9, 16, 25, 36, 49, 64, 81]\n"
     ]
    }
   ],
   "source": [
    "prac_result = [i**2 for i in range(1, 10)]\n",
    "print(type(prac_result))\n",
    "print(prac_result)"
   ]
  },
  {
   "cell_type": "code",
   "execution_count": 163,
   "id": "45ea62c9-651b-43c2-a1f3-92289c0e87f7",
   "metadata": {},
   "outputs": [
    {
     "name": "stdout",
     "output_type": "stream",
     "text": [
      "['a', 'b', 'c', 'd', 'e', 'f']\n"
     ]
    }
   ],
   "source": [
    "a='abcdef'\n",
    "prac_result2= [i for i in a]\n",
    "print(prac_result2)"
   ]
  },
  {
   "cell_type": "code",
   "execution_count": 167,
   "id": "5df1161a-db8b-431b-bb97-f0a0f67868be",
   "metadata": {},
   "outputs": [
    {
     "name": "stdout",
     "output_type": "stream",
     "text": [
      "['2', '3', '4', '5', '6', '7', '8', '9', '10', 'J', 'Q', 'K', 'A']\n"
     ]
    }
   ],
   "source": [
    "prac_result2= [str(i) for i in range(2, 11, 1)]\n",
    "prac_result3= [i for i in 'JQKA']\n",
    "print(prac_result2+ prac_result3)\n",
    "#what is 데카르트 곱?"
   ]
  },
  {
   "cell_type": "code",
   "execution_count": 168,
   "id": "e514415e-49a5-4710-b8fd-7a158a2f1add",
   "metadata": {},
   "outputs": [
    {
     "name": "stdout",
     "output_type": "stream",
     "text": [
      "['2', '3', '4', '5', '6', '7', '8', '9', '10', 'J', 'Q', 'K', 'A']\n"
     ]
    }
   ],
   "source": [
    "prac_result2= [str(i) for i in range(2, 11, 1)]+[i for i in 'JQKA']\n",
    "print(prac_result2)"
   ]
  },
  {
   "cell_type": "code",
   "execution_count": 170,
   "id": "4c3aeca6-0379-45c2-a077-0fa436e244ca",
   "metadata": {},
   "outputs": [
    {
     "name": "stdout",
     "output_type": "stream",
     "text": [
      "['2', '3', '4', '5', '6', '7', '8', '9', '10', 'J', 'Q', 'K', 'A']\n"
     ]
    }
   ],
   "source": [
    "prac_result2= [str(i) for i in range(2, 11, 1)]\n",
    "prac_result2.extend([i for i in 'JQKA'])\n",
    "print(prac_result2)"
   ]
  },
  {
   "cell_type": "code",
   "execution_count": null,
   "id": "3ba1cb06-649f-4440-9680-874318fe049e",
   "metadata": {},
   "outputs": [],
   "source": []
  },
  {
   "cell_type": "code",
   "execution_count": 172,
   "id": "4ae45ccf-363c-4f55-b573-be1498b94646",
   "metadata": {},
   "outputs": [
    {
     "name": "stdout",
     "output_type": "stream",
     "text": [
      "[['2', '3', '4', '5', '6', '7', '8', '9', '10', 'J', 'Q', 'K', 'A'], ['2', '3', '4', '5', '6', '7', '8', '9', '10', 'J', 'Q', 'K', 'A'], ['2', '3', '4', '5', '6', '7', '8', '9', '10', 'J', 'Q', 'K', 'A'], ['2', '3', '4', '5', '6', '7', '8', '9', '10', 'J', 'Q', 'K', 'A']]\n"
     ]
    }
   ],
   "source": [
    "prac_result2= [str(i) for i in range(2, 11, 1)]+[i for i in 'JQKA']\n",
    "print([prac_result2]*4)"
   ]
  },
  {
   "cell_type": "code",
   "execution_count": 177,
   "id": "bc707a58-1015-4edb-b20c-0e13843df003",
   "metadata": {},
   "outputs": [
    {
     "name": "stdout",
     "output_type": "stream",
     "text": [
      "[['2', '3', '4', '5', '6', '7', '8', '9', '10', 'J', 'Q', 'K', 'A'], ['2', '3', '4', '5', '6', '7', '8', '9', '10', 'J', 'Q', 'K', 'A'], ['2', '3', '4', '5', '6', '7', '8', '9', '10', 'J', 'Q', 'K', 'A'], ['2', '3', '4', '5', '6', '7', '8', '9', '10', 'J', 'Q', 'K', 'A']]\n"
     ]
    }
   ],
   "source": [
    "prac_result5=[prac_result2 for _ in range(4)]\n",
    "print(prac_result5)"
   ]
  },
  {
   "cell_type": "code",
   "execution_count": 178,
   "id": "776a6ea7-c054-4710-b8b8-6056955d1e1c",
   "metadata": {},
   "outputs": [
    {
     "name": "stdout",
     "output_type": "stream",
     "text": [
      "['two', '3', '4', '5', '6', '7', '8', '9', '10', 'J', 'Q', 'K', 'A']\n"
     ]
    }
   ],
   "source": [
    "prac_result2[0]='two'\n",
    "print(prac_result2)"
   ]
  },
  {
   "cell_type": "code",
   "execution_count": 179,
   "id": "ed7d0b3f-1636-4517-93a1-9a3b0de00b83",
   "metadata": {},
   "outputs": [
    {
     "name": "stdout",
     "output_type": "stream",
     "text": [
      "[['two', '3', '4', '5', '6', '7', '8', '9', '10', 'J', 'Q', 'K', 'A'], ['two', '3', '4', '5', '6', '7', '8', '9', '10', 'J', 'Q', 'K', 'A'], ['two', '3', '4', '5', '6', '7', '8', '9', '10', 'J', 'Q', 'K', 'A'], ['two', '3', '4', '5', '6', '7', '8', '9', '10', 'J', 'Q', 'K', 'A']]\n"
     ]
    }
   ],
   "source": [
    "print(prac_result5)"
   ]
  },
  {
   "cell_type": "code",
   "execution_count": 180,
   "id": "3ec74943-1a54-4f43-a509-6043d7a57aef",
   "metadata": {},
   "outputs": [
    {
     "name": "stdout",
     "output_type": "stream",
     "text": [
      "prac_result2의 id: 2732260154432\n",
      "prac_result5[0]:2732260154432\n",
      "prac_result5[1]:2732260154432\n",
      "prac_result5[2]:2732260154432\n",
      "prac_result5[3]:2732260154432\n"
     ]
    }
   ],
   "source": [
    "print('prac_result2의 id:', id(prac_result2))\n",
    "\n",
    "for i, v in enumerate(prac_result5):#enumerate인덱스랑 시퀀스에 있는 밸류를 동시에 꺼내주는 애. \n",
    "    print('prac_result5[',i,']:', id(v), sep='')"
   ]
  },
  {
   "cell_type": "code",
   "execution_count": 181,
   "id": "29942919-9899-4162-b57c-0edebd1f9935",
   "metadata": {},
   "outputs": [],
   "source": [
    "test = [i for i in range(10)]"
   ]
  },
  {
   "cell_type": "code",
   "execution_count": 182,
   "id": "bb58989d-a449-44c6-9175-de50f2faf18a",
   "metadata": {},
   "outputs": [
    {
     "data": {
      "text/plain": [
       "[0, 1, 2, 3, 4, 5, 6, 7, 8, 9]"
      ]
     },
     "execution_count": 182,
     "metadata": {},
     "output_type": "execute_result"
    }
   ],
   "source": [
    "test"
   ]
  },
  {
   "cell_type": "code",
   "execution_count": 183,
   "id": "aae3be40-8a9e-4a63-8d82-c0e4c4aa476b",
   "metadata": {},
   "outputs": [
    {
     "data": {
      "text/plain": [
       "[0, 1, 2, 3, 4, 5, 6, 7, 8, 9]"
      ]
     },
     "execution_count": 183,
     "metadata": {},
     "output_type": "execute_result"
    }
   ],
   "source": [
    "test[:]"
   ]
  },
  {
   "cell_type": "code",
   "execution_count": 184,
   "id": "c3501fec-0353-43c2-afe8-1d7f6f8095d5",
   "metadata": {},
   "outputs": [
    {
     "data": {
      "text/plain": [
       "list"
      ]
     },
     "execution_count": 184,
     "metadata": {},
     "output_type": "execute_result"
    }
   ],
   "source": [
    "type(test)"
   ]
  },
  {
   "cell_type": "code",
   "execution_count": 185,
   "id": "f5e064bf-96f6-41b8-8fa4-1410732124e8",
   "metadata": {},
   "outputs": [],
   "source": [
    "test2=tuple(test)"
   ]
  },
  {
   "cell_type": "code",
   "execution_count": 186,
   "id": "95097a57-6c6a-4579-94da-c2c600eb3b01",
   "metadata": {},
   "outputs": [
    {
     "data": {
      "text/plain": [
       "tuple"
      ]
     },
     "execution_count": 186,
     "metadata": {},
     "output_type": "execute_result"
    }
   ],
   "source": [
    "type(test2)"
   ]
  },
  {
   "cell_type": "code",
   "execution_count": 187,
   "id": "2f63bb01-5fbb-4c1e-af99-ae6f76402b4f",
   "metadata": {},
   "outputs": [
    {
     "data": {
      "text/plain": [
       "(0, 1)"
      ]
     },
     "execution_count": 187,
     "metadata": {},
     "output_type": "execute_result"
    }
   ],
   "source": [
    "test2[:2]"
   ]
  },
  {
   "cell_type": "code",
   "execution_count": 189,
   "id": "fd1ac66d-38fb-4e20-abe5-a1778302b575",
   "metadata": {},
   "outputs": [
    {
     "name": "stdout",
     "output_type": "stream",
     "text": [
      "prac_result2의 id: 2732260154432\n",
      "prac_result6[0]:2732260033728\n",
      "prac_result6[1]:2732240796480\n",
      "prac_result6[2]:2732260155264\n",
      "prac_result6[3]:2732260152640\n"
     ]
    }
   ],
   "source": [
    "prac_result6 = [prac_result2[:] for _ in range(4)]\n",
    "\n",
    "print('prac_result2의 id:', id(prac_result2))\n",
    "for i, v in enumerate(prac_result6):\n",
    "    print('prac_result6[',i,']:', id(v), sep='')\n",
    "    #tuple, string은 슬라이싱은 안되니까 새로 만드는것임. 즉 같은 객체가 아니라 다른 객체가 된다는것. \n",
    "    #슬라이싱이 시퀀스 자료형의 특징임. \n",
    "    #리스트 변수[:] -> 새로운 객체를 만들어 반환한다. \n",
    "    #슬라이싱의 결과는 새로운 결과/객체를 만든다. \n",
    "    #tuple, str, range는 r은 되지만 cud는 안됨(immutable)"
   ]
  },
  {
   "cell_type": "code",
   "execution_count": 193,
   "id": "7d4645d9-6e5d-44bb-ad56-ec0b05409cca",
   "metadata": {},
   "outputs": [
    {
     "name": "stdout",
     "output_type": "stream",
     "text": [
      "2732260146944\n",
      "2732240796032\n",
      "False\n",
      "True\n"
     ]
    }
   ],
   "source": [
    "old_list=list(range(10))\n",
    "new_list=old_list[:]\n",
    "\n",
    "#type(variable)is int -> type is는 객체간의 비교를 위함임.\n",
    "print(id(old_list))\n",
    "print(id(new_list))\n",
    "print(old_list is new_list) #갹체 자체는 다른데, 얘는 갹체를 비교함.\n",
    "print(old_list == new_list)#덦들은 같음, 얘는 값을 비교\n",
    "#is는 id 값이 다른ㄴ것을 비교. id 값은 달라도 ==는 값ㅇ르 비교하기때문에 true 를 가져오게 됨. \n",
    "\n",
    "#"
   ]
  },
  {
   "cell_type": "code",
   "execution_count": null,
   "id": "a2516992-ebb3-4583-a2b4-95cda8a82d22",
   "metadata": {},
   "outputs": [],
   "source": [
    "#tuple str은 id연샄자으 ㅣ결과가 다를 수 있음. \n",
    "#얘네랑 리스트랑 다른 이유는 리스트는 가변이고 튜플 스트링은 불변이기 때문임. \n",
    "old_tuple=tuple(range(10))\n",
    "new_tuple=old_tuple[:]\n",
    "\n",
    "#type(variable)is int -> type is는 객체간의 비교를 위함임.\n",
    "print(id(old_tuple\n",
    "print(id(new_tuple\n",
    "print(old_list is new_list) #갹체 자체는 다른데, 얘는 갹체를 비교함.\n",
    "print(old_list == new_list)"
   ]
  },
  {
   "cell_type": "code",
   "execution_count": null,
   "id": "15c7b64d-88c4-4738-b60b-4d82a6255f1d",
   "metadata": {},
   "outputs": [],
   "source": [
    "list("
   ]
  },
  {
   "cell_type": "code",
   "execution_count": null,
   "id": "4b799138-b837-4f11-959d-c3b666d334ff",
   "metadata": {},
   "outputs": [],
   "source": []
  },
  {
   "cell_type": "code",
   "execution_count": null,
   "id": "5cd95f7b-f0aa-4ab2-957f-102379d58a5b",
   "metadata": {},
   "outputs": [],
   "source": []
  },
  {
   "cell_type": "code",
   "execution_count": null,
   "id": "35bee2d3-6280-4266-a087-007e1e681860",
   "metadata": {},
   "outputs": [],
   "source": []
  },
  {
   "cell_type": "code",
   "execution_count": null,
   "id": "87a98260-9c7c-4efa-a106-2b56cf7158b9",
   "metadata": {},
   "outputs": [],
   "source": []
  },
  {
   "cell_type": "code",
   "execution_count": null,
   "id": "95e7cb2b-926a-4f57-b8ae-1687df7e647d",
   "metadata": {},
   "outputs": [],
   "source": []
  },
  {
   "cell_type": "code",
   "execution_count": null,
   "id": "5443cb0e-8768-43d4-86ef-b64b7608a341",
   "metadata": {},
   "outputs": [],
   "source": []
  },
  {
   "cell_type": "code",
   "execution_count": null,
   "id": "93d671f0-2f83-47d4-8956-dea34bb9335d",
   "metadata": {},
   "outputs": [],
   "source": []
  }
 ],
 "metadata": {
  "kernelspec": {
   "display_name": "Python 3 (ipykernel)",
   "language": "python",
   "name": "python3"
  },
  "language_info": {
   "codemirror_mode": {
    "name": "ipython",
    "version": 3
   },
   "file_extension": ".py",
   "mimetype": "text/x-python",
   "name": "python",
   "nbconvert_exporter": "python",
   "pygments_lexer": "ipython3",
   "version": "3.9.13"
  }
 },
 "nbformat": 4,
 "nbformat_minor": 5
}
