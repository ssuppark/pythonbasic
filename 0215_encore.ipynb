{
 "cells": [
  {
   "cell_type": "code",
   "execution_count": null,
   "id": "3b4a5801-1617-49b3-a46c-2463979135d9",
   "metadata": {},
   "outputs": [],
   "source": [
    "print('value', 1, 1.1, [1,2,'text'])\n",
    "파이썬은 값을 넘겨줄때 소괄로 안에 그걸 담아서 전함. Callavble.\n"
   ]
  },
  {
   "cell_type": "code",
   "execution_count": null,
   "id": "1cfa564d-9a67-4a1d-b5c0-c79a0d7ee75b",
   "metadata": {},
   "outputs": [],
   "source": []
  },
  {
   "cell_type": "markdown",
   "id": "31654f0d-8d7b-4b00-b09d-89c7e7a0df6c",
   "metadata": {},
   "source": [
    "## 값과 값 사이 구분 단위 변경"
   ]
  },
  {
   "cell_type": "code",
   "execution_count": null,
   "id": "ab790c71-6aee-46b4-82bc-09325cc5cf55",
   "metadata": {},
   "outputs": [],
   "source": [
    "print('value', 1, 1.1, [1,2,'text'], sep=',')#keyword=value인 애들은 뒤에 와야함. "
   ]
  },
  {
   "cell_type": "code",
   "execution_count": 2,
   "id": "74768544-e199-434c-babe-64abd1eea8c1",
   "metadata": {},
   "outputs": [
    {
     "name": "stdout",
     "output_type": "stream",
     "text": [
      "줄이 바뀌지 않습니다.그이유는 end='\\n'과 같이 기본 설정된 값을 빈 스트링으로\n",
      "sep,end는 맨 뒤에 써야하며 둘 간 순서는 상관없습니다.어떻게 사용하는지\n",
      "이해가되시나요??"
     ]
    }
   ],
   "source": [
    "#print 함수 여러개 쓸때 줄바꿈 되는 것은 왜일까?\n",
    "print('줄이 바뀌지 않습니다.', end = '')\n",
    "print('그이유는 end=\\'\\\\n\\'과 같이 기본 설정된 값을 빈 스트링으로 변경했기 때문입니다.')\n",
    "print('sep', 'end는 맨 뒤에 써야하며 둘 간 순서는 상관없습니다.', sep=',', end='')\n",
    "print('어떻게 사용하는지', '이해가되시나요?', sep = '\\n', end='?')"
   ]
  },
  {
   "cell_type": "code",
   "execution_count": 9,
   "id": "cd3f378f-bd99-4f40-bb76-2c4ea3042dcd",
   "metadata": {},
   "outputs": [
    {
     "name": "stdout",
     "output_type": "stream",
     "text": [
      "2021/02/03 18:33:23\n"
     ]
    }
   ],
   "source": [
    "year = '2021'\n",
    "month = '02'\n",
    "day= '03'\n",
    "hour='18'\n",
    "minute='33'\n",
    "second='23'\n",
    "\n",
    "print(year, month, day,sep='/',end=' ')\n",
    "print(hour, minute, second, sep=':')#end랑 sep 끼리의 순서는 상관없음. "
   ]
  },
  {
   "cell_type": "code",
   "execution_count": 17,
   "id": "d966c53f-6f7c-4e0f-a59c-070c35e2d5da",
   "metadata": {},
   "outputs": [
    {
     "name": "stdin",
     "output_type": "stream",
     "text": [
      "사과와 귤을 몇개 드릴까요? 10,20\n"
     ]
    },
    {
     "name": "stdout",
     "output_type": "stream",
     "text": [
      "총 가격은 14000원입니다\n"
     ]
    }
   ],
   "source": [
    "apple=1000\n",
    "tang=200\n",
    "\n",
    "num1, num2= map(int, input('사과와 귤을 몇개 드릴까요?').split(','))\n",
    "print('총 가격은', end=' ')\n",
    "print(apple*num1+tang*num2, '원입니다', sep='')\n",
    "'''\n",
    "total_price=apple*num1+tang*num2\n",
    "print('총 가격은', total_price, '우너입니다. ', sep='')'''"
   ]
  },
  {
   "cell_type": "markdown",
   "id": "0646618d-2f91-4917-a8d9-0dd99532e75d",
   "metadata": {},
   "source": [
    "## format 메서드"
   ]
  },
  {
   "cell_type": "code",
   "execution_count": 19,
   "id": "560000bc-ebbb-40d0-83d2-e4ea68f42c1d",
   "metadata": {},
   "outputs": [
    {
     "name": "stdout",
     "output_type": "stream",
     "text": [
      "10\n",
      "10 20 30\n",
      "101202303404505\n"
     ]
    }
   ],
   "source": [
    "print('{}'.format(10))\n",
    "print('{} {} {}'.format(10,20,30))\n",
    "print('{}{}{}{}{}'.format(101,202,303,404,505))"
   ]
  },
  {
   "cell_type": "code",
   "execution_count": 20,
   "id": "80345ecc-8bde-4c5a-ad4b-3031cffc7091",
   "metadata": {},
   "outputs": [
    {
     "name": "stdout",
     "output_type": "stream",
     "text": [
      "오늘의 날짜를 알려드립니다!\n",
      "2023년 2월 15일입니다.\n"
     ]
    }
   ],
   "source": [
    "import time\n",
    "#메서드는 앞에 .을 찍고 만드는구나~ 알수있음. \n",
    "today='''오늘의 날짜를 알려드립니다!\n",
    "{}년 {}월 {}일입니다.\\\n",
    "'''.format(time.localtime().tm_year,#년도값\n",
    "           time.localtime().tm_mon,#월값\n",
    "           time.localtime().tm_mday)#날짜\n",
    "print(today)#오늘이니까 오늘 정보가 입력됨"
   ]
  },
  {
   "cell_type": "code",
   "execution_count": null,
   "id": "4ac61577-ea6f-4e52-a729-fbf4944efa29",
   "metadata": {},
   "outputs": [],
   "source": [
    "time.#tab누르면 생산성이 좋아짐. "
   ]
  },
  {
   "cell_type": "code",
   "execution_count": 21,
   "id": "66c427f9-9c3c-45d0-bda3-38bc804179ca",
   "metadata": {},
   "outputs": [
    {
     "name": "stdout",
     "output_type": "stream",
     "text": [
      "중괄호는 2개이고, 여기 인수는\n"
     ]
    }
   ],
   "source": [
    "#중괄호랑 인수랑 개수 차이가 있다면 어케될까?\n",
    "#별다른 에러문구 없이 초과되는 format 메서드의 인수는 버려진다\n",
    "\n",
    "some_str='중괄호는 2개이고, {} {}'.format('여기', '인수는', '3개입니다.')#format 뒤에 애들이 arguments\n",
    "print(some_str)"
   ]
  },
  {
   "cell_type": "code",
   "execution_count": 22,
   "id": "50732fda-f883-4aa3-a976-7d29abe7b4dd",
   "metadata": {},
   "outputs": [
    {
     "ename": "IndexError",
     "evalue": "Replacement index 3 out of range for positional args tuple",
     "output_type": "error",
     "traceback": [
      "\u001b[1;31m---------------------------------------------------------------------------\u001b[0m",
      "\u001b[1;31mIndexError\u001b[0m                                Traceback (most recent call last)",
      "\u001b[1;32m~\\AppData\\Local\\Temp\\ipykernel_6196\\2168924480.py\u001b[0m in \u001b[0;36m<module>\u001b[1;34m\u001b[0m\n\u001b[0;32m      1\u001b[0m \u001b[1;31m#반대로 중괄호가 더 많은 경우에는 에러가 남.\u001b[0m\u001b[1;33m\u001b[0m\u001b[1;33m\u001b[0m\u001b[0m\n\u001b[1;32m----> 2\u001b[1;33m \u001b[0msome_str\u001b[0m\u001b[1;33m=\u001b[0m\u001b[1;34m'중괄호는 4개이고, {} {} {} {}'\u001b[0m\u001b[1;33m.\u001b[0m\u001b[0mformat\u001b[0m\u001b[1;33m(\u001b[0m\u001b[1;34m'여기'\u001b[0m\u001b[1;33m,\u001b[0m \u001b[1;34m'인수는'\u001b[0m\u001b[1;33m,\u001b[0m \u001b[1;34m'3개 입니다'\u001b[0m\u001b[1;33m)\u001b[0m\u001b[1;33m\u001b[0m\u001b[1;33m\u001b[0m\u001b[0m\n\u001b[0m\u001b[0;32m      3\u001b[0m \u001b[0mprint\u001b[0m\u001b[1;33m(\u001b[0m\u001b[0msome_str\u001b[0m\u001b[1;33m)\u001b[0m\u001b[1;33m\u001b[0m\u001b[1;33m\u001b[0m\u001b[0m\n",
      "\u001b[1;31mIndexError\u001b[0m: Replacement index 3 out of range for positional args tuple"
     ]
    }
   ],
   "source": [
    "#반대로 중괄호가 더 많은 경우에는 에러가 남. \n",
    "some_str='중괄호는 4개이고, {} {} {} {}'.format('여기', '인수는', '3개 입니다')\n",
    "print(some_str)\n",
    "#개수 맞춰서 넣는거 매우 중요함. "
   ]
  },
  {
   "cell_type": "markdown",
   "id": "62b2f4d0-1684-462a-9d9d-a59bf80bb941",
   "metadata": {},
   "source": [
    "## 문자열의 f-string"
   ]
  },
  {
   "cell_type": "code",
   "execution_count": null,
   "id": "461238e5-b4b1-4fa2-801b-7d1aef64eebd",
   "metadata": {},
   "outputs": [],
   "source": [
    "#문자열 앞에 f 알파벳을 붙이고 중괄호 안에 리터럴 값 혹은 변수를 넣어서 표현할 수도 있습니다. \n",
    "#이를 f-string 이라고 합니다. \n",
    "#인풋 통해 변수 받으면 그 변수명을 아래에 넣어도 됨. \n",
    "\n",
    "print(f'{10}')#얘는 안에 인수 넣어주면 됨. 변수명이 들어와도 상관은 없음.\n",
    "print(f'{10} {20} {30}')\n",
    "print(f'{101} {202} {303} {404} {505}')"
   ]
  },
  {
   "cell_type": "code",
   "execution_count": 27,
   "id": "4e6cecf4-f243-47bd-a0db-d8199fc72875",
   "metadata": {},
   "outputs": [
    {
     "name": "stdout",
     "output_type": "stream",
     "text": [
      "오늘의 날짜를 알려드립니다! \n",
      "2023년 2월 15일입니다. \n"
     ]
    }
   ],
   "source": [
    "import time\n",
    "\n",
    "today= f\"\"\"오늘의 날짜를 알려드립니다! \n",
    "{time.localtime().tm_year}년 {time.localtime().tm_mon}월 {time.localtime().tm_mday}일입니다. \\\n",
    "\"\"\"\n",
    "print(today)"
   ]
  },
  {
   "cell_type": "markdown",
   "id": "ab7df90e-1f99-4ecf-9214-1b31b7465a30",
   "metadata": {},
   "source": [
    "## if 문"
   ]
  },
  {
   "cell_type": "code",
   "execution_count": null,
   "id": "0f36b57a-21df-457e-8048-460626951578",
   "metadata": {},
   "outputs": [],
   "source": [
    "if ~~:\n",
    "    같은 너비로 들여쓰기된 부분까지 실행하라\n",
    "#들여쓰기 부분은 띄어쓰기 4칸"
   ]
  },
  {
   "cell_type": "code",
   "execution_count": 30,
   "id": "983e009e-b7d3-49af-9ca2-5b1b16a1b346",
   "metadata": {},
   "outputs": [
    {
     "ename": "NameError",
     "evalue": "name 'input_value4' is not defined",
     "output_type": "error",
     "traceback": [
      "\u001b[1;31m---------------------------------------------------------------------------\u001b[0m",
      "\u001b[1;31mNameError\u001b[0m                                 Traceback (most recent call last)",
      "\u001b[1;32m~\\AppData\\Local\\Temp\\ipykernel_6196\\885952480.py\u001b[0m in \u001b[0;36m<module>\u001b[1;34m\u001b[0m\n\u001b[0;32m      8\u001b[0m \u001b[1;33m\u001b[0m\u001b[0m\n\u001b[0;32m      9\u001b[0m \u001b[1;33m\u001b[0m\u001b[0m\n\u001b[1;32m---> 10\u001b[1;33m \u001b[1;32mif\u001b[0m \u001b[0mtype\u001b[0m\u001b[1;33m(\u001b[0m\u001b[0minput_value4\u001b[0m\u001b[1;33m)\u001b[0m \u001b[1;32mis\u001b[0m \u001b[0mint\u001b[0m\u001b[1;33m:\u001b[0m\u001b[1;33m\u001b[0m\u001b[1;33m\u001b[0m\u001b[0m\n\u001b[0m\u001b[0;32m     11\u001b[0m     \u001b[0mprint\u001b[0m\u001b[1;33m(\u001b[0m\u001b[1;34m'input_value4는 정수입니다'\u001b[0m\u001b[1;33m)\u001b[0m\u001b[1;33m\u001b[0m\u001b[1;33m\u001b[0m\u001b[0m\n",
      "\u001b[1;31mNameError\u001b[0m: name 'input_value4' is not defined"
     ]
    }
   ],
   "source": [
    "#정수일때만 실행된느 코드 작성해보자\n",
    "#type내장함수는 객체(문자, 숫자, 리스트)의 타입을 반환합니다. \n",
    "\n",
    "#객체 타입을 비교할 때느 is 키워드\n",
    "#좌 is 우\n",
    "#좌우 객체를 비교하여 동일한 종류의 객체라면 트루/다른 종류의 객체라면 false를 반환합니다.\n",
    "#type(input_value4)is int -> int 이기 때문에 true 가 나오게 됨. \n",
    "\n",
    "#타입 비교할때 type in 자료형 입력할 것. \n",
    "if type(input_value4) is int:\n",
    "    print('input_value4는 정수입니다')"
   ]
  },
  {
   "cell_type": "code",
   "execution_count": null,
   "id": "3894bc0d-c36c-49e8-a2bb-9dd52a1dbf68",
   "metadata": {},
   "outputs": [],
   "source": [
    "#논리연산자를 잘 활용해야함. \n",
    "#and: 좌우 모두 true. 하나라도 틀리면 false\n",
    "#or: 좌우 중 하나라도 true일때 true. 하나라도 모두 false일때 false\n",
    "#not: true 를 false로 false를 true로 변경해 반환함."
   ]
  },
  {
   "cell_type": "code",
   "execution_count": null,
   "id": "c2e98086-0663-47cf-b82e-6e02a6abdf31",
   "metadata": {},
   "outputs": [],
   "source": [
    "age\n",
    "\n",
    "if age"
   ]
  },
  {
   "cell_type": "code",
   "execution_count": 36,
   "id": "f8df4693-4027-449f-8719-63229c223af9",
   "metadata": {},
   "outputs": [
    {
     "name": "stdout",
     "output_type": "stream",
     "text": [
      "<class 'str'>\n",
      "문자열입니다\n"
     ]
    }
   ],
   "source": [
    "b='20'\n",
    "\n",
    "print(type(b))\n",
    "\n",
    "if type(b) is int:\n",
    "    print('정수입니다.')\n",
    "\n",
    "elif True:#맞다고 가정했을때를 말하는 듯\n",
    "    #elif type(b) is not int:\n",
    "#elif type(b) is str:\n",
    "          print('문자열입니다')"
   ]
  },
  {
   "cell_type": "code",
   "execution_count": 37,
   "id": "d6d2186e-6cce-446e-bed3-5e8dc86fb01f",
   "metadata": {},
   "outputs": [],
   "source": [
    "c=10\n",
    "\n",
    "if c>10:#false\n",
    "    print('10보다 큽니다')\n",
    "    \n",
    "elif c<5:\n",
    "    print('10보다 작고 5보다도 작습니다')"
   ]
  },
  {
   "cell_type": "code",
   "execution_count": 42,
   "id": "37caeff9-f0c0-4722-a925-14cc6e2e7e9f",
   "metadata": {},
   "outputs": [
    {
     "name": "stdout",
     "output_type": "stream",
     "text": [
      "오우.. 불혹을 넘기셨군요\n",
      "감사합니다\n"
     ]
    }
   ],
   "source": [
    "age=40\n",
    "\n",
    "if 20 >= age:\n",
    "    print('20대입니다')\n",
    "elif 30<= age <40:\n",
    "    print('30대입니다.')\n",
    "else:\n",
    "    print('오우.. 불혹을 넘기셨군요')\n",
    "\n",
    "print('감사합니다')"
   ]
  },
  {
   "cell_type": "code",
   "execution_count": 83,
   "id": "bfe59ee9-4ea2-4d87-a290-8d8b43a70743",
   "metadata": {},
   "outputs": [
    {
     "name": "stdin",
     "output_type": "stream",
     "text": [
      "아이디를 입력하세요 id\n",
      "회원등급을 입력해주세요: 3\n"
     ]
    },
    {
     "name": "stdout",
     "output_type": "stream",
     "text": [
      "제한적인 권한을 갖습니다.\n"
     ]
    }
   ],
   "source": [
    "#방법1\n",
    "\n",
    "id= input('아이디를 입력하세요')\n",
    "\n",
    "if id == 'admin':\n",
    "    print('최고 관리자, 모든 권한을 갖습니다.')\n",
    "\n",
    "elif id != 'admin':\n",
    "    if 0<int(input('회원등급을 입력해주세요:'))<=3:\n",
    "        print('제한적인 권한을 갖습니다.')\n",
    "    else:\n",
    "        print('권한이 없습니다')"
   ]
  },
  {
   "cell_type": "code",
   "execution_count": 82,
   "id": "b9c99a81-ca67-41a0-88ae-1d12beb3c66c",
   "metadata": {},
   "outputs": [
    {
     "name": "stdin",
     "output_type": "stream",
     "text": [
      "아이디를 입력하세요 id\n",
      "회원등급을 입력해주세요: 4\n"
     ]
    },
    {
     "name": "stdout",
     "output_type": "stream",
     "text": [
      "권한이 없습니다\n"
     ]
    }
   ],
   "source": [
    "#방법2\n",
    "\n",
    "id= input('아이디를 입력하세요')\n",
    "\n",
    "if id == 'admin':\n",
    "    print('최고 관리자, 모든 권한을 갖습니다.')\n",
    "\n",
    "#elif id != 'admin':    \n",
    "else:\n",
    "    if 0<int(input('회원등급을 입력해주세요:'))<=3:\n",
    "        print('제한적인 권한을 갖습니다.')\n",
    "    else:\n",
    "        print('권한이 없습니다')"
   ]
  },
  {
   "cell_type": "code",
   "execution_count": 84,
   "id": "c3d384f9-3487-4d07-9c94-7a8c08719318",
   "metadata": {},
   "outputs": [
    {
     "name": "stdin",
     "output_type": "stream",
     "text": [
      "아이디를 입력하세요 ㅑㅇ\n",
      "회원등급을 입력해주세요: 3\n"
     ]
    },
    {
     "name": "stdout",
     "output_type": "stream",
     "text": [
      "제한적인 권한을 갖습니다.\n"
     ]
    }
   ],
   "source": [
    "#방법3\n",
    "\n",
    "id= input('아이디를 입력하세요')\n",
    "\n",
    "if id == 'admin':\n",
    "    print('최고 관리자, 모든 권한을 갖습니다.')\n",
    "\n",
    "else:\n",
    "    grade = int(input('회원등급을 입력해주세요:'))      \n",
    "    if 0 < grade <=3:\n",
    "        print('제한적인 권한을 갖습니다.')\n",
    "    else:\n",
    "        print('권한이 없습니다')"
   ]
  },
  {
   "cell_type": "code",
   "execution_count": 89,
   "id": "61824337-968d-4dfa-8b3b-7e280b2117bc",
   "metadata": {},
   "outputs": [
    {
     "name": "stdin",
     "output_type": "stream",
     "text": [
      "자연수 하나 입력해주세요: 21\n"
     ]
    },
    {
     "name": "stdout",
     "output_type": "stream",
     "text": [
      "0\n"
     ]
    }
   ],
   "source": [
    "#방법1\n",
    "num=int(input('자연수 하나 입력해주세요:'))\n",
    "\n",
    "if (num-50)<0:\n",
    "    print(0)\n",
    "else:\n",
    "    if (num-50)>=0:\n",
    "        print(num-50)"
   ]
  },
  {
   "cell_type": "code",
   "execution_count": 91,
   "id": "3a159e09-704e-45e2-8df1-3ec4a62b56b6",
   "metadata": {},
   "outputs": [
    {
     "name": "stdin",
     "output_type": "stream",
     "text": [
      "자연수하나 입력해주세여 20\n"
     ]
    },
    {
     "name": "stdout",
     "output_type": "stream",
     "text": [
      "0\n"
     ]
    }
   ],
   "source": [
    "#방법2\n",
    "int_value =int(input('자연수하나 입력해주세여'))\n",
    "\n",
    "result = int_value - 50\n",
    "\n",
    "if result < 0:\n",
    "    result = 0\n",
    "\n",
    "print(result)"
   ]
  },
  {
   "cell_type": "code",
   "execution_count": 102,
   "id": "d303a523-173b-4c6a-acac-f453cbea5e03",
   "metadata": {},
   "outputs": [
    {
     "name": "stdin",
     "output_type": "stream",
     "text": [
      "자연수하나 입력해주세여 27\n"
     ]
    },
    {
     "name": "stdout",
     "output_type": "stream",
     "text": [
      "홀수입니다\n"
     ]
    }
   ],
   "source": [
    "#방법1(권장 안함)\n",
    "\n",
    "num1 =int(input('자연수하나 입력해주세여'))\n",
    "\n",
    "if num1%2 == 0:\n",
    "    print('짝수입니다')\n",
    "else:\n",
    "    if num1%2 !=0:\n",
    "        print('홀수입니다')\n",
    "#if가 False라서 실행 안 될 때 딱 두 가지로 나뉘는 경우는 else를 주로 쓰면되요\n",
    "#elif는 다양한 조건이 필요할 때 쓰시면 좋습니다~"
   ]
  },
  {
   "cell_type": "code",
   "execution_count": null,
   "id": "cbe9e1c2-5f09-41f6-a36e-64549e761853",
   "metadata": {},
   "outputs": [],
   "source": [
    "#방법2\n",
    "\n",
    "num1 =int(input('자연수하나 입력해주세여'))\n",
    "\n",
    "if num1%2 == 0:\n",
    "    print('짝수입니다')\n",
    "else:\n",
    "    print('홀수입니다')\n",
    "#홀수와 짝수는 서로 겹치는 부분이 없어서 else 부분에서 별도로 확인 안하셔도 무방\n",
    "#if가 False라서 실행 안 될 때 딱 두 가지로 나뉘는 경우는 else를 주로 쓰면되요\n",
    "#elif는 다양한 조건이 필요할 때 쓰시면 좋습니다~\n",
    "#else의 if는 없어도 됩니당!"
   ]
  },
  {
   "cell_type": "code",
   "execution_count": null,
   "id": "2f802928-72d5-4d28-9446-fdff9df8e44a",
   "metadata": {},
   "outputs": [],
   "source": []
  },
  {
   "cell_type": "code",
   "execution_count": null,
   "id": "705e6cd5-1957-4c03-962c-be4639e5f959",
   "metadata": {},
   "outputs": [
    {
     "name": "stdin",
     "output_type": "stream",
     "text": [
      "소프트웨어 설계 점수를 입력하세요. -10\n",
      "소프트웨어 개발 점수를 입력하세요. 5\n",
      "데이터베이스 구축 점수를 입력하세요. 5\n",
      "프로그래밍 언어 활용 점수를 입력하세요. 5\n",
      "정보시스템 구축관리 점수를 입력하세요. 5\n"
     ]
    },
    {
     "name": "stdout",
     "output_type": "stream",
     "text": [
      "불합격입니다\n"
     ]
    }
   ],
   "source": [
    "a=int(input('소프트웨어 설계 점수를 입력하세요.'))\n",
    "b=int(input('소프트웨어 개발 점수를 입력하세요.'))\n",
    "c=int(input('데이터베이스 구축 점수를 입력하세요.'))\n",
    "d=int(input('프로그래밍 언어 활용 점수를 입력하세요.'))\n",
    "e=int(input('정보시스템 구축관리 점수를 입력하세요.'))\n",
    "\n",
    "if (0 <= a <= 100 and 0 <= b <= 100 and 0 <= c <= 100 and 0 <= d <= 100 and 0 <= e <= 100):\n",
    "    avg = (a + b + c + d + e) / 5\n",
    "    if avg >= 60:\n",
    "        print(\"₴=\")\n",
    "    else:\n",
    "        print(\"불합격\")\n",
    "else:\n",
    "    print (\"잘 못된 점수입니다.\")\n",
    "\n",
    "\n",
    "--------------------------------------------------------------------------------\n",
    "#이건 내가 실패한 코드\n",
    "\n",
    "if 0<= a <=100:\n",
    "    print(b)\n",
    "    if avg>100 or 0>avg:\n",
    "        print('점수는 0점부터 100점까지만 유효합니다.')\n",
    "\n",
    "    \n",
    "avg = (a+b+c+d+e)/5\n",
    "\n",
    "if 100>=avg>=60:\n",
    "    print('합격입니다')\n",
    "elif avg>100 or 0>avg:\n",
    "    print('점수는 0점부터 100점까지만 유효합니다.')\n",
    "else:\n",
    "    print('불합격입니다')"
   ]
  },
  {
   "cell_type": "code",
   "execution_count": null,
   "id": "99ce4f49-d258-4a63-8311-380494433ddb",
   "metadata": {},
   "outputs": [],
   "source": [
    "if\n",
    "    if\n",
    "        if\n",
    "            #일 경우 이 조건들을 다 거쳐야하는데 이렇게 되면 앞에거가 맞으면 뒤에 안넘어감. 앞에거가 틀려야 뒤에거를 들어갈 수 있기 때문임. \n",
    "if\n",
    "if\n",
    "if\n",
    "\n",
    "#는 될 수도 있음. "
   ]
  },
  {
   "cell_type": "code",
   "execution_count": 5,
   "id": "2d898a4a-8bbd-4e43-b3af-7317e43bc13a",
   "metadata": {},
   "outputs": [
    {
     "name": "stdin",
     "output_type": "stream",
     "text": [
      "현재 물의 온도를 입력해주세요: 101\n"
     ]
    },
    {
     "name": "stdout",
     "output_type": "stream",
     "text": [
      "기체로 예상됩니다.\n"
     ]
    }
   ],
   "source": [
    "temp=float(input('현재 물의 온도를 입력해주세요:'))\n",
    "\n",
    "if temp >= 100:\n",
    "    print('기체로 예상됩니다.')\n",
    "elif 0<=temp<100:\n",
    "    print('액체로 예상됩니다.')\n",
    "else:\n",
    "    print('고체로 예상됩니다.')\n",
    "    "
   ]
  },
  {
   "cell_type": "code",
   "execution_count": 12,
   "id": "9d25716e-5036-4536-abad-f39be8407285",
   "metadata": {},
   "outputs": [
    {
     "name": "stdin",
     "output_type": "stream",
     "text": [
      "자신의 나이를 입력해주세요: 17\n"
     ]
    },
    {
     "name": "stdout",
     "output_type": "stream",
     "text": [
      "1100원입니다.\n"
     ]
    }
   ],
   "source": [
    "age=int(input('자신의 나이를 입력해주세요:'))\n",
    "\n",
    "if 11>=age >=6:\n",
    "    print('800원입니다.')\n",
    "elif 18 >= age >= 12:\n",
    "    print('1100원입니다.')\n",
    "elif age >= 19:\n",
    "    print('1500원입니다.')\n",
    "else:\n",
    "    print('무료입니다.')"
   ]
  },
  {
   "cell_type": "code",
   "execution_count": null,
   "id": "be319f87-3274-44ec-affb-1a6631a64ce4",
   "metadata": {},
   "outputs": [],
   "source": [
    "if\n",
    "elif\n",
    "elif\n",
    "#하나의 조건이 맞으면 아래거는 그대로 패스. 범위에 맞는게 나오면 그거로 안재고 ㄱㄱ하는거임. \n",
    "\n",
    "if\n",
    "if\n",
    "if\n",
    "if\n",
    "#모든 조건을 다 확인함. \n",
    "#예)체크리스트가 잇어서 그걸 다 체크해야하는 것. "
   ]
  },
  {
   "cell_type": "code",
   "execution_count": null,
   "id": "68ceac03-9463-4c5e-8620-d3ef739d6531",
   "metadata": {},
   "outputs": [],
   "source": []
  },
  {
   "cell_type": "code",
   "execution_count": 15,
   "id": "4d371065-1da3-4b09-bdfd-55b8712c0070",
   "metadata": {},
   "outputs": [
    {
     "name": "stdin",
     "output_type": "stream",
     "text": [
      "발주 수량을 입력하세요: 2000\n"
     ]
    },
    {
     "name": "stdout",
     "output_type": "stream",
     "text": [
      "2000 개를 주문하셨습니다.\n",
      "적용 할인율은 10%입니다. \n",
      "총 발주 금액은 $ 18000.0 입니다.\n"
     ]
    }
   ],
   "source": [
    "prod=int(input('발주 수량을 입력하세요:'))\n",
    "\n",
    "if 1500>= prod >=1000:\n",
    "    print(prod, '개를 주문하셨습니다.\\n적용 할인율은 5%입니다. \\n총 발주 금액은 $',(prod*10)-(prod*10*0.05), '입니다.')\n",
    "elif 2000 >= prod >1500:\n",
    "    print(prod, '개를 주문하셨습니다.\\n적용 할인율은 10%입니다. \\n총 발주 금액은 $',(prod*10)-(prod*10*0.1), '입니다.')\n",
    "elif prod > 2000:\n",
    "    print(prod, '개를 주문하셨습니다.\\n적용 할인율은 20%입니다. \\n총 발주 금액은 $',(prod*10)-(prod*10*0.2), '입니다.')\n",
    "\n",
    "    "
   ]
  },
  {
   "cell_type": "code",
   "execution_count": null,
   "id": "6146e73b-f56d-4784-a17f-799607b873c3",
   "metadata": {},
   "outputs": [],
   "source": [
    "quantity\n",
    "(quatity\n",
    "\n",
    "\n",
    "price=10\n",
    "rate=0\n",
    "order_amount = 0\n",
    "\n",
    "if quantity>2000;\n",
    " rate=20\n",
    "elif 2000>= quantity > 1500:\n",
    " rate=10\n",
    "elif 1500 >= quantity >= 1000:\n",
    " rate=5\n",
    "\n",
    "order_amount= int(price*quantity*(100-rate/100))\n",
    "print('적용 할인율', rate, '% 입니다.', sep='')\n",
    " print('총 발주 금액은 $', order_amount, '% 입니다.', sep='')"
   ]
  },
  {
   "cell_type": "code",
   "execution_count": null,
   "id": "300cabe8-771c-4016-abf3-897cf0b1610d",
   "metadata": {},
   "outputs": [],
   "source": [
    "idcard=int(input('주민번호 뒷자리를 입력하세요'))\n",
    "\n",
    "\n",
    "if idcard[1] == 1,2,3,e\n",
    "    \n",
    "elif idcard[0] != 2 or 4:\n",
    "    \n",
    "    \n",
    "7보다 크명 ㅍ ㅌ ㅌㅌ ㅌ ㅌ ㅌ ㅌㅌ ㅌ ㅌㅌ  .ㅋㅋㅋㅋ/ㅌ      ㅌ\n",
    "\n",
    "\n",
    "\n",
    "\n",
    "\n",
    "\n",
    "\n",
    "\n",
    "\n",
    "\n",
    "\n",
    "\n",
    "\n",
    "\n",
    "\n",
    "\n",
    "\n",
    "\n",
    "\n",
    "\n",
    "\n",
    "\n",
    "\n",
    "\n",
    "\n",
    "\n",
    "\n",
    "\n",
    "\n",
    "\n",
    "\n",
    "\n",
    "\n",
    "\n",
    "\n",
    "\n",
    "\n",
    "\n",
    "\n",
    "\n",
    "\n",
    "\n",
    "\n",
    "\n",
    "\n",
    "\n",
    "\n",
    "\n",
    "\n",
    "\n",
    "\n",
    "\n",
    "\n",
    "아고 여눕ㅁㄴ재 해답. 누민버로 문제. \n",
    "\n",
    "\n",
    "\n",
    "\n",
    "\n",
    "\n",
    "\n",
    "\n",
    "\n",
    "\n",
    "\n",
    "\n",
    "\n"
   ]
  },
  {
   "cell_type": "code",
   "execution_count": 20,
   "id": "20c23faa-fd6e-49f6-b640-03a71061cf50",
   "metadata": {},
   "outputs": [
    {
     "name": "stdin",
     "output_type": "stream",
     "text": [
      "확인할 연도를 입력하세요. 2000\n"
     ]
    },
    {
     "name": "stdout",
     "output_type": "stream",
     "text": [
      "윤년\n"
     ]
    }
   ],
   "source": [
    "year=int(input('확인할 연도를 입력하세요.'))\n",
    "\n",
    "if year %100==0 and year%400 !=0:\n",
    "    print('평년')               \n",
    "elif year %4 == 0:\n",
    "    print('윤년')\n",
    "else:\n",
    "    print('평년')"
   ]
  },
  {
   "cell_type": "code",
   "execution_count": 25,
   "id": "5f978c98-c6d7-487b-a6e4-0172e826a781",
   "metadata": {},
   "outputs": [
    {
     "name": "stdin",
     "output_type": "stream",
     "text": [
      "확인할 연도를 입력하세요. 2000\n"
     ]
    },
    {
     "name": "stdout",
     "output_type": "stream",
     "text": [
      "윤년\n"
     ]
    }
   ],
   "source": [
    "year=int(input('확인할 연도를 입력하세요.'))\n",
    "\n",
    "if (year %100==0 and year%400 !=0) or year%4 != 0:\n",
    "    print('평년')               \n",
    "\n",
    "else:\n",
    "    print('윤년')"
   ]
  },
  {
   "cell_type": "code",
   "execution_count": 26,
   "id": "e12e48f4-e8d4-4ee2-8bc1-5e49d1bfebaf",
   "metadata": {},
   "outputs": [],
   "source": [
    "year = int(input(\"확인할 연도를 입력하세요:\"))\n",
    "\n",
    "if year % 4 == 0 and (year %100 != 0 or year % 400 == 0):\n",
    "    print('윤년입니다.')\n",
    "else:\n",
    "    print('평년입니다.')"
   ]
  },
  {
   "cell_type": "markdown",
   "id": "40f7349e-f4dd-4dcf-bcce-059819c601e8",
   "metadata": {},
   "source": [
    "## for문 초입"
   ]
  },
  {
   "cell_type": "code",
   "execution_count": 29,
   "id": "fb54918b-6a02-45a5-a6d2-38492914ba41",
   "metadata": {},
   "outputs": [
    {
     "ename": "SyntaxError",
     "evalue": "invalid syntax (2807171277.py, line 1)",
     "output_type": "error",
     "traceback": [
      "\u001b[1;36m  File \u001b[1;32m\"C:\\Users\\Playdata\\AppData\\Local\\Temp\\ipykernel_9104\\2807171277.py\"\u001b[1;36m, line \u001b[1;32m1\u001b[0m\n\u001b[1;33m    range() -> 연속된 숫자를 만드는데 특화\u001b[0m\n\u001b[1;37m            ^\u001b[0m\n\u001b[1;31mSyntaxError\u001b[0m\u001b[1;31m:\u001b[0m invalid syntax\n"
     ]
    }
   ],
   "source": [
    "range() -> 연속된 숫자를 만드는데 특화\n",
    "range(시작숫자(포함), 끝숫자(미포함), 증감)\n",
    "#함수 호출시 소괄호 사용함. 슬라이싱과 다른 것은 슬라이싱은 []임. \n",
    "#인수(알규먼츠)가 여럿일 때 콤마로 구분한다. 슬라이싱은 :로 구분함. \n",
    "#슬라이싱이란 인덱스가 각각 매겨져있는데, 레인지는 규칙된 숫자를 만드는데 특화되어있는 아이임. \n",
    "\n",
    "\n",
    "\n",
    "for문은 반복실행하는 것에 특화\n",
    "\n",
    "\n",
    "for 요소를 담을 변수 in 반복 가능한 객체:\n",
    "    반볻할코드(띄어쓰기 4칸)\n",
    "\n",
    "for 변수 in range\n"
   ]
  },
  {
   "cell_type": "code",
   "execution_count": 31,
   "id": "ce8c08ec-1049-4e6a-85ab-1ca72a3e6d60",
   "metadata": {},
   "outputs": [
    {
     "data": {
      "text/plain": [
       "[0, 1, 2, 3, 4, 5, 6, 7]"
      ]
     },
     "execution_count": 31,
     "metadata": {},
     "output_type": "execute_result"
    }
   ],
   "source": [
    "range(0,8,1)#0부터 8미만까지 1씩 범위를 만들어준것임. (0,8), (8) 두가지 모두 똑같이 나옴. 기본적으로 0부터 시작하며 1을 포함하고 있음\n",
    "list(range(8)) #반복 가능한(iterable) 객체가 들어가면 list도 만들수 있음. "
   ]
  },
  {
   "cell_type": "code",
   "execution_count": null,
   "id": "84a77324-4cba-47a9-9ac4-389dfbcba09c",
   "metadata": {},
   "outputs": [],
   "source": [
    "#list vs range가 동작하는 큰 차이점\n",
    "리스트는 메모리상에 다 만들어놓으나 레인지는 만들어놓지는 않음. 근데 반복적이니까 필요할때마다 만들어서 써//...? 메모리로는 range가 더 효율적임. "
   ]
  },
  {
   "cell_type": "code",
   "execution_count": null,
   "id": "892b2d5e-f992-4e24-ad21-68b26118bff9",
   "metadata": {},
   "outputs": [],
   "source": [
    "#여기서의 range는 0부터 999까지의 숫자를 생성한다.\n",
    "for n in range(1000):#레인지는 연속되는 숫자 요소들을 만들때 활용하면 조흠.\n",
    "    #레인지도 시퀀스 자료형이 될 수 있음.)\n",
    "    #시퀀스는 만든거 갖고와, 레인지는 생성해주는 아니. 레인지 시잣점 \n",
    "    print('hello')"
   ]
  },
  {
   "cell_type": "code",
   "execution_count": null,
   "id": "0c08a82f-ed9c-49c6-9f02-6c18d41795a6",
   "metadata": {},
   "outputs": [],
   "source": [
    "#씨나 자바의 반복문과는 살짝 다름. \n"
   ]
  },
  {
   "cell_type": "code",
   "execution_count": null,
   "id": "f59d0a14-7c90-41fb-b78c-53a5a5ec6ab7",
   "metadata": {},
   "outputs": [],
   "source": []
  },
  {
   "cell_type": "code",
   "execution_count": null,
   "id": "279ff2c7-6478-497f-9292-cb46a7517932",
   "metadata": {},
   "outputs": [],
   "source": [
    "i=\n",
    "for i in range"
   ]
  },
  {
   "cell_type": "code",
   "execution_count": null,
   "id": "485c81ef-04db-4c65-a1b1-cc61c768f13c",
   "metadata": {},
   "outputs": [],
   "source": []
  },
  {
   "cell_type": "code",
   "execution_count": null,
   "id": "6779598e-204c-4063-a4c2-64b96be18409",
   "metadata": {},
   "outputs": [],
   "source": []
  },
  {
   "cell_type": "code",
   "execution_count": null,
   "id": "9027a02f-7863-4835-8675-37ac79b8184d",
   "metadata": {},
   "outputs": [],
   "source": []
  },
  {
   "cell_type": "code",
   "execution_count": null,
   "id": "0bc98cd8-ee04-4e58-a210-92e38cf18a50",
   "metadata": {},
   "outputs": [],
   "source": []
  },
  {
   "cell_type": "code",
   "execution_count": null,
   "id": "93b6e57e-4b3a-4c5f-9911-c1d0bf32fb94",
   "metadata": {},
   "outputs": [],
   "source": []
  },
  {
   "cell_type": "code",
   "execution_count": null,
   "id": "e3d3917b-d03d-44c1-807d-073f4a128a73",
   "metadata": {},
   "outputs": [],
   "source": []
  }
 ],
 "metadata": {
  "kernelspec": {
   "display_name": "Python 3 (ipykernel)",
   "language": "python",
   "name": "python3"
  },
  "language_info": {
   "codemirror_mode": {
    "name": "ipython",
    "version": 3
   },
   "file_extension": ".py",
   "mimetype": "text/x-python",
   "name": "python",
   "nbconvert_exporter": "python",
   "pygments_lexer": "ipython3",
   "version": "3.9.13"
  }
 },
 "nbformat": 4,
 "nbformat_minor": 5
}
