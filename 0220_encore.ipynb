{
 "cells": [
  {
   "cell_type": "code",
   "execution_count": 3,
   "id": "4ac3e909-fe2d-478a-a306-dfe62faee1ac",
   "metadata": {},
   "outputs": [
    {
     "data": {
      "text/plain": [
       "[[0], [0], [0]]"
      ]
     },
     "execution_count": 3,
     "metadata": {},
     "output_type": "execute_result"
    }
   ],
   "source": [
    "a=[[0]] * 3\n",
    "a"
   ]
  },
  {
   "cell_type": "code",
   "execution_count": 5,
   "id": "5e5429fe-a992-4f2d-b04d-ede23fb79ffd",
   "metadata": {},
   "outputs": [
    {
     "name": "stdout",
     "output_type": "stream",
     "text": [
      "2304571959568\n",
      "2304571959568\n",
      "2304571959568\n"
     ]
    }
   ],
   "source": [
    "print(id(a[0][0]))\n",
    "print(id(a[1][0]))\n",
    "print(id(a[2][0]))"
   ]
  },
  {
   "cell_type": "code",
   "execution_count": 7,
   "id": "91f003f0-93b7-4767-a397-27e1e8961cbb",
   "metadata": {},
   "outputs": [],
   "source": [
    "row=[0]\n",
    "\n",
    "for i in range(3):\n",
    "    a.append(row)\n",
    "    #row가 미리 만들어져있고 0부터 for문 시작해서 값을 하나 넣고 1일때도 한번 반복되는데 같은 주소를 넣음. 2일때도 처음 주소값을 넣기 때무에 리스트안에 리스트가 중첩되면 이거를 잘 고려해서 쓸것.\n",
    "    #그렇담 중첩됐을때는 어떻게 해결할까요? .copy()를 하면 될까요? 이따 설명할 예정.\n",
    "   # 리스트 하나가 만들어진거를 공유하면서 만든게 이 경우(?)##\n",
    "#복사를ㄹ 슬라이싱으로도 copy로도 가능. \n",
    "\n",
    "#주소로 복사한다. 결국 같은것을 바라보게 되는것이 얕은 벅사"
   ]
  },
  {
   "cell_type": "code",
   "execution_count": 12,
   "id": "6cb9a4fe-ad76-41b2-b443-1dc969fe572a",
   "metadata": {},
   "outputs": [
    {
     "name": "stdout",
     "output_type": "stream",
     "text": [
      "2304655797248\n",
      "2304655797248\n",
      "2304655797248\n"
     ]
    }
   ],
   "source": [
    "print(id(a[0]))\n",
    "print(id(a[1]))\n",
    "print(id(a[2]))\n",
    "\n",
    "#[[0], [0], [0]]"
   ]
  },
  {
   "cell_type": "code",
   "execution_count": 9,
   "id": "a59620d5-a596-4744-a9d1-b844810e4587",
   "metadata": {},
   "outputs": [],
   "source": [
    "b=[]\n",
    "for i in range(3):\n",
    "    row=[0] #for문이 반복될 때마다 새롭게 생성되는 변수. 그 때마다 for문이 반볼될때 row 0일때 b에 하나 담기고 1일때 또 새로 하나 만들어 두번째 칸에 그리거 레인지2값일때 마지막 row리스트를 새로 만들고 b 안에 각각 만들어지도록 하는 것임 여기 for,문에서는\n",
    "    b.append(row)"
   ]
  },
  {
   "cell_type": "code",
   "execution_count": 11,
   "id": "d9a0f56c-889f-46f6-88f2-cf205adcc646",
   "metadata": {},
   "outputs": [
    {
     "name": "stdout",
     "output_type": "stream",
     "text": [
      "2304655531136\n",
      "2304655796544\n",
      "2304655795904\n"
     ]
    }
   ],
   "source": [
    "print(id(b[0]))\n",
    "print(id(b[1]))\n",
    "print(id(b[2]))"
   ]
  },
  {
   "cell_type": "code",
   "execution_count": 13,
   "id": "a0d6b6e8-5cb9-4715-98ea-2eaf5acc0805",
   "metadata": {},
   "outputs": [
    {
     "data": {
      "text/plain": [
       "True"
      ]
     },
     "execution_count": 13,
     "metadata": {},
     "output_type": "execute_result"
    }
   ],
   "source": [
    "e=257\n",
    "f=257\n",
    "e is f"
   ]
  },
  {
   "cell_type": "code",
   "execution_count": 15,
   "id": "28a20aab-f7ca-4ccd-b364-c51b0bb91f02",
   "metadata": {},
   "outputs": [
    {
     "data": {
      "text/plain": [
       "True"
      ]
     },
     "execution_count": 15,
     "metadata": {},
     "output_type": "execute_result"
    }
   ],
   "source": [
    "g=256\n",
    "h=256\n",
    "g is h"
   ]
  },
  {
   "cell_type": "code",
   "execution_count": null,
   "id": "1bc80e57-48d9-43f7-bef6-93fa255b7d36",
   "metadata": {},
   "outputs": [],
   "source": [
    "#깊은 복사는 copy 라이브러리를 필요로 함. \n",
    "\n",
    "#안에 있는거까지 다 복사를 해서 아예 별개가 되어버리는. 중첩적으로 갖는 것들까지 아예 새롭게 복사하는 애가 깊은 복사임."
   ]
  },
  {
   "cell_type": "code",
   "execution_count": 16,
   "id": "d6326e51-8f82-41a9-b803-0c5fae18ce98",
   "metadata": {},
   "outputs": [
    {
     "data": {
      "text/plain": [
       "False"
      ]
     },
     "execution_count": 16,
     "metadata": {},
     "output_type": "execute_result"
    }
   ],
   "source": [
    "l1=[1,2,[3,4]]\n",
    "l2=l1.copy()\n",
    "\n",
    "l1 is l2 #copy돼서 복사하면 껍데기가 달라짐"
   ]
  },
  {
   "cell_type": "code",
   "execution_count": 18,
   "id": "753bf4d0-bd22-4422-bdf4-348c59b40049",
   "metadata": {},
   "outputs": [
    {
     "data": {
      "text/plain": [
       "False"
      ]
     },
     "execution_count": 18,
     "metadata": {},
     "output_type": "execute_result"
    }
   ],
   "source": [
    "l3 =[5,6]\n",
    "l4 =l3[:]\n",
    "\n",
    "l3 is l4"
   ]
  },
  {
   "cell_type": "code",
   "execution_count": 21,
   "id": "f0fe402d-a19b-45c2-ad5c-8724bd3f3193",
   "metadata": {},
   "outputs": [
    {
     "data": {
      "text/plain": [
       "False"
      ]
     },
     "execution_count": 21,
     "metadata": {},
     "output_type": "execute_result"
    }
   ],
   "source": [
    "l5 =[7,8,(9, 10)]\n",
    "l6 =l5.copy()\n",
    "\n",
    "l5 is l6"
   ]
  },
  {
   "cell_type": "code",
   "execution_count": 22,
   "id": "f329f6f6-2d38-47d7-a9f8-0407f3c75a3c",
   "metadata": {},
   "outputs": [],
   "source": [
    "#순서대로 하나씩 꺼낼 수 있는것 iterable, 하나씩 꺼낼때마다 반복되는것이 for문. if라는 조건식을 뒤에서 적게 되었을 때 for문에서 나온 변수가 if를 충족할 때에만 expression을 나오게 하고 if문과 맞지 않으면 iterable쪽으로 다시 돌아와. "
   ]
  },
  {
   "cell_type": "code",
   "execution_count": 23,
   "id": "c10b1372-ad27-4366-af70-a17480eda70d",
   "metadata": {},
   "outputs": [
    {
     "name": "stdout",
     "output_type": "stream",
     "text": [
      "[0, 3, 6, 9]\n"
     ]
    }
   ],
   "source": [
    "list_p = [i for i in range(10) if i % 3 ==0]\n",
    "#0부터 9까지 for문에 요소를 꺼내가. \n",
    "#i에 0담은 것을 if문에 들고가. 0%3==0이 맞으니까 0출력하고 그다음 이어서 진행.\n",
    "print(list_p)"
   ]
  },
  {
   "cell_type": "code",
   "execution_count": 24,
   "id": "3bc65291-6e16-4a87-8474-d1c355339114",
   "metadata": {},
   "outputs": [
    {
     "name": "stdout",
     "output_type": "stream",
     "text": [
      "1\n",
      "2\n",
      "3\n",
      "4\n",
      "5\n",
      "3\n",
      "4\n"
     ]
    }
   ],
   "source": [
    "#or\n",
    "#for문을 여러개 작성할 수도 있으며 순서는 우측에서 좌측으로 진행됨. 안쪽에 있는 for문이 먼저 돌아가고 그 다음 진행.\n",
    "\n",
    "easy_list = [[1,2,3,4,5],[3,4]]#각각 0의 인덱싱과 1의 인덱싱을 갖는다.\n",
    "for item in easy_list:\n",
    "    for i in item:\n",
    "        print(i)"
   ]
  },
  {
   "cell_type": "code",
   "execution_count": 34,
   "id": "7df1ca56-f54c-4eb5-a11d-bb044d740b15",
   "metadata": {},
   "outputs": [
    {
     "name": "stdout",
     "output_type": "stream",
     "text": [
      "1\n",
      "2\n",
      "3\n",
      "4\n",
      "5\n",
      "3\n",
      "4\n"
     ]
    }
   ],
   "source": [
    "easy_list = [[1,2,3,4,5],[3,4]]\n",
    "i=0 #easy_list 인덱스 용\n",
    "\n",
    "while i <len(easy_list): #i가 0이잖아. 0,1에 우선 접근을 해야지. 여기에 충족되면 다음으로 while j문 접근. 1)\n",
    "    j=0 #범위에 새로 시작될떄 while이 시작될때 새로 j는 0이 됨.#1,2,3,4,얘네들 각각에 접근\n",
    "    while j < len(easy_list[i]):# 2) easy_list의 인덱스0에 접근햇지. 여기서\n",
    "            print(easy_list[i][j]) #3)[0][0]에 접근할 수 있게 됨. 그럼 1이 나오겠지. \n",
    "            j+=1 #인덱스1씩 증가해서 접근\n",
    "    i+=1"
   ]
  },
  {
   "cell_type": "code",
   "execution_count": 35,
   "id": "bf914c32-161a-4f23-a865-a7cdca281490",
   "metadata": {},
   "outputs": [
    {
     "name": "stdout",
     "output_type": "stream",
     "text": [
      "()\n",
      "<class 'tuple'>\n"
     ]
    }
   ],
   "source": [
    "empty_tuple=tuple()\n",
    "print(empty_tuple)\n",
    "print(type(empty_tuple))"
   ]
  },
  {
   "cell_type": "code",
   "execution_count": 36,
   "id": "6f91b41a-5895-4a4f-9894-63884d82e227",
   "metadata": {},
   "outputs": [
    {
     "name": "stdout",
     "output_type": "stream",
     "text": [
      "()\n",
      "<class 'tuple'>\n"
     ]
    }
   ],
   "source": [
    "empty_tuple=()\n",
    "print(empty_tuple)\n",
    "print(type(empty_tuple))"
   ]
  },
  {
   "cell_type": "code",
   "execution_count": 37,
   "id": "1ef46922-7bfd-42bf-914c-735e6c8d8f12",
   "metadata": {},
   "outputs": [],
   "source": [
    "tup=tuple(i for i in range(10))"
   ]
  },
  {
   "cell_type": "code",
   "execution_count": 38,
   "id": "dcd39c20-4d56-4967-a2e1-47b341a92829",
   "metadata": {},
   "outputs": [
    {
     "data": {
      "text/plain": [
       "tuple"
      ]
     },
     "execution_count": 38,
     "metadata": {},
     "output_type": "execute_result"
    }
   ],
   "source": [
    "type(tup)"
   ]
  },
  {
   "cell_type": "code",
   "execution_count": null,
   "id": "d54405f6-9584-409b-bee9-6e86fd50acad",
   "metadata": {},
   "outputs": [],
   "source": [
    "lis=list"
   ]
  },
  {
   "cell_type": "code",
   "execution_count": null,
   "id": "04686b9c-19b4-4761-9cae-9a9b43ffe176",
   "metadata": {},
   "outputs": [],
   "source": [
    "#그냥 소괄호는 generator 앞에 tuple 붙이면 튜플"
   ]
  },
  {
   "cell_type": "code",
   "execution_count": null,
   "id": "0c01c228-fb5f-4c0a-a851-a9986b326123",
   "metadata": {},
   "outputs": [],
   "source": []
  },
  {
   "cell_type": "code",
   "execution_count": 49,
   "id": "3d336fb5-efce-438a-a884-715a634a8391",
   "metadata": {},
   "outputs": [
    {
     "name": "stdout",
     "output_type": "stream",
     "text": [
      "['alpha', 'bravo', 'delta', 'hotel', 'india']\n"
     ]
    }
   ],
   "source": [
    "a = ['alpha', 'bravo', 'charlie', 'delta', 'echo', 'foxtrot', 'golf', 'hotel', 'india']\n",
    "b= [i for i in a if len(i)==5] #in range는 int 어쩌구 하면서 안나옴\n",
    "print(b)\n",
    "\n",
    "#expression for 변수 in iterable if 조건"
   ]
  },
  {
   "cell_type": "code",
   "execution_count": 53,
   "id": "c1e3c387-4743-41c2-bc4a-93605d71abd0",
   "metadata": {},
   "outputs": [
    {
     "name": "stdin",
     "output_type": "stream",
     "text": [
      "정수 두 개 입력하세요 10 12\n"
     ]
    },
    {
     "data": {
      "text/plain": [
       "['10', '12']"
      ]
     },
     "execution_count": 53,
     "metadata": {},
     "output_type": "execute_result"
    }
   ],
   "source": [
    "a=input('정수 두 개 입력하세요').split(' ')\n",
    "\n",
    "i for i in a if 21>a[0]>0 and 10~\n",
    "if 1 < a[0] <"
   ]
  },
  {
   "cell_type": "code",
   "execution_count": null,
   "id": "6a82214b-5b70-4347-b3e0-0c3dca4d6dcb",
   "metadata": {},
   "outputs": [],
   "source": [
    "a=input('정수 두 개 입력하세요').split(' ')\n",
    "a = list(map(int, a))\n",
    "\n",
    "while 20>=a[0] >= 1:\n",
    "    if 0>a[0]>20:\n",
    "        print('첫번째값의 범위는 1-20입니다')\n",
    "        "
   ]
  },
  {
   "cell_type": "code",
   "execution_count": null,
   "id": "ad5ed8f9-c293-4d8f-8157-e307cddeee1a",
   "metadata": {},
   "outputs": [],
   "source": [
    "i=0\n",
    "while  i <= 50:\n",
    "    if i%2==0:\n",
    "    print(i*2, end='\\t')\n",
    "    i+=1"
   ]
  },
  {
   "cell_type": "code",
   "execution_count": 67,
   "id": "57beaca2-c1b9-4795-8256-e4e3fc1ed74f",
   "metadata": {},
   "outputs": [
    {
     "name": "stdin",
     "output_type": "stream",
     "text": [
      "정수 두 개 입력하세요 10 10\n"
     ]
    },
    {
     "name": "stdout",
     "output_type": "stream",
     "text": [
      "[]\n"
     ]
    }
   ],
   "source": [
    "a=input('정수 두 개 입력하세요').split(' ')\n",
    "a = list(map(int, a))\n",
    "\n",
    "for i in \n",
    "b=[i for i in a if] \n",
    "print(b)"
   ]
  },
  {
   "cell_type": "code",
   "execution_count": 104,
   "id": "f6af7c58-90da-4770-a030-19e4648f28bd",
   "metadata": {},
   "outputs": [
    {
     "name": "stdin",
     "output_type": "stream",
     "text": [
      "정수 두 개 입력하세요 10 30\n"
     ]
    }
   ],
   "source": [
    "b,c = map(int, input('정수 두 개 입력하세요').split(' '))\n",
    "\n",
    "while True: \n",
    "    if b>20 or b<1:\n",
    "        print('첫번째 값의 범위는 1~20입니다')\n",
    "        continue\n",
    "    elif c>30 or c<10:\n",
    "        print('두번째 값의 범위는 10~30입니다')\n",
    "        continue\n",
    "    elif c < b:\n",
    "        print('첫번째 입력 값은 두번째 입력 값보다 작게 입력하시오')\n",
    "    else:\n",
    "        break"
   ]
  },
  {
   "cell_type": "markdown",
   "id": "2d5c0f96-d00d-4f53-913a-9268d057364e",
   "metadata": {},
   "source": [
    "### "
   ]
  },
  {
   "cell_type": "code",
   "execution_count": null,
   "id": "448e5bf8-40a3-4bc7-8768-a13d209d23b4",
   "metadata": {},
   "outputs": [],
   "source": [
    "while True: \n",
    "    if a[0]>20 or a[0]<1:\n",
    "        print('첫번째 값의 범위는 1~20입니다')\n",
    "        continue\n",
    "    elif a[1]>30 or a[1]<10:\n",
    "        print('두번째 값의 범위는 10~30입니다')\n",
    "        continue\n",
    "    elif a[1] < a[0]:\n",
    "        print('첫번째 입력 값은 두번째 입력 값보다 작게 입력하시오')\n",
    "    else:\n",
    "        break"
   ]
  },
  {
   "cell_type": "code",
   "execution_count": 106,
   "id": "f69aecd7-cf84-4254-a533-de302cb040d2",
   "metadata": {},
   "outputs": [
    {
     "name": "stdin",
     "output_type": "stream",
     "text": [
      "정수 10 20\n"
     ]
    },
    {
     "name": "stdout",
     "output_type": "stream",
     "text": [
      "[1024, 4096, 8192, 16384, 32768, 65536, 131072, 262144, 1048576]\n"
     ]
    }
   ],
   "source": [
    "while True: \n",
    "    num1, num2 = map(int, input('정수').split())\n",
    "    \n",
    "    if num1>20 or num1<1: #not을 쓰면 의미가 더 명확하긴 할 것임. (not 1<=num1 <=20)\n",
    "        print('첫번째 값의 범위는 1~20입니다')#여기서 틀리면 저 밑에 컨티뉴 쪽으로 내려가서 다시 인풋 쪽으로 올라감. 5\n",
    "\n",
    "    elif num2>30 or num2<10:\n",
    "        print('두번째 값의 범위는 10~30입니다')\n",
    "\n",
    "    elif num1 >= num2:\n",
    "        print('첫번째 입력 값은 두번째 입력 값보다 작게 입력하시오')\n",
    "    else:\n",
    "        powerof2 = [2**i for i in range (num1, num2+1)]\n",
    "        del powerof2[1]\n",
    "        del powerof2[len(powerof2)-2]#len(power저부분 없어도 됨\n",
    "        print(powerof2)\n",
    "        break\n",
    "    continue #만약 얘가 else 없고 그 자리에 있다고 한다면, 다시 while문으로 와서 whole문이면 조건을 for문이면 요소가 남아있는지를 확인하게 됨. 저 및에 power 저 부분은 실행하지 않게 되는 것임. 여기서는 comtinue 미ㅣㅌ에 건너 뛸것이 없기 때문에 걍없는것과 같ㅇ느 것임. 원래는 어느 조건을 거르기 위해, 흐름을 제어하기 위해 있는 애임\n",
    "    #여기서 컨티누ㅠ는 생략 가능함. "
   ]
  },
  {
   "cell_type": "code",
   "execution_count": 141,
   "id": "773549e3-1f83-4d31-9230-7db7f275a9c8",
   "metadata": {},
   "outputs": [
    {
     "name": "stdin",
     "output_type": "stream",
     "text": [
      "찾는 범위를 입력하세요 20\n"
     ]
    },
    {
     "name": "stdout",
     "output_type": "stream",
     "text": [
      "[3, 4, 5, 5, 5, 6, 6, 7, 7, 7, 7, 7, 8, 8, 8, 8, 9, 9, 9, 9, 9, 9, 10, 10, 10, 10, 10, 10, 11, 11, 11, 11, 11, 11, 11, 11, 11, 12, 12, 12, 12, 12, 12, 13, 13, 13, 13, 13, 13, 13, 13, 13, 13, 13, 14, 14, 14, 14, 14, 14, 14, 14, 14, 14, 15, 15, 15, 15, 15, 15, 15, 15, 15, 15, 15, 16, 16, 16, 16, 16, 16, 16, 16, 16, 16, 16, 17, 17, 17, 17, 17, 17, 17, 17, 17, 17, 17, 17, 17, 17, 17, 18, 18, 18, 18, 18, 18, 18, 18, 18, 18, 18, 18, 19, 19, 19, 19, 19, 19, 19, 19, 19, 19, 19, 19, 19, 19, 19, 19, 19, 20, 20, 20, 20, 20, 20, 20, 20, 20, 20, 20, 20, 20, 20]\n"
     ]
    }
   ],
   "source": [
    "a= int(input('찾는 범위를 입력하세요'))\n",
    "re=[]\n",
    "j=1\n",
    "for i in range(2,a+1):\n",
    "    for j in range(1, i+1):\n",
    "        if i % j!=0:\n",
    "            re.append(i)\n",
    "print(re)"
   ]
  },
  {
   "cell_type": "code",
   "execution_count": null,
   "id": "6c99a83a-5fb6-4d56-985f-7bca162325a8",
   "metadata": {},
   "outputs": [
    {
     "name": "stdin",
     "output_type": "stream",
     "text": [
      "찾는 범위를 입력하세요 20\n"
     ]
    },
    {
     "name": "stdout",
     "output_type": "stream",
     "text": [
      "[3, 4, 5, 5, 5, 6, 6, 7, 7, 7, 7, 7, 8, 8, 8, 8, 9, 9, 9, 9, 9, 9, 10, 10, 10, 10, 10, 10, 11, 11, 11, 11, 11, 11, 11, 11, 11, 12, 12, 12, 12, 12, 12, 13, 13, 13, 13, 13, 13, 13, 13, 13, 13, 13, 14, 14, 14, 14, 14, 14, 14, 14, 14, 14, 15, 15, 15, 15, 15, 15, 15, 15, 15, 15, 15, 16, 16, 16, 16, 16, 16, 16, 16, 16, 16, 16, 17, 17, 17, 17, 17, 17, 17, 17, 17, 17, 17, 17, 17, 17, 17, 18, 18, 18, 18, 18, 18, 18, 18, 18, 18, 18, 18, 19, 19, 19, 19, 19, 19, 19, 19, 19, 19, 19, 19, 19, 19, 19, 19, 19, 20, 20, 20, 20, 20, 20, 20, 20, 20, 20, 20, 20, 20, 20]\n"
     ]
    }
   ],
   "source": [
    "a= int(input('찾는 범위를 입력하세요'))\n",
    "re=[]\n",
    "j=1\n",
    "for i in range(2,a+1):\n",
    "    for j in range(1, i+1):\n",
    "        if i % j!=0:\n",
    "            re.append(i)\n",
    "print(re)"
   ]
  },
  {
   "cell_type": "code",
   "execution_count": 151,
   "id": "f458fe9a-d7fe-4f5d-a5cc-06fb775a5f6f",
   "metadata": {},
   "outputs": [
    {
     "name": "stdin",
     "output_type": "stream",
     "text": [
      "범위 입력하세요 30\n"
     ]
    },
    {
     "name": "stdout",
     "output_type": "stream",
     "text": [
      "2 3 5 7 11 13 17 \n",
      "19 23 29 "
     ]
    }
   ],
   "source": [
    "inData=int(input('범위 입력하세요'))\n",
    "i=2\n",
    "line=0\n",
    "while i <= inData: #2,3,~ 내가 입력한 수 범위 즉 전체 반복문\n",
    "    j=2\n",
    "    while j<=i:\n",
    "        if i % j == 0:\n",
    "            break #나눠졌을 경우 break로 나와서 그 나눠진 숫자가 본인인지에 대한 확인을 거치는데\n",
    "        j+=1\n",
    "    if i == j:#그게 이거임.\n",
    "        print(i, end = ' ')\n",
    "        line+=1\n",
    "        if line ==7:\n",
    "            line=0 #넌 뭐냐?\n",
    "            print()\n",
    "    i+=1"
   ]
  },
  {
   "cell_type": "code",
   "execution_count": 153,
   "id": "cf82c9a0-c4e2-45f5-9b63-f5fce323b74f",
   "metadata": {},
   "outputs": [
    {
     "name": "stdout",
     "output_type": "stream",
     "text": [
      "[7, 7, 1, 5, 8, 10, 3, 6, 4, 3]\n"
     ]
    }
   ],
   "source": [
    "import random\n",
    "random_list=[random.randint(1, 10) for _ in range(10)] #1부터 2까지의 범위안에 난수가 나옴\n",
    "print(random_list)"
   ]
  },
  {
   "cell_type": "code",
   "execution_count": 185,
   "id": "7767fc30-a1a2-4eda-bc6d-4fb3a94f1c5c",
   "metadata": {},
   "outputs": [
    {
     "name": "stdin",
     "output_type": "stream",
     "text": [
      "숫자를 입력하세요 30\n"
     ]
    },
    {
     "name": "stdout",
     "output_type": "stream",
     "text": [
      "그보다 큽니다\n"
     ]
    },
    {
     "name": "stdin",
     "output_type": "stream",
     "text": [
      "숫자를 입력하세요 40\n"
     ]
    },
    {
     "name": "stdout",
     "output_type": "stream",
     "text": [
      "그보다 큽니다\n"
     ]
    },
    {
     "name": "stdin",
     "output_type": "stream",
     "text": [
      "숫자를 입력하세요 50\n"
     ]
    },
    {
     "name": "stdout",
     "output_type": "stream",
     "text": [
      "그보다 큽니다\n"
     ]
    },
    {
     "name": "stdin",
     "output_type": "stream",
     "text": [
      "숫자를 입력하세요 60\n"
     ]
    },
    {
     "name": "stdout",
     "output_type": "stream",
     "text": [
      "그보다 큽니다\n"
     ]
    },
    {
     "name": "stdin",
     "output_type": "stream",
     "text": [
      "숫자를 입력하세요 70\n"
     ]
    },
    {
     "name": "stdout",
     "output_type": "stream",
     "text": [
      "그보다 큽니다\n"
     ]
    },
    {
     "name": "stdin",
     "output_type": "stream",
     "text": [
      "숫자를 입력하세요 90\n"
     ]
    },
    {
     "name": "stdout",
     "output_type": "stream",
     "text": [
      "그보다 큽니다\n"
     ]
    },
    {
     "name": "stdin",
     "output_type": "stream",
     "text": [
      "숫자를 입력하세요 99\n"
     ]
    },
    {
     "name": "stdout",
     "output_type": "stream",
     "text": [
      "맞혔습니다!\n",
      "7 번만에 맞혔습니다\n"
     ]
    },
    {
     "ename": "TypeError",
     "evalue": "sequence item 0: expected str instance, int found",
     "output_type": "error",
     "traceback": [
      "\u001b[1;31m---------------------------------------------------------------------------\u001b[0m",
      "\u001b[1;31mTypeError\u001b[0m                                 Traceback (most recent call last)",
      "\u001b[1;32m~\\AppData\\Local\\Temp\\ipykernel_1352\\3960561043.py\u001b[0m in \u001b[0;36m<module>\u001b[1;34m\u001b[0m\n\u001b[0;32m     20\u001b[0m             \u001b[0mprint\u001b[0m\u001b[1;33m(\u001b[0m\u001b[1;34m'맞혔습니다!'\u001b[0m\u001b[1;33m)\u001b[0m\u001b[1;33m\u001b[0m\u001b[1;33m\u001b[0m\u001b[0m\n\u001b[0;32m     21\u001b[0m             \u001b[0mprint\u001b[0m\u001b[1;33m(\u001b[0m\u001b[0mj\u001b[0m\u001b[1;33m,\u001b[0m\u001b[1;34m'번만에 맞혔습니다'\u001b[0m\u001b[1;33m)\u001b[0m\u001b[1;33m\u001b[0m\u001b[1;33m\u001b[0m\u001b[0m\n\u001b[1;32m---> 22\u001b[1;33m             \u001b[0mprint\u001b[0m\u001b[1;33m(\u001b[0m\u001b[1;34m'입력한 숫자는 다음과 같습니다:'\u001b[0m\u001b[1;33m,\u001b[0m\u001b[1;34m','\u001b[0m\u001b[1;33m.\u001b[0m\u001b[0mjoin\u001b[0m\u001b[1;33m(\u001b[0m\u001b[0mls\u001b[0m\u001b[1;33m)\u001b[0m\u001b[1;33m)\u001b[0m\u001b[1;33m\u001b[0m\u001b[1;33m\u001b[0m\u001b[0m\n\u001b[0m\u001b[0;32m     23\u001b[0m             \u001b[1;32mbreak\u001b[0m\u001b[1;33m\u001b[0m\u001b[1;33m\u001b[0m\u001b[0m\n\u001b[0;32m     24\u001b[0m \u001b[1;33m\u001b[0m\u001b[0m\n",
      "\u001b[1;31mTypeError\u001b[0m: sequence item 0: expected str instance, int found"
     ]
    }
   ],
   "source": [
    "ran=random.randint(1, 100)\n",
    "j=0\n",
    "ls=[]\n",
    "while True:\n",
    "    a=int(input('숫자를 입력하세요'))\n",
    "    ls.append(a)\n",
    "    if a > ran:\n",
    "        j+=1 \n",
    "        print('그보다 작습니다')\n",
    "    elif a < ran:\n",
    "        j+=1 \n",
    "        print('그보다 큽니다')\n",
    "    elif 1>a>100:\n",
    "        j+=1 \n",
    "        print('1~100사이의 숫자를 입력하세요')\n",
    "        \n",
    "    else:\n",
    "        if a == ran:\n",
    "            j+=1 \n",
    "            print('맞혔습니다!')\n",
    "            print(j,'번만에 맞혔습니다')\n",
    "            print('입력한 숫자는 다음과 같습니다:',','.join(ls))\n",
    "            break\n",
    "       \n",
    "        \n",
    "        "
   ]
  },
  {
   "cell_type": "code",
   "execution_count": null,
   "id": "5bf57c77-9846-4d6c-b931-9c4cd2638814",
   "metadata": {},
   "outputs": [],
   "source": [
    "ran=random.randint(1, 100)\n",
    "j=0\n",
    "ls=[]\n",
    "while True:\n",
    "    a=int(input('숫자를 입력하세요'))\n",
    "    ls.append(a)\n",
    "    if a > ran:\n",
    "        j+=1 \n",
    "        print('그보다 작습니다')\n",
    "    elif a < ran:\n",
    "        j+=1 \n",
    "        print('그보다 큽니다')\n",
    "    elif 1>a>100:\n",
    "        j+=1 \n",
    "        print('1~100사이의 숫자를 입력하세요')\n",
    "        \n",
    "    else:\n",
    "        if a == ran:\n",
    "            j+=1 \n",
    "            print('맞혔습니다!')\n",
    "            print(j,'번만에 맞혔습니다')\n",
    "            print('입력한 숫자는 다음과 같습니다:', end=\" \")\n",
    "            \n",
    "            for i in ls:\n",
    "                print(i, end=',')\n",
    "            break\n",
    "       \n",
    "        \n",
    "        "
   ]
  },
  {
   "cell_type": "code",
   "execution_count": null,
   "id": "b0bac3b3-4127-490d-b397-72444ce4fa56",
   "metadata": {},
   "outputs": [],
   "source": [
    "import random\n",
    "\n",
    "target_number=random.randint(1,100)\n",
    "input_values = []\n",
    "\n",
    "while True:\n",
    "    input_values.append(input('1-100'))\n",
    "    _=int(input_values[-1])\n",
    "    if _ < 0 or _>100:\n",
    "        print('')\n",
    "    elif _ < target_number:\n",
    "        print('')\n",
    "    elif _> target_number:\n",
    "        print('')\n",
    "    else:\n",
    "        print('ㅁ자음')\n",
    "        break\n",
    "        \n",
    "print(len(input_values), '번만에 맞춤',sep='')\n",
    "print('입력한 숫자는',','.join(input_values))\n",
    "        "
   ]
  },
  {
   "cell_type": "code",
   "execution_count": null,
   "id": "622512cf-c2b2-4dde-9a40-a6cccbae2264",
   "metadata": {},
   "outputs": [],
   "source": [
    "#join 리스트가 모두 문자열로 이루어져 있을때 리스트를 문자열로 만들어주는데 "
   ]
  },
  {
   "cell_type": "code",
   "execution_count": 182,
   "id": "9a105867-4c96-4ab7-8cbd-e47b2bde95b3",
   "metadata": {},
   "outputs": [],
   "source": [
    "a=list('안녕하세요')"
   ]
  },
  {
   "cell_type": "code",
   "execution_count": 183,
   "id": "514b58af-a06c-43db-8468-9e7b1b892ed9",
   "metadata": {},
   "outputs": [
    {
     "data": {
      "text/plain": [
       "'안?녕?하?세?요'"
      ]
     },
     "execution_count": 184,
     "metadata": {},
     "output_type": "execute_result"
    }
   ],
   "source": [
    "#구분자 넣고, 조인\n",
    "\"?\",.join(a)"
   ]
  },
  {
   "cell_type": "code",
   "execution_count": 186,
   "id": "27393aa8-75bc-42e3-a4cb-ff95b5af8a8d",
   "metadata": {},
   "outputs": [
    {
     "name": "stdout",
     "output_type": "stream",
     "text": [
      "<class 'dict'>\n"
     ]
    }
   ],
   "source": [
    "#set() -> 비시퀀스 -> 순서가 없다. \n",
    "#set_var={키1, 키22, 키3,...}\n",
    "#중괄호 사용하고 키가 고유해야 접근할 수 있기 때문에 중복이 없음\n",
    "\n",
    "print(type({}))#이거랑 아래는 딕셔나리로 만들어질 수 있으니 주의할것. "
   ]
  },
  {
   "cell_type": "code",
   "execution_count": 187,
   "id": "dd48a298-f31a-4255-9afb-d2aa843455f8",
   "metadata": {},
   "outputs": [
    {
     "name": "stdout",
     "output_type": "stream",
     "text": [
      "set()\n"
     ]
    }
   ],
   "source": [
    "#빈 세트 만들기\n",
    "\n",
    "print(set())"
   ]
  },
  {
   "cell_type": "code",
   "execution_count": null,
   "id": "4b791763-0b70-4195-81fd-57385e1df6d4",
   "metadata": {},
   "outputs": [],
   "source": [
    "#키는 우일한 값을 갖는다. 중복된 요소 오지않는다. 같은 값 여러개 넣어도 하나만 존재하게 됨\n",
    "\n",
    "set_var = {expression for 변수 in iterable if 조건식}\n",
    "#대괄호 리스트, 중괄호 세트"
   ]
  },
  {
   "cell_type": "code",
   "execution_count": 188,
   "id": "4cc35d20-62df-487a-9878-d9101bc03c22",
   "metadata": {},
   "outputs": [
    {
     "name": "stdout",
     "output_type": "stream",
     "text": [
      "set() <class 'set'>\n"
     ]
    }
   ],
   "source": [
    "#세트에는 .add()메서드가 존재. 값을 추가할 수 있음. 세트자료형.add(요소)/ 셋은 순서가 없어서 순서상관없이 포함함.\n",
    "\n",
    "#한번에 하나의 값만 넣을 ㅜㅅ 있음. \n",
    "\n",
    "set_var=set()\n",
    "print(set_var, type(set_var))"
   ]
  },
  {
   "cell_type": "code",
   "execution_count": 189,
   "id": "2aafbfe1-cd78-4407-adcf-04602a452dbf",
   "metadata": {},
   "outputs": [
    {
     "name": "stdout",
     "output_type": "stream",
     "text": [
      "{1}\n"
     ]
    }
   ],
   "source": [
    "[set_var.add(1) for _ in range(5)]\n",
    "print(set_var)"
   ]
  },
  {
   "cell_type": "code",
   "execution_count": 192,
   "id": "04a813f0-2bb9-4bb1-8a15-de8260e22e0e",
   "metadata": {},
   "outputs": [],
   "source": [
    "for _ in range(5):#위에거 set_var.add어쩌구 보다 이게 더 나은 방법이긴 하래\n",
    "    set_var.add(1)"
   ]
  },
  {
   "cell_type": "code",
   "execution_count": 194,
   "id": "cc00a864-d56e-4c71-b20c-18794a24b3cb",
   "metadata": {},
   "outputs": [
    {
     "name": "stdout",
     "output_type": "stream",
     "text": [
      "{1}\n"
     ]
    },
    {
     "ename": "KeyError",
     "evalue": "9",
     "output_type": "error",
     "traceback": [
      "\u001b[1;31m---------------------------------------------------------------------------\u001b[0m",
      "\u001b[1;31mKeyError\u001b[0m                                  Traceback (most recent call last)",
      "\u001b[1;32m~\\AppData\\Local\\Temp\\ipykernel_1352\\2479198599.py\u001b[0m in \u001b[0;36m<module>\u001b[1;34m\u001b[0m\n\u001b[0;32m      2\u001b[0m \u001b[1;33m\u001b[0m\u001b[0m\n\u001b[0;32m      3\u001b[0m \u001b[0mprint\u001b[0m\u001b[1;33m(\u001b[0m\u001b[0mset_var\u001b[0m\u001b[1;33m)\u001b[0m\u001b[1;33m\u001b[0m\u001b[1;33m\u001b[0m\u001b[0m\n\u001b[1;32m----> 4\u001b[1;33m \u001b[0mset_var\u001b[0m\u001b[1;33m.\u001b[0m\u001b[0mremove\u001b[0m\u001b[1;33m(\u001b[0m\u001b[1;36m9\u001b[0m\u001b[1;33m)\u001b[0m\u001b[1;33m\u001b[0m\u001b[1;33m\u001b[0m\u001b[0m\n\u001b[0m\u001b[0;32m      5\u001b[0m \u001b[0mprint\u001b[0m\u001b[1;33m(\u001b[0m\u001b[0mset_var\u001b[0m\u001b[1;33m)\u001b[0m\u001b[1;31m#안에 없으면 key error남.\u001b[0m\u001b[1;33m\u001b[0m\u001b[1;33m\u001b[0m\u001b[0m\n\u001b[0;32m      6\u001b[0m \u001b[1;31m#딕셔너리는 del dict_a['key']해서 지웠었음\u001b[0m\u001b[1;33m\u001b[0m\u001b[1;33m\u001b[0m\u001b[0m\n",
      "\u001b[1;31mKeyError\u001b[0m: 9"
     ]
    }
   ],
   "source": [
    "#요소 삭제하기 remove()\n",
    "\n",
    "print(set_var)\n",
    "set_var.remove(9)\n",
    "print(set_var)#안에 없으면 key error남.\n",
    "#딕셔너리는 del dict_a['key']해서 지웠었음"
   ]
  },
  {
   "cell_type": "code",
   "execution_count": 195,
   "id": "6740b5ee-7a3a-4f91-8817-7d11013221d1",
   "metadata": {},
   "outputs": [
    {
     "name": "stdout",
     "output_type": "stream",
     "text": [
      "{1}\n",
      "{1}\n"
     ]
    }
   ],
   "source": [
    "print(set_var)\n",
    "set_var.discard(8)\n",
    "print(set_var)\n",
    "set_var.discard('없는 값')#discard(요소)도 삭제하는 메서드인데 자료형 내에 존재하지 않아도 얘는 에러는 안남"
   ]
  },
  {
   "cell_type": "code",
   "execution_count": null,
   "id": "421847be-f5db-4452-8308-43f6e4366db1",
   "metadata": {},
   "outputs": [],
   "source": [
    "#pop()있는 것에서 뒤에거 뽑긴 하나 셋은 순서가 없으니 없애긴 하지만 어떤게 없어질지는 아무도 모름. 그러나 한개가 없어지기는 함. 그렇다고 완전 랜덤은 또 아니래 어쩌라는거임. 걍 순서를 보장하지 않는다고 ㅐ생각해라\n",
    "set_var={_ for _ in range(20) if _ % 3 == 0}\n",
    "print(set_var)\n",
    "[set_var.어ㅓ"
   ]
  },
  {
   "cell_type": "code",
   "execution_count": null,
   "id": "436ef0ab-61e5-4208-8819-ceebe9613954",
   "metadata": {},
   "outputs": [],
   "source": [
    "set_var.clear()\n",
    "prtin(set_var)\n",
    "#하나도 남김없이 다 지우는 것. "
   ]
  },
  {
   "cell_type": "code",
   "execution_count": null,
   "id": "7c655c8b-2865-42ec-a603-ca082629df91",
   "metadata": {},
   "outputs": [],
   "source": [
    "#요소 개수\n",
    "set_var, 개수는, len(set_var), 입니다"
   ]
  },
  {
   "cell_type": "code",
   "execution_count": 198,
   "id": "069633e3-82bb-4dea-a8c3-bdf8ffe9c24a",
   "metadata": {},
   "outputs": [
    {
     "name": "stdout",
     "output_type": "stream",
     "text": [
      "A: {1, 2, 3, 4} \n",
      "B: {2, 4, 5}\n",
      "set.union(A,B): {1, 2, 3, 4, 5}\n",
      "A ㅣ B: {1, 2, 3, 4, 5}\n"
     ]
    }
   ],
   "source": [
    "A={_ for _ in range(1,5)}\n",
    "B= {_ for _ in range(2,6) if _ != 3}\n",
    "print('A:', A, '\\nB:', B)\n",
    "print('set.union(A,B):', set.union(A,B))\n",
    "print('A ㅣ B:', A|B)"
   ]
  },
  {
   "cell_type": "code",
   "execution_count": 199,
   "id": "dc01d3a8-c545-45a4-b5d3-58d0daec9857",
   "metadata": {},
   "outputs": [
    {
     "name": "stdout",
     "output_type": "stream",
     "text": [
      "A: {1, 2, 3, 4} \n",
      "B: {2, 4, 5}\n",
      "set.union(A,B): {2, 4}\n",
      "A ㅣ B: {2, 4}\n"
     ]
    }
   ],
   "source": [
    "A={_ for _ in range(1,5)}\n",
    "B= {_ for _ in range(2,6) if _ != 3}\n",
    "print('A:', A, '\\nB:', B)\n",
    "print('set.intersection(A,B):', set.intersection(A,B))\n",
    "print('A&B:', A & B)"
   ]
  },
  {
   "cell_type": "code",
   "execution_count": 200,
   "id": "3142edde-4da9-4044-8d8a-d0a723ba6825",
   "metadata": {},
   "outputs": [
    {
     "name": "stdout",
     "output_type": "stream",
     "text": [
      "A: {1, 2, 3, 4} \n",
      "B: {2, 4, 5}\n",
      "set.union(A,B): {1, 3}\n",
      "A - B: {1, 3}\n"
     ]
    }
   ],
   "source": [
    "A={_ for _ in range(1,5)}\n",
    "B= {_ for _ in range(2,6) if _ != 3}\n",
    "print('A:', A, '\\nB:', B)\n",
    "print('set.difference(A,B):', set.difference(A,B))\n",
    "print('A - B:', A - B)"
   ]
  },
  {
   "cell_type": "code",
   "execution_count": 201,
   "id": "aeab1aeb-8ce4-4440-b489-ededdd40fa77",
   "metadata": {},
   "outputs": [
    {
     "name": "stdout",
     "output_type": "stream",
     "text": [
      "A: {1, 2, 3, 4} \n",
      "B: {2, 4, 5}\n",
      "set.symmetric_difference(A,B): {1, 3, 5}\n",
      "A ^ B: {1, 3, 5}\n"
     ]
    }
   ],
   "source": [
    "A={_ for _ in range(1,5)}\n",
    "B= {_ for _ in range(2,6) if _ != 3}\n",
    "print('A:', A, '\\nB:', B)\n",
    "print('set.symmetric_difference(A,B):', set.symmetric_difference(A,B))\n",
    "print('A ^ B:', A ^ B)"
   ]
  },
  {
   "cell_type": "code",
   "execution_count": 202,
   "id": "3ad557b9-ef50-4b38-9f0f-ac014a38a8ae",
   "metadata": {},
   "outputs": [
    {
     "name": "stdout",
     "output_type": "stream",
     "text": [
      "A: {1, 2, 3, 4} \n",
      "B: {2, 4, 5}\n",
      "A.update(B) {1, 2, 3, 4, 5}\n"
     ]
    }
   ],
   "source": [
    "A={_ for _ in range(1,5)}\n",
    "B= {_ for _ in range(2,6) if _ != 3}\n",
    "print('A:', A, '\\nB:', B)\n",
    "A.update(B) # A |= B와 같습니다. \n",
    "print('A.update(B)', A)"
   ]
  },
  {
   "cell_type": "code",
   "execution_count": 204,
   "id": "bf2ea643-a2ea-44c4-b86f-e218abae1bac",
   "metadata": {},
   "outputs": [
    {
     "name": "stdout",
     "output_type": "stream",
     "text": [
      "A: {1, 2, 3, 4} \n",
      "B: {2, 4, 5}\n",
      "A.intersection_update(B) {2, 4}\n"
     ]
    }
   ],
   "source": [
    "A={_ for _ in range(1,5)}\n",
    "B= {_ for _ in range(2,6) if _ != 3}\n",
    "print('A:', A, '\\nB:', B)\n",
    "A.intersection_update(B) # A &= B와 같습니다. \n",
    "print('A.intersection_update(B)', A)"
   ]
  },
  {
   "cell_type": "code",
   "execution_count": 206,
   "id": "bafccf1b-c27b-4eb7-b9f6-6e20422dc67d",
   "metadata": {},
   "outputs": [
    {
     "name": "stdout",
     "output_type": "stream",
     "text": [
      "A: {1, 2, 3, 4} \n",
      "B: {2, 4, 5}\n",
      "A.difference_update(B) {1, 3}\n"
     ]
    }
   ],
   "source": [
    "A={_ for _ in range(1,5)}\n",
    "B= {_ for _ in range(2,6) if _ != 3}\n",
    "print('A:', A, '\\nB:', B)\n",
    "A.difference_update(B) # A -= B와 같습니다. \n",
    "print('A.difference_update(B)', A)"
   ]
  },
  {
   "cell_type": "code",
   "execution_count": 209,
   "id": "0da67a08-5cd9-45b0-80c9-faae6cf7249b",
   "metadata": {},
   "outputs": [
    {
     "name": "stdout",
     "output_type": "stream",
     "text": [
      "A: {1, 2, 3, 4} \n",
      "B: {2, 4, 5}\n",
      "A.symmetric_difference_update(B) {1, 3, 5}\n"
     ]
    }
   ],
   "source": [
    "A={_ for _ in range(1,5)}\n",
    "B= {_ for _ in range(2,6) if _ != 3}\n",
    "print('A:', A, '\\nB:', B)\n",
    "A.symmetric_difference_update(B) # A^= B와 같습니다. \n",
    "print('A.symmetric_difference_update(B)', A)"
   ]
  },
  {
   "cell_type": "code",
   "execution_count": 210,
   "id": "4dcf4fa0-f6cd-4b4e-968a-d211b4449025",
   "metadata": {},
   "outputs": [
    {
     "name": "stdout",
     "output_type": "stream",
     "text": [
      "A: {0, 1, 2} \n",
      "B: {0, 1, 2}\n",
      "A.issubset(B): True\n"
     ]
    }
   ],
   "source": [
    "A={_ for _ in range(0,3)}\n",
    "B= {_ for _ in range(0,3)}\n",
    "print('A:', A, '\\nB:', B)\n",
    "print('A.issubset(B):', A.issubset(B))"
   ]
  },
  {
   "cell_type": "code",
   "execution_count": 211,
   "id": "93904808-4761-4723-8080-de0ca60d97e1",
   "metadata": {},
   "outputs": [
    {
     "name": "stdout",
     "output_type": "stream",
     "text": [
      "A: {0, 1, 2} \n",
      "B: {0, 1}\n",
      "B.issubset(A): True\n"
     ]
    }
   ],
   "source": [
    "A={_ for _ in range(0,3)}\n",
    "B= {_ for _ in range(0,2)}\n",
    "print('A:', A, '\\nB:', B)\n",
    "print('B.issubset(A):', B.issubset(A))"
   ]
  },
  {
   "cell_type": "code",
   "execution_count": 213,
   "id": "fc76f257-35d9-4c68-8aec-8b55da6f68df",
   "metadata": {},
   "outputs": [
    {
     "name": "stdout",
     "output_type": "stream",
     "text": [
      "A: {0, 1, 2} \n",
      "B: {0, 1, 2}\n",
      "A.issubset(B): True\n"
     ]
    }
   ],
   "source": [
    "A={_ for _ in range(0,3)}\n",
    "B= {_ for _ in range(0,3)}\n",
    "print('A:', A, '\\nB:', B)\n",
    "print('A.issubset(B):', A.issuperset(B))#동일할떄는 수퍼셋도 되고 서브셋도 되는구나"
   ]
  },
  {
   "cell_type": "code",
   "execution_count": 212,
   "id": "f9b23e2f-668a-4c53-8299-821af2470e9c",
   "metadata": {},
   "outputs": [
    {
     "name": "stdout",
     "output_type": "stream",
     "text": [
      "A: {0, 1, 2} \n",
      "B: {0, 1}\n",
      "A.issubset(B): True\n"
     ]
    }
   ],
   "source": [
    "A={_ for _ in range(0,3)}\n",
    "B= {_ for _ in range(0,2)}\n",
    "print('A:', A, '\\nB:', B)\n",
    "print('A.issubset(B):', A.issuperset(B))#동일할떄는 수퍼셋도 되고 서브셋도 되는구나"
   ]
  },
  {
   "cell_type": "code",
   "execution_count": 214,
   "id": "1270a719-eeae-401d-b8e2-cee7db4d2613",
   "metadata": {},
   "outputs": [
    {
     "name": "stdout",
     "output_type": "stream",
     "text": [
      "A: {0, 1, 2} \n",
      "B: {0, 1, 2}\n",
      "A > B False\n",
      "A<B False\n"
     ]
    }
   ],
   "source": [
    "A={_ for _ in range(0,3)}\n",
    "B= {_ for _ in range(0,3)}\n",
    "print('A:', A, '\\nB:', B)\n",
    "print('A > B',A>B)\n",
    "print('A<B',A<B)"
   ]
  },
  {
   "cell_type": "code",
   "execution_count": 216,
   "id": "24d0c31d-0fdd-41ad-93a4-b434d14fa555",
   "metadata": {},
   "outputs": [
    {
     "name": "stdout",
     "output_type": "stream",
     "text": [
      "A: {0, 1, 2} \n",
      "B: {0, 1}\n",
      "A > B: True\n",
      "A < B: False\n"
     ]
    }
   ],
   "source": [
    "A={_ for _ in range(0,3)}\n",
    "B= {_ for _ in range(0,2)}\n",
    "print('A:', A, '\\nB:', B)\n",
    "print('A > B:',A>B)\n",
    "print('A < B:',A<B)"
   ]
  },
  {
   "cell_type": "code",
   "execution_count": 217,
   "id": "c363b76b-30de-40ef-872a-e308eda0cdf1",
   "metadata": {},
   "outputs": [
    {
     "name": "stdout",
     "output_type": "stream",
     "text": [
      "A: {0, 1, 2} \n",
      "B: {0, 1, 2}\n",
      "A == B: True\n"
     ]
    }
   ],
   "source": [
    "A={_ for _ in range(0,3)}\n",
    "B= {_ for _ in range(0,3)}\n",
    "print('A:', A, '\\nB:', B)\n",
    "print('A == B:',A == B)"
   ]
  },
  {
   "cell_type": "code",
   "execution_count": 218,
   "id": "bd3a9b44-6a5b-46f7-bec4-0535da7a31e9",
   "metadata": {},
   "outputs": [
    {
     "name": "stdout",
     "output_type": "stream",
     "text": [
      "A: {0, 1, 2} \n",
      "B: {3, 4, 5}\n",
      "A.isdisjoint(B): True\n"
     ]
    }
   ],
   "source": [
    "A={_ for _ in range(0,3)}\n",
    "B= {_ for _ in range(3,6)}\n",
    "print('A:', A, '\\nB:', B)\n",
    "print('A.isdisjoint(B):', A.isdisjoint(B))"
   ]
  },
  {
   "cell_type": "code",
   "execution_count": null,
   "id": "114f93c3-3c90-48a4-a83d-9c62dae50bb6",
   "metadata": {},
   "outputs": [],
   "source": [
    "#중복되지 않는다. 중복"
   ]
  },
  {
   "cell_type": "code",
   "execution_count": 220,
   "id": "c78846e7-89c3-4053-9683-fbfb7466f737",
   "metadata": {},
   "outputs": [
    {
     "name": "stdout",
     "output_type": "stream",
     "text": [
      "{1, 2, 3, 4}\n"
     ]
    }
   ],
   "source": [
    "list_sample = [1, 2, 2, 3, 3, 3, 4, 4, 4, 4]\n",
    "print(set(list_sample))"
   ]
  },
  {
   "cell_type": "code",
   "execution_count": null,
   "id": "4ddc96a4-dfbf-4191-bff6-40368c192280",
   "metadata": {},
   "outputs": [],
   "source": []
  },
  {
   "cell_type": "code",
   "execution_count": null,
   "id": "414462ea-3d68-4fd6-8d5a-80f160dbf4ea",
   "metadata": {},
   "outputs": [],
   "source": []
  }
 ],
 "metadata": {
  "kernelspec": {
   "display_name": "Python 3 (ipykernel)",
   "language": "python",
   "name": "python3"
  },
  "language_info": {
   "codemirror_mode": {
    "name": "ipython",
    "version": 3
   },
   "file_extension": ".py",
   "mimetype": "text/x-python",
   "name": "python",
   "nbconvert_exporter": "python",
   "pygments_lexer": "ipython3",
   "version": "3.9.13"
  }
 },
 "nbformat": 4,
 "nbformat_minor": 5
}
