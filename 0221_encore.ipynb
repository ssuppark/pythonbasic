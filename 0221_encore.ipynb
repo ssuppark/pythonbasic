{
 "cells": [
  {
   "cell_type": "code",
   "execution_count": 1,
   "id": "c9157913-3d2a-4c73-9567-97f6c9a377a3",
   "metadata": {},
   "outputs": [
    {
     "name": "stdout",
     "output_type": "stream",
     "text": [
      "hello world\n",
      "hello world\n",
      "hello world\n",
      "hello world\n",
      "hello world\n",
      "hello world\n",
      "hello world\n",
      "hello world\n",
      "hello world\n",
      "hello world\n"
     ]
    },
    {
     "data": {
      "text/plain": [
       "[None, None, None, None, None, None, None, None, None, None]"
      ]
     },
     "execution_count": 1,
     "metadata": {},
     "output_type": "execute_result"
    }
   ],
   "source": [
    "[print('hello world') for _ in range(10)]"
   ]
  },
  {
   "cell_type": "code",
   "execution_count": 4,
   "id": "2719b4f5-82a4-4351-b57d-34211d6381ad",
   "metadata": {},
   "outputs": [
    {
     "data": {
      "text/plain": [
       "['2', '3', '4', '5', '6', '7', '8', '9', '10', 'J', 'Q', 'K', 'A']"
      ]
     },
     "execution_count": 4,
     "metadata": {},
     "output_type": "execute_result"
    }
   ],
   "source": [
    "[str(i) for i in range(2, 11)]+list('JQKA')"
   ]
  },
  {
   "cell_type": "code",
   "execution_count": 15,
   "id": "c1897084-1161-4616-819f-b8d6c9612255",
   "metadata": {},
   "outputs": [
    {
     "name": "stdout",
     "output_type": "stream",
     "text": [
      "[2, 3, 4, 5, 6, 7, 8, 9, 10]\n"
     ]
    }
   ],
   "source": [
    "result =[]\n",
    "for i in range(2,11):\n",
    "    result.append(i)\n",
    "print(result)"
   ]
  },
  {
   "cell_type": "code",
   "execution_count": null,
   "id": "75181868-8fe4-4b66-a579-ded0887edbfe",
   "metadata": {},
   "outputs": [],
   "source": []
  },
  {
   "cell_type": "code",
   "execution_count": 51,
   "id": "5db092ab-a0b5-45be-a36b-84498bf070be",
   "metadata": {},
   "outputs": [
    {
     "data": {
      "text/plain": [
       "{15, 30, 45, 60, 75, 90}"
      ]
     },
     "execution_count": 51,
     "metadata": {},
     "output_type": "execute_result"
    }
   ],
   "source": [
    "a= {i for i in range(1, 101) if i%3==0}\n",
    "b={j for j in range(1, 101) if j%5==0}\n",
    "result_set=set.intersection(a, b)\n",
    "result_set"
   ]
  },
  {
   "cell_type": "code",
   "execution_count": 59,
   "id": "fc756d99-0fb1-4b6e-b1dd-e3e4b6ab1a5a",
   "metadata": {},
   "outputs": [
    {
     "ename": "SyntaxError",
     "evalue": "invalid syntax (3425421693.py, line 8)",
     "output_type": "error",
     "traceback": [
      "\u001b[1;36m  File \u001b[1;32m\"C:\\Users\\Playdata\\AppData\\Local\\Temp\\ipykernel_8352\\3425421693.py\"\u001b[1;36m, line \u001b[1;32m8\u001b[0m\n\u001b[1;33m    (',',.join(role))\u001b[0m\n\u001b[1;37m         ^\u001b[0m\n\u001b[1;31mSyntaxError\u001b[0m\u001b[1;31m:\u001b[0m invalid syntax\n"
     ]
    }
   ],
   "source": [
    "role_admin = (\"회계 관리\", \"인사 관리\", \"구매 관리\", \"시스템 관리\")\n",
    "role_hr = (\"인사 관리\", \"개인정보 조회\", \"회계 관리\", \"근태 관리\")\n",
    "role_user = (\"개인정보 조회\", \"근태 관리\")\n",
    "\n",
    "role=set(role_admin+role_hr+role_user)\n",
    "role=list(role)\n",
    "role.sort()\n",
    "(',',.join(role))"
   ]
  },
  {
   "cell_type": "code",
   "execution_count": 67,
   "id": "630016d9-1d99-4de7-9d9b-e8b439c5ad43",
   "metadata": {},
   "outputs": [
    {
     "name": "stdout",
     "output_type": "stream",
     "text": [
      "개인정보 조회,구매 관리,근태 관리,시스템 관리,인사 관리,회계 관리"
     ]
    }
   ],
   "source": [
    "menus=list(set(role_admin+role_hr+role_user))\n",
    "menus.sort()\n",
    "end_char=','\n",
    "for menu in menus:\n",
    "    if menus[-1] == menu:\n",
    "        end_char=\"\"\n",
    "    print(menu, end=end_char)"
   ]
  },
  {
   "cell_type": "code",
   "execution_count": 76,
   "id": "cc6734ef-027f-4f44-b9ab-04900d601e4f",
   "metadata": {},
   "outputs": [
    {
     "name": "stdout",
     "output_type": "stream",
     "text": [
      "개인정보 조회,구매 관리,근태 관리,시스템 관리,인사 관리,회계 관리"
     ]
    }
   ],
   "source": [
    "menus=list(set(role_admin+role_hr+role_user))\n",
    "menus.sort()\n",
    "end_char=','.join(menus)\n",
    "menus=list(set(role_admin+role_hr+role_user))\n",
    "\n",
    "#아래 다시 봐라\n",
    "for menu in menus:\n",
    "    if menus[-1] == menu:\n",
    "        end_char=\"\"\n",
    "    print(menu, end=end_char)"
   ]
  },
  {
   "cell_type": "markdown",
   "id": "17a8e567-cb62-4af1-9354-cdf327bb47a9",
   "metadata": {},
   "source": [
    "#def 함수명(인자, 인자).. #인자를 파라미터라고 칭함\n",
    "    함수코드..\n",
    "    return 반환값\n",
    "    \n",
    "#함수정의부\n",
    "\n",
    "\n",
    "\n",
    "x=함수명(인수, 인수,..)\n",
    "print('결과값:', x)\n",
    "\n",
    "#메인코드"
   ]
  },
  {
   "cell_type": "code",
   "execution_count": 77,
   "id": "4324dd18-1693-4b52-910c-01d1d14e9ce1",
   "metadata": {},
   "outputs": [],
   "source": [
    "#function_name(agr1, arg2,..)\n",
    "\n",
    "#def function_name(param1, param2..):\n",
    "    #result=param1+param2\n",
    "    #return result\n",
    "    \n",
    "#return은 함수 호출한 곳에 돌려주는ㄷ데 값이 여러개라면 리스트, 튜플로 리턴한다. \n",
    "#튜프른 소괄호 생략가능하다 햇지? return re1, r2, r3로 내보낸다면 이건 여러 요소를 \n",
    "#내보내는 것이 아닌 튜플 한개를 내보낸것이 됨. "
   ]
  },
  {
   "cell_type": "code",
   "execution_count": 78,
   "id": "7a4e439b-3108-4f2e-b4db-5c03dd6648aa",
   "metadata": {},
   "outputs": [],
   "source": [
    "#함수는 클래스에 포함되지 않은 채로 사용됨\n",
    "#함수명((인수1), (인수2),...)\n",
    "#메서드는 클래스에 포함되어 객체를 통해 호출됨. 클래스를 다룰 때 더 집중해보겠습니다. \n",
    "#객체.메서드명((인수1),(인수2), ..)\n",
    "\n",
    "#클래스로부터 만들어진 객체: instance. 기능(method)가 명시된 것들만 점찍고 상요가능하다?\n",
    "#클래스가 다른 것들은 메서드도 다 다를것임. \n",
    "#객체 종류에 따라 쓸 수 있는 메서드도 달라진다. "
   ]
  },
  {
   "cell_type": "code",
   "execution_count": null,
   "id": "99f3a3e7-7205-49bf-8775-cb33f12a87b6",
   "metadata": {},
   "outputs": [],
   "source": [
    "#함수는 미리 정의해둔 정의절을 실행해야 호출이 가능함. \n",
    "\n",
    "def 함수명(인자, 인자, "
   ]
  },
  {
   "cell_type": "code",
   "execution_count": 79,
   "id": "497be8b6-eb2d-4c8e-b694-cb3da92a57ae",
   "metadata": {},
   "outputs": [],
   "source": [
    "def print_ten():\n",
    "    \"\"\"print(\"hello\")를 열번 출력합니다.\"\"\" #dog string\n",
    "    for _ in range(10):\n",
    "        print(\"hello\")"
   ]
  },
  {
   "cell_type": "code",
   "execution_count": 81,
   "id": "84ecb742-a6df-4336-a4fc-0f4c29e7884a",
   "metadata": {},
   "outputs": [
    {
     "name": "stdout",
     "output_type": "stream",
     "text": [
      "hello\n",
      "hello\n",
      "hello\n",
      "hello\n",
      "hello\n",
      "hello\n",
      "hello\n",
      "hello\n",
      "hello\n",
      "hello\n"
     ]
    }
   ],
   "source": [
    "print_ten()"
   ]
  },
  {
   "cell_type": "code",
   "execution_count": 85,
   "id": "be42618f-09a3-4844-ade5-c9134ae65541",
   "metadata": {},
   "outputs": [
    {
     "name": "stdout",
     "output_type": "stream",
     "text": [
      "print(\"hello\")를 열번 출력합니다.\n"
     ]
    }
   ],
   "source": [
    "print(print_ten.__doc__)"
   ]
  },
  {
   "cell_type": "code",
   "execution_count": 86,
   "id": "a565bc3b-aaae-4bdf-a832-b134c3c2a0b8",
   "metadata": {},
   "outputs": [
    {
     "name": "stdout",
     "output_type": "stream",
     "text": [
      "print(value, ..., sep=' ', end='\\n', file=sys.stdout, flush=False)\n",
      "\n",
      "Prints the values to a stream, or to sys.stdout by default.\n",
      "Optional keyword arguments:\n",
      "file:  a file-like object (stream); defaults to the current sys.stdout.\n",
      "sep:   string inserted between values, default a space.\n",
      "end:   string appended after the last value, default a newline.\n",
      "flush: whether to forcibly flush the stream.\n"
     ]
    }
   ],
   "source": [
    "print(print.__doc__)"
   ]
  },
  {
   "cell_type": "code",
   "execution_count": 91,
   "id": "6da1477e-d3c1-4eb1-a236-cd15b2d0b9de",
   "metadata": {},
   "outputs": [],
   "source": [
    "def print_ten(some_str):#여기서\n",
    "    \"\"\"print(\"hello\")를 열번 출력합니다.\"\"\" #dog string\n",
    "    for _ in range(10):\n",
    "        print(some_str)"
   ]
  },
  {
   "cell_type": "code",
   "execution_count": 92,
   "id": "97ece269-bee8-4135-aa79-f14e340e3e05",
   "metadata": {},
   "outputs": [
    {
     "name": "stdout",
     "output_type": "stream",
     "text": [
      "문자열\n",
      "문자열\n",
      "문자열\n",
      "문자열\n",
      "문자열\n",
      "문자열\n",
      "문자열\n",
      "문자열\n",
      "문자열\n",
      "문자열\n"
     ]
    }
   ],
   "source": [
    "print_ten('문자열')#이게"
   ]
  },
  {
   "cell_type": "code",
   "execution_count": 93,
   "id": "31a82d40-9ce9-415b-af00-02a96860c9ae",
   "metadata": {},
   "outputs": [],
   "source": [
    "def greeting(name, age): #정의절에서 사용하는 params(매개변수)\n",
    "    print(f'{name}씨 안녕하세요. 약 {age * 365.25}일 되었습니다.')"
   ]
  },
  {
   "cell_type": "code",
   "execution_count": 94,
   "id": "0a1ff105-5356-4d9c-80c6-116822c2b37b",
   "metadata": {},
   "outputs": [
    {
     "name": "stdout",
     "output_type": "stream",
     "text": [
      "파이썬씨 안녕하세요. 약 11688.0일 되었습니다.\n"
     ]
    }
   ],
   "source": [
    "greeting('파이썬', 32) #호출하는 arguments"
   ]
  },
  {
   "cell_type": "code",
   "execution_count": 97,
   "id": "8b462ec3-af86-4643-9119-7d185b4af0e2",
   "metadata": {},
   "outputs": [],
   "source": [
    "#위치도 되고 키워드도 되는 경우(positional or keyword params)\n",
    "def greeting(name, age): #기본값 없음. name=홍길동, age=30뭐 ㅣㅇㄹ케 주면 기본값.\n",
    "    print(f'{name}씨 안녕하세요. 약 {age * 365.25}일 되었습니다.')\n",
    "    #기본값이 여기는 없으니까 프린트 문에서 출력못하지? 그럼 에러 발생\n",
    "    #뭐라는거임 ;;?하아ㅏㅏㅏㅏㅏㅏㅏㅏ;;;;;;"
   ]
  },
  {
   "cell_type": "code",
   "execution_count": 100,
   "id": "99a8f6f9-50a1-4f4c-af0b-27e8d93329a2",
   "metadata": {},
   "outputs": [
    {
     "ename": "TypeError",
     "evalue": "greeting() missing 2 required positional arguments: 'name' and 'age'",
     "output_type": "error",
     "traceback": [
      "\u001b[1;31m---------------------------------------------------------------------------\u001b[0m",
      "\u001b[1;31mTypeError\u001b[0m                                 Traceback (most recent call last)",
      "\u001b[1;32m~\\AppData\\Local\\Temp\\ipykernel_8352\\1649121349.py\u001b[0m in \u001b[0;36m<module>\u001b[1;34m\u001b[0m\n\u001b[1;32m----> 1\u001b[1;33m \u001b[0mgreeting\u001b[0m\u001b[1;33m(\u001b[0m\u001b[1;33m)\u001b[0m\u001b[1;31m#에러에러~ 에러발생~ #즉, 기본값 설정을 안했으면 저기에 필수로 넣어줘야 실행이 되는구나를 알 수 있음.\u001b[0m\u001b[1;33m\u001b[0m\u001b[1;33m\u001b[0m\u001b[0m\n\u001b[0m\u001b[0;32m      2\u001b[0m \u001b[1;31m#나이 적고 이름 적어도 안됨. 왜냐면 타입에 민감하게 동작하는 함수는 에러 발생할 수 있기 때문임.\u001b[0m\u001b[1;33m\u001b[0m\u001b[1;33m\u001b[0m\u001b[0m\n\u001b[0;32m      3\u001b[0m \u001b[1;31m#여기서는 age에서 숫자를 곱하고 있기 때문에 예민함.\u001b[0m\u001b[1;33m\u001b[0m\u001b[1;33m\u001b[0m\u001b[0m\n\u001b[0;32m      4\u001b[0m \u001b[1;31m#근데\u001b[0m\u001b[1;33m\u001b[0m\u001b[1;33m\u001b[0m\u001b[0m\n\u001b[0;32m      5\u001b[0m \u001b[0mgreeting\u001b[0m\u001b[1;33m(\u001b[0m\u001b[0mage\u001b[0m\u001b[1;33m=\u001b[0m\u001b[1;36m32\u001b[0m\u001b[1;33m,\u001b[0m \u001b[0mname\u001b[0m\u001b[1;33m=\u001b[0m\u001b[1;34m'홍길동'\u001b[0m\u001b[1;33m)\u001b[0m\u001b[1;33m\u001b[0m\u001b[1;33m\u001b[0m\u001b[0m\n",
      "\u001b[1;31mTypeError\u001b[0m: greeting() missing 2 required positional arguments: 'name' and 'age'"
     ]
    }
   ],
   "source": [
    "greeting()\n",
    "#에러에러~ 에러발생~ #즉, 기본값 설정을 안했으면 저기에 필수로 넣어줘야 실행이 되는구나를 알 수 있음. \n",
    "\n",
    "#나이 적고 이름 적어도 안됨. 왜냐면 타입에 민감하게 동작하는 함수는 에러 발생할 수 있기 때문임.\n",
    "#여기서는 age에서 숫자를 곱하고 있기 때문에 예민함. \n",
    "\n",
    "#근데\n",
    "greeting(age=32, name='홍길동') #이거는 지정을 해줬기 때문에 순서가 바뀌어도 상관이 없데 되는 거임. \n",
    "#즉, keyword 간에 위치는 여기서 중요치 않음. "
   ]
  },
  {
   "cell_type": "code",
   "execution_count": 101,
   "id": "2c506861-c765-45fe-a4f2-6bd293149aa8",
   "metadata": {},
   "outputs": [
    {
     "ename": "SyntaxError",
     "evalue": "positional argument follows keyword argument (1594963977.py, line 2)",
     "output_type": "error",
     "traceback": [
      "\u001b[1;36m  File \u001b[1;32m\"C:\\Users\\Playdata\\AppData\\Local\\Temp\\ipykernel_8352\\1594963977.py\"\u001b[1;36m, line \u001b[1;32m2\u001b[0m\n\u001b[1;33m    greeting(name='파이썬', 32)\u001b[0m\n\u001b[1;37m                           ^\u001b[0m\n\u001b[1;31mSyntaxError\u001b[0m\u001b[1;31m:\u001b[0m positional argument follows keyword argument\n"
     ]
    }
   ],
   "source": [
    "#position argum을 먼저쓰고 keyword 인수를 써라. \n",
    "greeting(name='파이썬', 32)\n",
    "#not default 파람을 먼저 오고 디폴트 파람을 선언해야한다. \n",
    "greeting(name='default name', age)"
   ]
  },
  {
   "cell_type": "code",
   "execution_count": 102,
   "id": "1157ab3d-2154-4a4a-993e-c419e48e66ca",
   "metadata": {},
   "outputs": [],
   "source": [
    "#위치 전용 인자\n",
    "def posonly(posonly, /):#/를 인자로 위치시키면 왼편의 파람은 positional only param이 됨. 즉, 호출하는 쪽에서 강제한다는 말임. 함수 호출시 위치 키워드 인수로만 전달하게끔 강제하는 것임 누구한테?posonly 쟤 param에\n",
    "    print(posonly)\n",
    "    "
   ]
  },
  {
   "cell_type": "code",
   "execution_count": 103,
   "id": "4043b2d8-d9b1-4799-b8af-81376e5050aa",
   "metadata": {},
   "outputs": [
    {
     "name": "stdout",
     "output_type": "stream",
     "text": [
      "값만 입력해야 합니다.\n"
     ]
    }
   ],
   "source": [
    "posonly(\"값만 입력해야 합니다.\")"
   ]
  },
  {
   "cell_type": "code",
   "execution_count": 104,
   "id": "3a9d82c2-abea-4b82-b279-c8f1350474c0",
   "metadata": {},
   "outputs": [
    {
     "ename": "TypeError",
     "evalue": "posonly() got some positional-only arguments passed as keyword arguments: 'posonly'",
     "output_type": "error",
     "traceback": [
      "\u001b[1;31m---------------------------------------------------------------------------\u001b[0m",
      "\u001b[1;31mTypeError\u001b[0m                                 Traceback (most recent call last)",
      "\u001b[1;32m~\\AppData\\Local\\Temp\\ipykernel_8352\\3425084778.py\u001b[0m in \u001b[0;36m<module>\u001b[1;34m\u001b[0m\n\u001b[0;32m      2\u001b[0m     \u001b[0mprint\u001b[0m\u001b[1;33m(\u001b[0m\u001b[0mposonly\u001b[0m\u001b[1;33m)\u001b[0m\u001b[1;33m\u001b[0m\u001b[1;33m\u001b[0m\u001b[0m\n\u001b[0;32m      3\u001b[0m \u001b[1;33m\u001b[0m\u001b[0m\n\u001b[1;32m----> 4\u001b[1;33m \u001b[0mposonly\u001b[0m\u001b[1;33m(\u001b[0m\u001b[0mposonly\u001b[0m\u001b[1;33m=\u001b[0m\u001b[1;34m'키워드 인수로 전달하면 오류 발생'\u001b[0m\u001b[1;33m)\u001b[0m\u001b[1;33m\u001b[0m\u001b[1;33m\u001b[0m\u001b[0m\n\u001b[0m",
      "\u001b[1;31mTypeError\u001b[0m: posonly() got some positional-only arguments passed as keyword arguments: 'posonly'"
     ]
    }
   ],
   "source": [
    "def posonly(posonly,/):\n",
    "    print(posonly)\n",
    "    \n",
    "posonly(posonly='키워드 인수로 전달하면 오류 발생')"
   ]
  },
  {
   "cell_type": "code",
   "execution_count": 109,
   "id": "7bcfa103-b92d-47fe-99a1-fc81be68ac71",
   "metadata": {},
   "outputs": [],
   "source": [
    "#키워드 전용 인자\n",
    "def keyonly(*, keyonly ='default'): #별표 기준으로 오른쪽에 오는게 키워드전용인자. 키워드 온리파람도 기본값 설정이 가능함\n",
    "    print(keyonly)\n",
    "#keyonly()\n",
    "#keyonly(keyonly='print할 값')\n",
    "#keyonly('print할 값')#이거는 불가능"
   ]
  },
  {
   "cell_type": "code",
   "execution_count": 110,
   "id": "f8ed69c1-c1e9-4ffd-a99b-d357ee89ed23",
   "metadata": {},
   "outputs": [
    {
     "name": "stdout",
     "output_type": "stream",
     "text": [
      "키워드로만 입력해야 합니다.\n"
     ]
    }
   ],
   "source": [
    "def keyonly(*, keyonly):#default\n",
    "    print(keyonly)\n",
    "    \n",
    "keyonly(keyonly='키워드로만 입력해야 합니다.')#키워드 아규먼트"
   ]
  },
  {
   "cell_type": "code",
   "execution_count": 111,
   "id": "d722ec4c-af47-46ec-a19d-22b5168f0657",
   "metadata": {},
   "outputs": [
    {
     "name": "stdout",
     "output_type": "stream",
     "text": [
      "<class 'tuple'>\n",
      "15\n"
     ]
    }
   ],
   "source": [
    "#가변 위치 인자\n",
    "#명시된 인자외에도 추가적으로 위치 인수를 개수에 상과없이 유연하게 전달 받을 수 있스비낟. \n",
    "def var_positional(*args):#딱 붙여서 씀 #가변 변수로 사용할 변수 앞에 *를 하나 붙이면 가변-위치 인자로 사용할 수 있습니다. \n",
    "    print(type(args))\n",
    "    return sum([_ for _ in args])#안에 있는 모든 요소들을 합친다.\n",
    "\n",
    "print(var_positional(1,2,3,4,5))#패킹한것임"
   ]
  },
  {
   "cell_type": "code",
   "execution_count": 112,
   "id": "545c222d-b200-42ed-8c26-a9aa62674883",
   "metadata": {},
   "outputs": [
    {
     "name": "stdout",
     "output_type": "stream",
     "text": [
      "<class 'tuple'>\n",
      "0\n"
     ]
    }
   ],
   "source": [
    "def var_positional(*args):\n",
    "    print(type(args))\n",
    "    return sum([_ for _ in args])\n",
    "\n",
    "print(var_positional())\n",
    "#해당 변수에 값을 전달하는 인수가 아예 없어도 함수가 동작하는데 문제 없도록 함수 바디를 작성하는 것이 좋습니다. "
   ]
  },
  {
   "cell_type": "code",
   "execution_count": 115,
   "id": "72a36d5c-b164-49b9-b8f3-9a849dab153a",
   "metadata": {},
   "outputs": [
    {
     "name": "stdout",
     "output_type": "stream",
     "text": [
      "<class 'dict'>\n",
      "{'key': 'value', 'key2': 'value2'}\n"
     ]
    }
   ],
   "source": [
    "def var_keyword(**kargs): #가변 변수로 사용할 변수 앞에 **붙이면 가변 키워등 ㅣㄴ자로 사용할 수 있음. \n",
    "    print(type(kargs))\n",
    "    return kargs\n",
    "\n",
    "print(var_keyword(key='value', key2='value2'))#이게 dict로 패킹되어 kargs로\n",
    "#명시된 인자외에 추가적으로 키워드 인수를 개수에 상관없이 유연하게 전달 받을 수 있음. 가변 변수로 사용할 변수명 앞에 **붗여 표기함. "
   ]
  },
  {
   "cell_type": "code",
   "execution_count": 116,
   "id": "2f8cb023-2f64-49fc-8b79-df2cf5407c2f",
   "metadata": {},
   "outputs": [
    {
     "data": {
      "text/plain": [
       "{'key': 'value', 'key2': 'value2'}"
      ]
     },
     "execution_count": 116,
     "metadata": {},
     "output_type": "execute_result"
    }
   ],
   "source": [
    "dict(key='value', key2='value2') #dict 함수의 반환결과와 같음"
   ]
  },
  {
   "cell_type": "code",
   "execution_count": 118,
   "id": "393ea714-ae49-411c-9758-e46e8a6e0698",
   "metadata": {},
   "outputs": [
    {
     "name": "stdout",
     "output_type": "stream",
     "text": [
      "<class 'dict'>\n",
      "{}\n"
     ]
    }
   ],
   "source": [
    "def var_keyword(**kargs):\n",
    "    print(type(kargs))\n",
    "    return kargs\n",
    "\n",
    "print(var_keyword())"
   ]
  },
  {
   "cell_type": "code",
   "execution_count": null,
   "id": "ef95b85f-1d18-4c18-bd04-54d03afb858e",
   "metadata": {},
   "outputs": [],
   "source": [
    "#return은 keyword를 만나면 함수를 빠져나감. return을 여러번 쓸 수 있음. "
   ]
  },
  {
   "cell_type": "code",
   "execution_count": 145,
   "id": "51649344-10ef-43be-a262-8aa045b2c315",
   "metadata": {},
   "outputs": [
    {
     "name": "stdin",
     "output_type": "stream",
     "text": [
      "정수를 입력하세요 10\n"
     ]
    },
    {
     "name": "stdout",
     "output_type": "stream",
     "text": [
      "plus_ten(10)\n",
      "반환값: 20\n"
     ]
    }
   ],
   "source": [
    "a=int(input('정수를 입력하세요'))\n",
    "\n",
    "def plus_ten(a):\n",
    "    return a+10\n",
    "\n",
    "print('plus_ten('+ str(a) +')')\n",
    "print('반환값:',plus_ten(a))\n"
   ]
  },
  {
   "cell_type": "code",
   "execution_count": 148,
   "id": "9c39b4b0-3d4c-4c24-bab8-4c3477b8ef5d",
   "metadata": {},
   "outputs": [
    {
     "name": "stdout",
     "output_type": "stream",
     "text": [
      "80\n"
     ]
    }
   ],
   "source": [
    "def plus_ten(num):\n",
    "    return num + 10\n",
    "print(plus_ten(70))#input을 안써도 되는군앙~"
   ]
  },
  {
   "cell_type": "code",
   "execution_count": 180,
   "id": "81b0cb60-78f1-4c68-8669-ec6f87201e69",
   "metadata": {},
   "outputs": [
    {
     "name": "stdout",
     "output_type": "stream",
     "text": [
      "섭씨 화씨 바꾸는거\n",
      "반환값: 21.11111111111111\n"
     ]
    }
   ],
   "source": [
    "def to_celsius(fahrenheit):\n",
    "    \"\"\"섭씨 화씨 바꾸는거\"\"\"\n",
    "    return (fahrenheit-32)*5/9\n",
    "print(to_celsius.__doc__)\n",
    "print('반환값:', to_celsius(70))"
   ]
  },
  {
   "cell_type": "code",
   "execution_count": 179,
   "id": "c32a3736-19dd-4112-898b-017d76e5939a",
   "metadata": {},
   "outputs": [
    {
     "name": "stdout",
     "output_type": "stream",
     "text": [
      "number가 짝수면\"짝수\", 홀수면 \"홀수\" 반환\n",
      "짝수\n",
      "홀수\n",
      "None\n"
     ]
    }
   ],
   "source": [
    "def odd_even(number):\n",
    "    \"\"\"number가 짝수면\"짝수\", 홀수면 \"홀수\" 반환\"\"\"\n",
    "    if type(number)==str:\n",
    "        return\n",
    "    elif number%2==0:\n",
    "        return '짝수'\n",
    "    elif number%2==1:\n",
    "        return '홀수'\n",
    "    \n",
    "    \n",
    "print(odd_even.__doc__)\n",
    "print(odd_even(10))\n",
    "print(odd_even(9))\n",
    "print(odd_even('가'))\n",
    "#return -> None\n",
    "#return 값 -> 값 자체를 함수 호출한 곳으로 가져간다."
   ]
  },
  {
   "cell_type": "code",
   "execution_count": 182,
   "id": "04260896-3e06-45e4-ade2-04c91fcd781f",
   "metadata": {},
   "outputs": [
    {
     "name": "stdout",
     "output_type": "stream",
     "text": [
      "number가 짝수면\"짝수\", 홀수면 \"홀수\" 반환\n",
      "짝수\n",
      "홀수\n",
      "None\n"
     ]
    }
   ],
   "source": [
    "def odd_even(number):\n",
    "    \"\"\"number가 짝수면\"짝수\", 홀수면 \"홀수\" 반환\"\"\"\n",
    "    if type(number) is int and number >0:\n",
    "        return \"짝수\" *(number %2 ==0) or \"홀수\" #괄호가 tf 값을 가짐. t==1,f==0. 짝수가 아니라면 or로 넘어가서 홀수 나옴. 홀수가 앞에가면 홀수홀수홀수 일케 반복된다(?)\n",
    "    \n",
    "    else:\n",
    "        return\n",
    "    \n",
    "print(odd_even.__doc__)\n",
    "print(odd_even(10))\n",
    "print(odd_even(9))\n",
    "print(odd_even('가'))"
   ]
  },
  {
   "cell_type": "code",
   "execution_count": 188,
   "id": "cb52985f-4dfa-4f49-889c-33131446beac",
   "metadata": {},
   "outputs": [
    {
     "name": "stdin",
     "output_type": "stream",
     "text": [
      "숫자를 입력하세여 10.1\n"
     ]
    }
   ],
   "source": [
    "number=input('숫자를 입력하세여')"
   ]
  },
  {
   "cell_type": "code",
   "execution_count": 189,
   "id": "f4cf4c09-5927-465e-96ae-751695d12521",
   "metadata": {},
   "outputs": [
    {
     "data": {
      "text/plain": [
       "str"
      ]
     },
     "execution_count": 189,
     "metadata": {},
     "output_type": "execute_result"
    }
   ],
   "source": [
    "type(number)"
   ]
  },
  {
   "cell_type": "code",
   "execution_count": 190,
   "id": "c3e15a0b-3feb-4c4f-97fc-29a92225a0a4",
   "metadata": {},
   "outputs": [
    {
     "data": {
      "text/plain": [
       "'10.1'"
      ]
     },
     "execution_count": 190,
     "metadata": {},
     "output_type": "execute_result"
    }
   ],
   "source": [
    "number"
   ]
  },
  {
   "cell_type": "code",
   "execution_count": 191,
   "id": "eace73aa-c7e7-4497-9e92-b430d8525fd1",
   "metadata": {},
   "outputs": [
    {
     "data": {
      "text/plain": [
       "False"
      ]
     },
     "execution_count": 191,
     "metadata": {},
     "output_type": "execute_result"
    }
   ],
   "source": [
    "number.isdecimal()#숫자로 변환 가능한 애들 true\n",
    "#소수점으로 갖는 애들은 int안되지."
   ]
  },
  {
   "cell_type": "code",
   "execution_count": 192,
   "id": "84d44a8e-e5b5-488a-9fb0-dadb5ab07104",
   "metadata": {},
   "outputs": [],
   "source": [
    "def to_int(number):\n",
    "    if number.isdecimal():\n",
    "        return int(number)\n",
    "    return"
   ]
  },
  {
   "cell_type": "code",
   "execution_count": 193,
   "id": "f649cff9-8614-48bb-b6e5-9f0da977873c",
   "metadata": {},
   "outputs": [
    {
     "name": "stdout",
     "output_type": "stream",
     "text": [
      "None\n"
     ]
    }
   ],
   "source": [
    "print(to_int(number))"
   ]
  },
  {
   "cell_type": "code",
   "execution_count": 195,
   "id": "2b633a8c-b174-4f8a-9a97-23a381bd1e8a",
   "metadata": {},
   "outputs": [
    {
     "name": "stdout",
     "output_type": "stream",
     "text": [
      "윤년\n"
     ]
    }
   ],
   "source": [
    "def check_leap_year(year):\n",
    "    if year%100==0 and year%400 !=0:\n",
    "        return '평년'\n",
    "    elif year%4==0:\n",
    "        return '윤년'\n",
    "    else:\n",
    "        return '평년'\n",
    "\n",
    "\n",
    "print(check_leap_year(2000))"
   ]
  },
  {
   "cell_type": "code",
   "execution_count": 200,
   "id": "6d06ef88-6e74-476a-b6e9-a8c51d4ea465",
   "metadata": {},
   "outputs": [
    {
     "name": "stdout",
     "output_type": "stream",
     "text": [
      "윤년\n"
     ]
    }
   ],
   "source": [
    "def check_leap_year(year):\n",
    "    if (year%100==0 and year%400 !=0) or year%4 != 0:\n",
    "        return '평년'\n",
    "    else:\n",
    "        return '윤년'\n",
    "\n",
    "\n",
    "print(check_leap_year(2004))"
   ]
  },
  {
   "cell_type": "code",
   "execution_count": 201,
   "id": "fcce5863-35c7-4bbc-8045-0237150cc2ea",
   "metadata": {},
   "outputs": [],
   "source": [
    "def check_leap_year(year):\n",
    "    if year%4 == 0 and (year%100!=0 or year%400 ==0)  :\n",
    "        return '윤년'\n",
    "    else:\n",
    "        return '평년'"
   ]
  },
  {
   "cell_type": "code",
   "execution_count": 224,
   "id": "9c054c5d-cb4b-46dd-b0b0-41bc5e6561b3",
   "metadata": {},
   "outputs": [
    {
     "ename": "SyntaxError",
     "evalue": "invalid syntax (2500833947.py, line 6)",
     "output_type": "error",
     "traceback": [
      "\u001b[1;36m  File \u001b[1;32m\"C:\\Users\\Playdata\\AppData\\Local\\Temp\\ipykernel_8352\\2500833947.py\"\u001b[1;36m, line \u001b[1;32m6\u001b[0m\n\u001b[1;33m    elif m==4 , 6 , 9 , 11:\u001b[0m\n\u001b[1;37m              ^\u001b[0m\n\u001b[1;31mSyntaxError\u001b[0m\u001b[1;31m:\u001b[0m invalid syntax\n"
     ]
    }
   ],
   "source": [
    "thirty=list[4, 6,9,11]\n",
    "threeone=list[1,3,35,7,8,10,12]\n",
    "two=list[28]\n",
    "\n",
    "year=int(input('년도를 입력하세요'))\n",
    "def days(m):\n",
    "    if year%100==0 and year%400 !=0 or year%4 != 0:\n",
    "        if m== 1 or 3 or 5 or 7 or 8 or 10 or 12:\n",
    "            return 31\n",
    "        elif m==4 , 6 , 9 , 11:\n",
    "            return 30\n",
    "        else:\n",
    "            return 28\n",
    "print(days(11))\n",
    "print(days(2))\n",
    "print(days(1))"
   ]
  },
  {
   "cell_type": "code",
   "execution_count": 235,
   "id": "1ed29c2d-2e2b-436d-bd51-9943598f98e8",
   "metadata": {},
   "outputs": [
    {
     "name": "stdin",
     "output_type": "stream",
     "text": [
      "년도를 입력하세요 1900\n"
     ]
    },
    {
     "name": "stdout",
     "output_type": "stream",
     "text": [
      "30\n",
      "28\n",
      "31\n"
     ]
    }
   ],
   "source": [
    "thirty=[4,6,9,11]\n",
    "threeone=[1,3,35,7,8,10,12]\n",
    "two=[2]\n",
    "\n",
    "year=int(input('년도를 입력하세요'))\n",
    "def days(m):\n",
    "    if year%100==0 and year%400 !=0 or year%4 != 0:\n",
    "        if m in threeone:\n",
    "            return 31\n",
    "        elif m in thirty:\n",
    "            return 30\n",
    "        else:\n",
    "            return 28\n",
    "print(days(11))\n",
    "print(days(2))\n",
    "print(days(1))\n",
    "\n",
    "#투플에 대해 갖고와서 in"
   ]
  },
  {
   "cell_type": "code",
   "execution_count": 237,
   "id": "26b57618-920e-42c8-8418-8ba0915bfbe0",
   "metadata": {},
   "outputs": [
    {
     "name": "stdout",
     "output_type": "stream",
     "text": [
      "30\n",
      "31\n",
      "28\n",
      "29\n"
     ]
    }
   ],
   "source": [
    "thirty=[4,6,9,11]\n",
    "threeone=[1,3,35,7,8,10,12]\n",
    "two=[2]\n",
    "\n",
    "def days(y,m):\n",
    "    if y%100==0 and y%400 != 0: # 평년\n",
    "        if m in threeone:\n",
    "            return 31\n",
    "        elif m in thirty:\n",
    "            return 30\n",
    "        elif m in two:\n",
    "            return 28\n",
    "    else: #윤년\n",
    "        if m in threeone:\n",
    "            return 31\n",
    "        elif m in thirty:\n",
    "            return 30\n",
    "        elif m in two:\n",
    "            return 29\n",
    "        \n",
    "    \n",
    "print(days(1900,11))\n",
    "print(days(2004,10))\n",
    "print(days(1900,2))\n",
    "print(days(2000,2))"
   ]
  },
  {
   "cell_type": "code",
   "execution_count": 242,
   "id": "04fb6dae-6782-4230-89ab-4e343f2be25f",
   "metadata": {},
   "outputs": [
    {
     "name": "stdout",
     "output_type": "stream",
     "text": [
      "30\n",
      "31\n",
      "28\n",
      "29\n"
     ]
    }
   ],
   "source": [
    "def days(y,m):\n",
    "    if m in [1,3,5,7,8,10,12]:\n",
    "        return 31\n",
    "    elif m in [4,6,9,11]:\n",
    "        return 30\n",
    "    elif y%4==0 and (y%100 != 0 or y% 400 == 0):\n",
    "        return 29\n",
    "    else:\n",
    "        return 28\n",
    "    \n",
    "print(days(1900,11))\n",
    "print(days(2004,10))\n",
    "print(days(1900,2))\n",
    "print(days(2000,2))"
   ]
  },
  {
   "cell_type": "markdown",
   "id": "de97d77a-85c4-46a3-8bde-6da32b68a52d",
   "metadata": {},
   "source": [
    "Global variable = \"This is global world.\" #전역 변수 선언\n",
    "print(f\"global_variable in global scope=› {global variable}\")\n",
    "print(hex/id(global_variable)))\n",
    "def local world():\n",
    "print(f\"global_variable in local_world=> (global_variable}\")\n",
    "print(hex(1d(global_variable))\n",
    "☆ 함수\n",
    "scope)에 대한 조회\n",
    "local_world()"
   ]
  },
  {
   "cell_type": "code",
   "execution_count": 243,
   "id": "d2609142-0674-4a97-9501-f173a1e70fc7",
   "metadata": {},
   "outputs": [
    {
     "ename": "NameError",
     "evalue": "name 'my_variable' is not defined",
     "output_type": "error",
     "traceback": [
      "\u001b[1;31m---------------------------------------------------------------------------\u001b[0m",
      "\u001b[1;31mNameError\u001b[0m                                 Traceback (most recent call last)",
      "\u001b[1;32m~\\AppData\\Local\\Temp\\ipykernel_8352\\938299132.py\u001b[0m in \u001b[0;36m<module>\u001b[1;34m\u001b[0m\n\u001b[0;32m      1\u001b[0m \u001b[1;32mdef\u001b[0m \u001b[0mmy_little_world\u001b[0m\u001b[1;33m(\u001b[0m\u001b[1;33m)\u001b[0m\u001b[1;33m:\u001b[0m\u001b[1;33m\u001b[0m\u001b[1;33m\u001b[0m\u001b[0m\n\u001b[0;32m      2\u001b[0m     \u001b[0mmy_variable\u001b[0m\u001b[1;33m=\u001b[0m\u001b[1;34m'This ih my little world'\u001b[0m\u001b[1;33m\u001b[0m\u001b[1;33m\u001b[0m\u001b[0m\n\u001b[1;32m----> 3\u001b[1;33m \u001b[0mprint\u001b[0m\u001b[1;33m(\u001b[0m\u001b[0mmy_variable\u001b[0m\u001b[1;33m)\u001b[0m\u001b[1;33m\u001b[0m\u001b[1;33m\u001b[0m\u001b[0m\n\u001b[0m",
      "\u001b[1;31mNameError\u001b[0m: name 'my_variable' is not defined"
     ]
    }
   ],
   "source": [
    "def my_little_world():\n",
    "    my_variable='This ih my little world'\n",
    "print(my_variable)"
   ]
  },
  {
   "cell_type": "code",
   "execution_count": 244,
   "id": "5b8064a0-7f09-406c-bb2b-c1cc22345b90",
   "metadata": {},
   "outputs": [],
   "source": [
    "def level1():\n",
    "    message = 'this is level 1'\n",
    "    def level2():\n",
    "        print(message)\n",
    "    level2()"
   ]
  },
  {
   "cell_type": "code",
   "execution_count": 249,
   "id": "8d5ddc34-67d1-4c47-8752-fd7385a0f706",
   "metadata": {},
   "outputs": [
    {
     "name": "stdout",
     "output_type": "stream",
     "text": [
      "this is level 1\n"
     ]
    }
   ],
   "source": [
    "def level1():\n",
    "    message = 'this is level 1'\n",
    "    def level2():#바깥쪽 함수영역의 변수값 변경에 실패했다\n",
    "        message='level2 is better than level1'\n",
    "    level2()\n",
    "    print(message)\n",
    "level1()"
   ]
  },
  {
   "cell_type": "code",
   "execution_count": 251,
   "id": "882df395-f877-4b3c-941e-45cf2cc58a54",
   "metadata": {},
   "outputs": [
    {
     "name": "stdout",
     "output_type": "stream",
     "text": [
      "level2 is better than level1\n"
     ]
    }
   ],
   "source": [
    "def level1():\n",
    "    message = 'this is level 1'\n",
    "    def level2():#nonlocal 키워드를 통해 바깥 영역의 변수를 사용ㅎ가ㅔㅆ다고 설정\n",
    "        nonlocal message#안쪽 함수에서 바깥쪽 함수에 접근.\n",
    "        message='level2 is better than level1'\n",
    "    level2()\n",
    "    print(message)\n",
    "level1()"
   ]
  },
  {
   "cell_type": "code",
   "execution_count": null,
   "id": "58dd592c-d539-4378-81ad-36456823763c",
   "metadata": {},
   "outputs": [],
   "source": [
    "#글로벌: 함수 중첩 정도 산관없이 전역범위 변수 매칭\n",
    "#중ㅇ첩된 함수마다 같은 이름의 변수가 있을떄 논로컬 키워드는 가장 가까운 바깥 함수 매칭함\n",
    "#가급적이면 함수마다 이름이 같은 변수를 사용하기보다는 다른 변수명을 사용하는 것이 좋음. "
   ]
  },
  {
   "cell_type": "code",
   "execution_count": null,
   "id": "159ec92b-4ee7-494e-9993-a8422857191a",
   "metadata": {},
   "outputs": [],
   "source": [
    "def heartbreaker():\n",
    "    global global_variable"
   ]
  },
  {
   "cell_type": "code",
   "execution_count": null,
   "id": "1a5d1f1a-39aa-414d-a559-30178a36c619",
   "metadata": {},
   "outputs": [],
   "source": [
    "#함수안에서 선ㅅ언한 변수는 호출해 실행되니ㅡㄴ 동안만 사용할 수있음\n",
    "#범위마다 같은 이름의 변수를 사용해도 각각 독립적으로 동작함\n",
    "#지역변수를 저장하는 이름 공간을 지역영역이라고 함\n",
    "#전역변수를 저장하는 이름 공간을 전역영역라고 합니다. \n",
    "#파이썬 자체에서 정의한 이름 공간을 내장영역이라고 합니다. \n",
    "#함수에서 변수를 호출하면 지역영역-> 전역영역 -> 내장영역 순으로 해당하는 변수를확인합니다. 작은것에서 더 큰 영역으로 넓힘."
   ]
  },
  {
   "cell_type": "code",
   "execution_count": null,
   "id": "80c4e9de-03b1-4a9c-8615-b824fa5eeda4",
   "metadata": {},
   "outputs": [],
   "source": [
    "#람다\n",
    "lambda[params]:expression\n",
    "\n",
    "#아래가 함수 표현식\n",
    "def func_name(param):\n",
    "    return expression"
   ]
  },
  {
   "cell_type": "code",
   "execution_count": 252,
   "id": "19e25052-138b-4072-9071-72f592b19b56",
   "metadata": {},
   "outputs": [
    {
     "data": {
      "text/plain": [
       "20"
      ]
     },
     "execution_count": 252,
     "metadata": {},
     "output_type": "execute_result"
    }
   ],
   "source": [
    "(lambda x:x+10)(10)#첫괄호가 func1이라고 가정. (10)을 x에 넣어줌.\n",
    "#lambda[params]:expression)(arguments)"
   ]
  },
  {
   "cell_type": "code",
   "execution_count": 253,
   "id": "0d9042bb-a163-4d7c-bc17-081903cd7a3d",
   "metadata": {},
   "outputs": [
    {
     "name": "stdout",
     "output_type": "stream",
     "text": [
      "20\n"
     ]
    }
   ],
   "source": [
    "twice = lambda x:x*2 #특정 객체에 접근하게 할 수 있는 label이라고 생각할 수도 있을듯.\n",
    "print(twice(10))\n",
    "#variable=lambda[params]:expression)(arguments)\n",
    "#variable(arguments)"
   ]
  },
  {
   "cell_type": "code",
   "execution_count": 254,
   "id": "e8f19a39-466f-4b13-bc9d-358456572395",
   "metadata": {},
   "outputs": [
    {
     "ename": "SyntaxError",
     "evalue": "invalid syntax (4072481179.py, line 1)",
     "output_type": "error",
     "traceback": [
      "\u001b[1;36m  File \u001b[1;32m\"C:\\Users\\Playdata\\AppData\\Local\\Temp\\ipykernel_8352\\4072481179.py\"\u001b[1;36m, line \u001b[1;32m1\u001b[0m\n\u001b[1;33m    (lambda x: y=10;x+y)(1)\u001b[0m\n\u001b[1;37m                ^\u001b[0m\n\u001b[1;31mSyntaxError\u001b[0m\u001b[1;31m:\u001b[0m invalid syntax\n"
     ]
    }
   ],
   "source": [
    "(lambda x: y=10;x+y)(1)#람다 표현식 안에 새 변수를 만들수는 없은. 변수 필요한 경우 def 써서 함수 정의해서 사용하는 것 ㅊㅊ"
   ]
  },
  {
   "cell_type": "code",
   "execution_count": 255,
   "id": "5ea72b26-0851-4a54-8d4f-e63ae873631b",
   "metadata": {},
   "outputs": [
    {
     "data": {
      "text/plain": [
       "'B'"
      ]
     },
     "execution_count": 255,
     "metadata": {},
     "output_type": "execute_result"
    }
   ],
   "source": [
    "#True 일때 값 if조건식 else False일때값\n",
    "\n",
    "score=90\n",
    "'A' if 90<score<=100 else 'B' if 80<score else 'C'\n",
    "\n",
    "#if else를 한줄로 작성하는 법. 람다에 사용하면 활용도 굿. if만 사용할 수는 없음. 반드시 else와 같이 써야함.\n",
    "#중첩해서 사용 가능하지만 너무 많아지면 파악이 어려우니 가독성 좋게 쓰는게 좋을 것임. "
   ]
  },
  {
   "cell_type": "code",
   "execution_count": 257,
   "id": "1a25b6ce-7657-45dc-ba5f-7301d256a65b",
   "metadata": {},
   "outputs": [
    {
     "name": "stdout",
     "output_type": "stream",
     "text": [
      "[2, 8, 18, 32, 50]\n"
     ]
    }
   ],
   "source": [
    "#map(lambda param1, param2, ..: expression, iterable1, iterable1,..)\n",
    "\n",
    "a=[_ for _ in range(1,6)]\n",
    "b=[_ for _ in range(2,11,2)]\n",
    "print(list(map(lambda x,y: x*y ,a,b)))"
   ]
  },
  {
   "cell_type": "code",
   "execution_count": 258,
   "id": "8ccd1a44-9a79-43d8-8d90-00e32d34044e",
   "metadata": {
    "tags": []
   },
   "outputs": [
    {
     "data": {
      "text/plain": [
       "[3, 9, 9]"
      ]
     },
     "execution_count": 258,
     "metadata": {},
     "output_type": "execute_result"
    }
   ],
   "source": [
    "#map(lambda param: expression, iterable)#저 익스프레션이 트루일때만\n",
    "#filter()의 첫 인수로 들어가는 함수의 반환값이 트루일때만 해당요소를 갖고옴.\n",
    "#속도와 가독성 모두 리스트 컴프리가 나아서 그거 더 ㅊㅊ\n",
    "\n",
    "a=[3,2,8,22,10,7,0,11,9,9]\n",
    "list(filter(lambda x:x%3==0 and 0 < x< 10,a))"
   ]
  },
  {
   "cell_type": "code",
   "execution_count": null,
   "id": "c4299689-9758-443d-978a-9c6f1b940318",
   "metadata": {},
   "outputs": [],
   "source": [
    "class className: #클래스명으로 주로 pascal case로 함. UpperCamelCase이케. 단어 앞문자마자 대문자. \n",
    "    def method_name(self):\n",
    "        method_body\n",
    "        \n",
    "    class_body\n",
    "#사용자 정의 객체를 만들기 위한 주형(설계)라고 생각해라. 클래스 종의는 보통 클래스의 인스턴스를 대상으로 연산하는 메서드 정의를 포함하고 있다(=걍 메서드가 있다)\n"
   ]
  },
  {
   "cell_type": "code",
   "execution_count": 259,
   "id": "a69cd8ab-7349-4aa6-994b-a47133e83b53",
   "metadata": {},
   "outputs": [
    {
     "name": "stdout",
     "output_type": "stream",
     "text": [
      "안녕하세요\n"
     ]
    }
   ],
   "source": [
    "class Person:\n",
    "    def __init__(self):\n",
    "        self.hello = '안녕하세요'\n",
    "    \n",
    "    def greeting(self):\n",
    "        print(self.hello)\n",
    "james=Person()\n",
    "james.greeting()"
   ]
  },
  {
   "cell_type": "code",
   "execution_count": null,
   "id": "60e60748-96d2-4a71-8dcc-4c27f9827b7d",
   "metadata": {},
   "outputs": [],
   "source": [
    "'''\n",
    "class ClassName:\n",
    "    def __init__(self):\n",
    "        self.속성 = 값"
   ]
  },
  {
   "cell_type": "code",
   "execution_count": null,
   "id": "67704181-6393-458c-ac47-4940b7897001",
   "metadata": {},
   "outputs": [],
   "source": [
    "__init__메서드는 james=Person()"
   ]
  },
  {
   "cell_type": "code",
   "execution_count": null,
   "id": "4a844a21-96a9-45bd-a6eb-0f4ab8276e6e",
   "metadata": {},
   "outputs": [],
   "source": []
  },
  {
   "cell_type": "code",
   "execution_count": null,
   "id": "d8683d2c-77a2-4c0f-bc2a-acfc818008c5",
   "metadata": {},
   "outputs": [],
   "source": []
  },
  {
   "cell_type": "code",
   "execution_count": null,
   "id": "8a681ff7-6d9b-4c09-8884-74a67e7811e4",
   "metadata": {},
   "outputs": [],
   "source": []
  },
  {
   "cell_type": "code",
   "execution_count": null,
   "id": "d94f57a5-6d7e-4e53-922d-7ad673b2780d",
   "metadata": {},
   "outputs": [],
   "source": []
  }
 ],
 "metadata": {
  "kernelspec": {
   "display_name": "Python 3 (ipykernel)",
   "language": "python",
   "name": "python3"
  },
  "language_info": {
   "codemirror_mode": {
    "name": "ipython",
    "version": 3
   },
   "file_extension": ".py",
   "mimetype": "text/x-python",
   "name": "python",
   "nbconvert_exporter": "python",
   "pygments_lexer": "ipython3",
   "version": "3.9.13"
  }
 },
 "nbformat": 4,
 "nbformat_minor": 5
}
